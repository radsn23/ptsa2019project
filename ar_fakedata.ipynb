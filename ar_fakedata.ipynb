{
 "cells": [
  {
   "cell_type": "code",
   "execution_count": 1,
   "metadata": {},
   "outputs": [
    {
     "name": "stderr",
     "output_type": "stream",
     "text": [
      "/Users/shreyasc/anaconda3/envs/timeseries/lib/python3.6/importlib/_bootstrap.py:219: RuntimeWarning: numpy.dtype size changed, may indicate binary incompatibility. Expected 96, got 88\n",
      "  return f(*args, **kwds)\n",
      "/Users/shreyasc/anaconda3/envs/timeseries/lib/python3.6/importlib/_bootstrap.py:219: RuntimeWarning: numpy.dtype size changed, may indicate binary incompatibility. Expected 96, got 88\n",
      "  return f(*args, **kwds)\n",
      "/Users/shreyasc/anaconda3/envs/timeseries/lib/python3.6/site-packages/statsmodels/compat/pandas.py:56: FutureWarning: The pandas.core.datetools module is deprecated and will be removed in a future version. Please use the pandas.tseries module instead.\n",
      "  from pandas.core import datetools\n",
      "/Users/shreyasc/anaconda3/envs/timeseries/lib/python3.6/importlib/_bootstrap.py:219: RuntimeWarning: numpy.dtype size changed, may indicate binary incompatibility. Expected 96, got 88\n",
      "  return f(*args, **kwds)\n",
      "/Users/shreyasc/anaconda3/envs/timeseries/lib/python3.6/importlib/_bootstrap.py:219: RuntimeWarning: numpy.dtype size changed, may indicate binary incompatibility. Expected 96, got 88\n",
      "  return f(*args, **kwds)\n"
     ]
    }
   ],
   "source": [
    "import statsmodels\n",
    "from statsmodels.tsa.stattools import acf, ccf, pacf\n",
    "from statsmodels.graphics.tsaplots import plot_acf, plot_pacf\n",
    "from statsmodels.tsa.arima_model import ARIMA\n",
    "from statsmodels.graphics import utils\n",
    "import numpy as np\n",
    "import matplotlib.pyplot as plt\n",
    "import pandas as pd\n",
    "import statsmodels.api as sm\n",
    "from statsmodels.graphics.api import qqplot\n",
    "import seaborn as sns\n",
    "import os\n",
    "\n",
    "DATA_DIR = './data/'"
   ]
  },
  {
   "cell_type": "markdown",
   "metadata": {},
   "source": [
    "### Metrics functions"
   ]
  },
  {
   "cell_type": "code",
   "execution_count": 2,
   "metadata": {},
   "outputs": [],
   "source": [
    "def mrse(actuals, preds):\n",
    "    actuals = np.array(actuals)\n",
    "    preds = np.array(preds)\n",
    "    denom = np.sqrt(np.sum(np.square(actuals - np.mean(actuals))))\n",
    "    num = np.sqrt(np.sum(np.square(actuals - preds)))\n",
    "    return 1.0*num/denom\n",
    "\n",
    "def re(actuals, preds):\n",
    "    actuals = np.array(actuals)\n",
    "    preds = np.array(preds)\n",
    "    denom = np.sqrt(np.sum(np.square(actuals)))\n",
    "    num = np.sqrt(np.sum(np.square(actuals - preds)))\n",
    "    return 1.0*num/denom\n",
    "\n",
    "def error(actuals, preds):\n",
    "    actuals = np.array(actuals)\n",
    "    preds = np.array(preds)\n",
    "    return np.sqrt(np.mean(np.square(actuals-preds)))"
   ]
  },
  {
   "cell_type": "markdown",
   "metadata": {},
   "source": [
    "## Reading Nino 3.4 data"
   ]
  },
  {
   "cell_type": "code",
   "execution_count": 3,
   "metadata": {},
   "outputs": [],
   "source": [
    "filename = 'nino34_data.txt'"
   ]
  },
  {
   "cell_type": "markdown",
   "metadata": {},
   "source": [
    "## Reading Nino 1.2 data"
   ]
  },
  {
   "cell_type": "code",
   "execution_count": 4,
   "metadata": {},
   "outputs": [],
   "source": [
    "# filename = 'nino12_data.txt'"
   ]
  },
  {
   "cell_type": "code",
   "execution_count": 5,
   "metadata": {},
   "outputs": [],
   "source": [
    "data = open(DATA_DIR + filename)\n",
    "data_dict = {}\n",
    "\n",
    "for line in data.readlines()[1:-3]:\n",
    "    \n",
    "    tokens = line.split(' ')\n",
    "    values = []\n",
    "    for token in tokens:\n",
    "        if token == '':\n",
    "            pass\n",
    "        else:\n",
    "            if '\\n' in token:\n",
    "                token = token[:-2]\n",
    "            values.append(float(token))\n",
    "    data_dict.update({values[0]:values[1:]})"
   ]
  },
  {
   "cell_type": "code",
   "execution_count": 6,
   "metadata": {},
   "outputs": [
    {
     "name": "stdout",
     "output_type": "stream",
     "text": [
      "1948.0 [-99.99, -99.99, -99.99, -99.99, -99.99, -99.99, -99.99, -99.99, -99.99, -99.99, -99.99, -99.9]\n",
      "1949.0 [-99.99, -99.99, -99.99, -99.99, -99.99, -99.99, -99.99, -99.99, -99.99, -99.99, -99.99, -99.9]\n",
      "1950.0 [24.55, 25.06, 25.87, 26.28, 26.18, 26.46, 26.29, 25.88, 25.74, 25.69, 25.47, 25.2]\n",
      "1951.0 [25.24, 25.71, 26.9, 27.58, 27.92, 27.73, 27.6, 27.02, 27.23, 27.2, 27.25, 26.9]\n",
      "1952.0 [26.67, 26.74, 27.17, 27.8, 27.79, 27.18, 26.53, 26.3, 26.36, 26.26, 25.92, 26.2]\n",
      "1953.0 [26.74, 27.0, 27.57, 28.04, 28.28, 28.12, 27.43, 26.94, 27.01, 26.87, 26.88, 27.0]\n",
      "1954.0 [26.98, 27.03, 26.9, 26.64, 27.12, 26.8, 26.11, 25.43, 25.12, 25.23, 25.57, 25.2]\n",
      "1955.0 [25.61, 25.81, 26.22, 26.6, 26.66, 26.55, 26.15, 25.51, 25.28, 24.41, 24.25, 24.5]\n",
      "1956.0 [25.34, 25.76, 26.46, 26.85, 27.13, 26.81, 26.23, 25.68, 25.73, 25.75, 25.56, 25.7]\n",
      "1957.0 [26.04, 26.54, 27.46, 28.23, 28.55, 28.36, 28.17, 27.69, 27.44, 27.42, 27.62, 27.9]\n",
      "1958.0 [28.33, 28.24, 28.27, 28.27, 28.31, 27.99, 27.32, 26.85, 26.4, 26.45, 26.75, 26.6]\n",
      "1959.0 [27.07, 27.18, 27.47, 27.88, 27.7, 27.37, 26.44, 26.09, 25.92, 26.24, 26.04, 26.1]\n",
      "1960.0 [26.27, 26.29, 26.98, 27.49, 27.68, 27.24, 26.88, 26.7, 26.44, 26.22, 26.26, 26.2]\n",
      "1961.0 [26.23, 26.56, 26.94, 27.36, 27.75, 27.67, 26.89, 26.19, 25.78, 25.71, 26.07, 25.9]\n",
      "1962.0 [25.96, 26.19, 26.8, 27.13, 27.05, 27.08, 26.76, 26.33, 25.94, 25.97, 25.75, 25.6]\n",
      "1963.0 [25.77, 26.22, 27.18, 27.78, 27.63, 27.62, 27.78, 27.48, 27.4, 27.36, 27.47, 27.6]\n",
      "1964.0 [27.34, 27.13, 27.02, 26.95, 26.82, 26.59, 26.33, 25.6, 25.32, 25.37, 25.26, 25.2]\n",
      "1965.0 [25.66, 26.19, 26.94, 27.38, 27.99, 28.09, 27.9, 27.97, 28.01, 28.17, 28.12, 27.9]\n",
      "1966.0 [27.67, 27.55, 28.21, 28.16, 27.55, 27.64, 27.33, 26.48, 26.27, 26.22, 26.23, 26.0]\n",
      "1967.0 [25.88, 26.11, 26.5, 26.74, 27.35, 27.47, 26.97, 26.44, 25.86, 25.97, 26.08, 25.9]\n",
      "1968.0 [25.69, 25.68, 26.33, 27.1, 27.19, 27.88, 27.58, 27.01, 26.72, 26.75, 27.2, 27.2]\n",
      "1969.0 [27.5, 27.86, 27.82, 28.13, 28.29, 27.69, 27.08, 27.02, 27.15, 27.34, 27.1, 26.9]\n",
      "1970.0 [26.83, 26.95, 27.14, 27.74, 27.63, 27.04, 26.21, 25.6, 25.65, 25.6, 25.57, 25.2]\n",
      "1971.0 [24.81, 25.18, 25.92, 26.63, 26.95, 26.6, 26.13, 25.75, 25.72, 25.47, 25.56, 25.3]\n",
      "1972.0 [25.62, 26.3, 27.09, 27.89, 28.32, 28.18, 28.14, 27.95, 27.95, 28.26, 28.61, 28.6]\n",
      "1973.0 [28.34, 27.95, 27.55, 27.24, 26.96, 26.55, 25.76, 25.22, 25.06, 24.73, 24.33, 24.3]\n",
      "1974.0 [24.46, 25.1, 25.84, 26.46, 26.64, 26.53, 26.39, 26.33, 26.08, 25.78, 25.61, 25.6]\n",
      "1975.0 [26.09, 26.07, 26.19, 26.86, 26.8, 26.23, 25.9, 25.33, 25.05, 24.89, 25.05, 24.6]\n",
      "1976.0 [24.54, 25.49, 26.46, 26.88, 27.2, 27.35, 27.13, 26.98, 27.02, 27.46, 27.41, 27.0]\n",
      "1977.0 [27.32, 27.13, 27.47, 27.44, 27.72, 27.74, 27.38, 26.85, 27.12, 27.35, 27.19, 27.2]\n",
      "1978.0 [27.17, 27.0, 27.09, 27.12, 27.2, 27.02, 26.74, 26.07, 26.01, 26.25, 26.33, 26.5]\n",
      "1979.0 [26.41, 26.53, 27.27, 27.83, 27.69, 27.43, 26.82, 26.75, 26.99, 26.83, 26.99, 27.1]\n",
      "1980.0 [27.08, 26.97, 27.31, 27.75, 28.01, 27.94, 27.23, 26.48, 26.44, 26.46, 26.6, 26.6]\n",
      "1981.0 [26.18, 26.11, 26.64, 27.29, 27.36, 27.27, 26.65, 26.33, 26.53, 26.42, 26.29, 26.4]\n",
      "1982.0 [26.67, 26.59, 27.41, 28.03, 28.39, 28.26, 27.66, 27.58, 28.21, 28.71, 28.62, 28.8]\n",
      "1983.0 [28.89, 28.69, 28.66, 28.77, 28.84, 28.27, 27.18, 26.59, 26.2, 25.56, 25.41, 25.5]\n",
      "1984.0 [25.88, 26.56, 26.77, 27.14, 27.2, 26.83, 26.79, 26.61, 26.38, 26.04, 25.52, 25.2]\n",
      "1985.0 [25.38, 26.03, 26.5, 26.64, 26.9, 26.81, 26.56, 26.3, 26.02, 26.23, 26.33, 26.1]\n",
      "1986.0 [25.89, 26.05, 26.87, 27.49, 27.4, 27.42, 27.18, 27.17, 27.24, 27.53, 27.71, 27.7]\n",
      "1987.0 [27.68, 27.88, 28.27, 28.39, 28.56, 28.65, 28.59, 28.42, 28.36, 27.96, 27.77, 27.5]\n",
      "1988.0 [27.45, 27.03, 27.38, 27.38, 26.68, 25.99, 25.56, 25.66, 25.72, 24.82, 24.65, 24.6]\n",
      "1989.0 [24.58, 25.28, 26.08, 26.74, 27.06, 27.14, 26.72, 26.33, 26.42, 26.32, 26.25, 26.4]\n",
      "1990.0 [26.56, 26.96, 27.33, 27.9, 28.02, 27.64, 27.38, 27.07, 26.94, 26.93, 26.81, 26.9]\n",
      "1991.0 [27.03, 27.07, 27.32, 28.01, 28.2, 28.25, 28.05, 27.53, 27.14, 27.58, 27.9, 28.2]\n",
      "1992.0 [28.38, 28.53, 28.66, 29.02, 28.98, 28.3, 27.51, 26.91, 26.65, 26.42, 26.42, 26.4]\n",
      "1993.0 [26.69, 27.16, 27.67, 28.41, 28.71, 28.08, 27.52, 26.99, 27.07, 26.77, 26.71, 26.7]\n",
      "1994.0 [26.64, 26.81, 27.39, 28.08, 28.24, 28.04, 27.54, 27.38, 27.2, 27.47, 27.81, 27.8]\n",
      "1995.0 [27.57, 27.49, 27.75, 28.1, 27.82, 27.59, 27.08, 26.23, 25.88, 25.84, 25.6, 25.6]\n",
      "1996.0 [25.69, 25.89, 26.67, 27.35, 27.55, 27.29, 26.85, 26.64, 26.27, 26.27, 26.29, 25.9]\n",
      "1997.0 [26.01, 26.38, 27.04, 27.98, 28.58, 28.82, 28.86, 28.75, 28.85, 29.08, 29.12, 28.8]\n",
      "1998.0 [28.93, 28.78, 28.62, 28.6, 28.51, 27.34, 26.3, 25.57, 25.46, 25.25, 25.24, 24.9]\n",
      "1999.0 [24.86, 25.43, 26.33, 26.7, 26.79, 26.53, 26.13, 25.63, 25.63, 25.48, 25.12, 24.8]\n",
      "2000.0 [24.78, 25.21, 26.3, 26.95, 27.07, 26.94, 26.63, 26.37, 26.2, 26.02, 25.92, 25.6]\n",
      "2001.0 [25.81, 26.12, 26.8, 27.33, 27.6, 27.54, 27.25, 26.8, 26.52, 26.57, 26.33, 26.1]\n",
      "2002.0 [26.39, 26.71, 27.29, 27.84, 28.24, 28.44, 28.03, 27.72, 27.81, 27.96, 28.17, 27.9]\n",
      "2003.0 [27.15, 27.39, 27.65, 27.68, 27.32, 27.44, 27.5, 27.11, 26.99, 27.14, 27.04, 27.0]\n",
      "2004.0 [26.81, 26.98, 27.4, 27.89, 28.0, 27.86, 27.78, 27.62, 27.53, 27.44, 27.36, 27.3]\n",
      "2005.0 [27.21, 27.11, 27.73, 28.08, 28.24, 27.77, 27.06, 26.8, 26.68, 26.65, 26.11, 25.6]\n",
      "2006.0 [25.63, 26.08, 26.57, 27.5, 27.85, 27.73, 27.3, 27.16, 27.32, 27.41, 27.69, 27.7]\n",
      "2007.0 [27.24, 26.88, 27.1, 27.5, 27.46, 27.37, 26.71, 26.14, 25.61, 25.32, 25.17, 25.0]\n",
      "2008.0 [24.86, 25.08, 26.07, 26.83, 27.09, 27.04, 26.99, 26.72, 26.47, 26.37, 26.25, 25.7]\n",
      "2009.0 [25.66, 25.96, 26.59, 27.47, 27.99, 28.04, 27.78, 27.42, 27.4, 27.6, 28.16, 28.3]\n",
      "2010.0 [28.07, 28.01, 28.18, 28.2, 27.71, 27.04, 26.22, 25.47, 25.12, 25.03, 25.06, 25.0]\n",
      "2011.0 [25.0, 25.64, 26.36, 27.05, 27.41, 27.35, 26.87, 26.21, 25.92, 25.67, 25.52, 25.5]\n",
      "2012.0 [25.67, 26.08, 26.67, 27.32, 27.61, 27.75, 27.54, 27.32, 27.1, 26.98, 26.86, 26.3]\n",
      "2013.0 [26.01, 26.24, 27.03, 27.57, 27.53, 27.3, 26.91, 26.47, 26.54, 26.52, 26.56, 26.4]\n",
      "2014.0 [26.05, 26.14, 27.0, 27.9, 28.25, 27.96, 27.23, 26.82, 27.01, 27.16, 27.46, 27.3]\n",
      "2015.0 [27.05, 27.17, 27.75, 28.52, 28.85, 28.9, 28.75, 28.79, 28.93, 29.08, 29.42, 29.2]\n",
      "2016.0 [29.11, 29.01, 28.9, 28.72, 28.23, 27.69, 26.82, 26.28, 26.14, 25.98, 25.94, 26.1]\n",
      "2017.0 [26.12, 26.67, 27.32, 28.03, 28.3, 28.06, 27.54, 26.7, 26.29, 26.15, 25.74, 25.6]\n",
      "2018.0 [25.57, 25.97, 26.48, 27.31, 27.73, 27.77, 27.42, 26.94, 27.19, 27.62, 27.61, 27.4]\n",
      "2019.0 [27.2, 27.48, 28.1, 28.45, 28.5, 28.19, 27.66, 26.91, 26.76, 27.19, -99.99, -99.9]\n"
     ]
    }
   ],
   "source": [
    "for key,value in data_dict.items():\n",
    "    print(key,value)\n",
    "    assert len(value) == 12"
   ]
  },
  {
   "cell_type": "markdown",
   "metadata": {},
   "source": [
    "## Filtering data to have 1950 - 2008"
   ]
  },
  {
   "cell_type": "code",
   "execution_count": 7,
   "metadata": {},
   "outputs": [],
   "source": [
    "filtered_data = {int(year): data_dict[year] for year in data_dict.keys() if year >= 1950 and year <=2008 }"
   ]
  },
  {
   "cell_type": "code",
   "execution_count": 8,
   "metadata": {},
   "outputs": [
    {
     "name": "stdout",
     "output_type": "stream",
     "text": [
      "1950 [24.55, 25.06, 25.87, 26.28, 26.18, 26.46, 26.29, 25.88, 25.74, 25.69, 25.47, 25.2]\n",
      "1951 [25.24, 25.71, 26.9, 27.58, 27.92, 27.73, 27.6, 27.02, 27.23, 27.2, 27.25, 26.9]\n",
      "1952 [26.67, 26.74, 27.17, 27.8, 27.79, 27.18, 26.53, 26.3, 26.36, 26.26, 25.92, 26.2]\n",
      "1953 [26.74, 27.0, 27.57, 28.04, 28.28, 28.12, 27.43, 26.94, 27.01, 26.87, 26.88, 27.0]\n",
      "1954 [26.98, 27.03, 26.9, 26.64, 27.12, 26.8, 26.11, 25.43, 25.12, 25.23, 25.57, 25.2]\n",
      "1955 [25.61, 25.81, 26.22, 26.6, 26.66, 26.55, 26.15, 25.51, 25.28, 24.41, 24.25, 24.5]\n",
      "1956 [25.34, 25.76, 26.46, 26.85, 27.13, 26.81, 26.23, 25.68, 25.73, 25.75, 25.56, 25.7]\n",
      "1957 [26.04, 26.54, 27.46, 28.23, 28.55, 28.36, 28.17, 27.69, 27.44, 27.42, 27.62, 27.9]\n",
      "1958 [28.33, 28.24, 28.27, 28.27, 28.31, 27.99, 27.32, 26.85, 26.4, 26.45, 26.75, 26.6]\n",
      "1959 [27.07, 27.18, 27.47, 27.88, 27.7, 27.37, 26.44, 26.09, 25.92, 26.24, 26.04, 26.1]\n",
      "1960 [26.27, 26.29, 26.98, 27.49, 27.68, 27.24, 26.88, 26.7, 26.44, 26.22, 26.26, 26.2]\n",
      "1961 [26.23, 26.56, 26.94, 27.36, 27.75, 27.67, 26.89, 26.19, 25.78, 25.71, 26.07, 25.9]\n",
      "1962 [25.96, 26.19, 26.8, 27.13, 27.05, 27.08, 26.76, 26.33, 25.94, 25.97, 25.75, 25.6]\n",
      "1963 [25.77, 26.22, 27.18, 27.78, 27.63, 27.62, 27.78, 27.48, 27.4, 27.36, 27.47, 27.6]\n",
      "1964 [27.34, 27.13, 27.02, 26.95, 26.82, 26.59, 26.33, 25.6, 25.32, 25.37, 25.26, 25.2]\n",
      "1965 [25.66, 26.19, 26.94, 27.38, 27.99, 28.09, 27.9, 27.97, 28.01, 28.17, 28.12, 27.9]\n",
      "1966 [27.67, 27.55, 28.21, 28.16, 27.55, 27.64, 27.33, 26.48, 26.27, 26.22, 26.23, 26.0]\n",
      "1967 [25.88, 26.11, 26.5, 26.74, 27.35, 27.47, 26.97, 26.44, 25.86, 25.97, 26.08, 25.9]\n",
      "1968 [25.69, 25.68, 26.33, 27.1, 27.19, 27.88, 27.58, 27.01, 26.72, 26.75, 27.2, 27.2]\n",
      "1969 [27.5, 27.86, 27.82, 28.13, 28.29, 27.69, 27.08, 27.02, 27.15, 27.34, 27.1, 26.9]\n",
      "1970 [26.83, 26.95, 27.14, 27.74, 27.63, 27.04, 26.21, 25.6, 25.65, 25.6, 25.57, 25.2]\n",
      "1971 [24.81, 25.18, 25.92, 26.63, 26.95, 26.6, 26.13, 25.75, 25.72, 25.47, 25.56, 25.3]\n",
      "1972 [25.62, 26.3, 27.09, 27.89, 28.32, 28.18, 28.14, 27.95, 27.95, 28.26, 28.61, 28.6]\n",
      "1973 [28.34, 27.95, 27.55, 27.24, 26.96, 26.55, 25.76, 25.22, 25.06, 24.73, 24.33, 24.3]\n",
      "1974 [24.46, 25.1, 25.84, 26.46, 26.64, 26.53, 26.39, 26.33, 26.08, 25.78, 25.61, 25.6]\n",
      "1975 [26.09, 26.07, 26.19, 26.86, 26.8, 26.23, 25.9, 25.33, 25.05, 24.89, 25.05, 24.6]\n",
      "1976 [24.54, 25.49, 26.46, 26.88, 27.2, 27.35, 27.13, 26.98, 27.02, 27.46, 27.41, 27.0]\n",
      "1977 [27.32, 27.13, 27.47, 27.44, 27.72, 27.74, 27.38, 26.85, 27.12, 27.35, 27.19, 27.2]\n",
      "1978 [27.17, 27.0, 27.09, 27.12, 27.2, 27.02, 26.74, 26.07, 26.01, 26.25, 26.33, 26.5]\n",
      "1979 [26.41, 26.53, 27.27, 27.83, 27.69, 27.43, 26.82, 26.75, 26.99, 26.83, 26.99, 27.1]\n",
      "1980 [27.08, 26.97, 27.31, 27.75, 28.01, 27.94, 27.23, 26.48, 26.44, 26.46, 26.6, 26.6]\n",
      "1981 [26.18, 26.11, 26.64, 27.29, 27.36, 27.27, 26.65, 26.33, 26.53, 26.42, 26.29, 26.4]\n",
      "1982 [26.67, 26.59, 27.41, 28.03, 28.39, 28.26, 27.66, 27.58, 28.21, 28.71, 28.62, 28.8]\n",
      "1983 [28.89, 28.69, 28.66, 28.77, 28.84, 28.27, 27.18, 26.59, 26.2, 25.56, 25.41, 25.5]\n",
      "1984 [25.88, 26.56, 26.77, 27.14, 27.2, 26.83, 26.79, 26.61, 26.38, 26.04, 25.52, 25.2]\n",
      "1985 [25.38, 26.03, 26.5, 26.64, 26.9, 26.81, 26.56, 26.3, 26.02, 26.23, 26.33, 26.1]\n",
      "1986 [25.89, 26.05, 26.87, 27.49, 27.4, 27.42, 27.18, 27.17, 27.24, 27.53, 27.71, 27.7]\n",
      "1987 [27.68, 27.88, 28.27, 28.39, 28.56, 28.65, 28.59, 28.42, 28.36, 27.96, 27.77, 27.5]\n",
      "1988 [27.45, 27.03, 27.38, 27.38, 26.68, 25.99, 25.56, 25.66, 25.72, 24.82, 24.65, 24.6]\n",
      "1989 [24.58, 25.28, 26.08, 26.74, 27.06, 27.14, 26.72, 26.33, 26.42, 26.32, 26.25, 26.4]\n",
      "1990 [26.56, 26.96, 27.33, 27.9, 28.02, 27.64, 27.38, 27.07, 26.94, 26.93, 26.81, 26.9]\n",
      "1991 [27.03, 27.07, 27.32, 28.01, 28.2, 28.25, 28.05, 27.53, 27.14, 27.58, 27.9, 28.2]\n",
      "1992 [28.38, 28.53, 28.66, 29.02, 28.98, 28.3, 27.51, 26.91, 26.65, 26.42, 26.42, 26.4]\n",
      "1993 [26.69, 27.16, 27.67, 28.41, 28.71, 28.08, 27.52, 26.99, 27.07, 26.77, 26.71, 26.7]\n",
      "1994 [26.64, 26.81, 27.39, 28.08, 28.24, 28.04, 27.54, 27.38, 27.2, 27.47, 27.81, 27.8]\n",
      "1995 [27.57, 27.49, 27.75, 28.1, 27.82, 27.59, 27.08, 26.23, 25.88, 25.84, 25.6, 25.6]\n",
      "1996 [25.69, 25.89, 26.67, 27.35, 27.55, 27.29, 26.85, 26.64, 26.27, 26.27, 26.29, 25.9]\n",
      "1997 [26.01, 26.38, 27.04, 27.98, 28.58, 28.82, 28.86, 28.75, 28.85, 29.08, 29.12, 28.8]\n",
      "1998 [28.93, 28.78, 28.62, 28.6, 28.51, 27.34, 26.3, 25.57, 25.46, 25.25, 25.24, 24.9]\n",
      "1999 [24.86, 25.43, 26.33, 26.7, 26.79, 26.53, 26.13, 25.63, 25.63, 25.48, 25.12, 24.8]\n",
      "2000 [24.78, 25.21, 26.3, 26.95, 27.07, 26.94, 26.63, 26.37, 26.2, 26.02, 25.92, 25.6]\n",
      "2001 [25.81, 26.12, 26.8, 27.33, 27.6, 27.54, 27.25, 26.8, 26.52, 26.57, 26.33, 26.1]\n",
      "2002 [26.39, 26.71, 27.29, 27.84, 28.24, 28.44, 28.03, 27.72, 27.81, 27.96, 28.17, 27.9]\n",
      "2003 [27.15, 27.39, 27.65, 27.68, 27.32, 27.44, 27.5, 27.11, 26.99, 27.14, 27.04, 27.0]\n",
      "2004 [26.81, 26.98, 27.4, 27.89, 28.0, 27.86, 27.78, 27.62, 27.53, 27.44, 27.36, 27.3]\n",
      "2005 [27.21, 27.11, 27.73, 28.08, 28.24, 27.77, 27.06, 26.8, 26.68, 26.65, 26.11, 25.6]\n",
      "2006 [25.63, 26.08, 26.57, 27.5, 27.85, 27.73, 27.3, 27.16, 27.32, 27.41, 27.69, 27.7]\n",
      "2007 [27.24, 26.88, 27.1, 27.5, 27.46, 27.37, 26.71, 26.14, 25.61, 25.32, 25.17, 25.0]\n",
      "2008 [24.86, 25.08, 26.07, 26.83, 27.09, 27.04, 26.99, 26.72, 26.47, 26.37, 26.25, 25.7]\n"
     ]
    }
   ],
   "source": [
    "for key,value in filtered_data.items():\n",
    "    print(key,value)\n",
    "    assert len(value) == 12"
   ]
  },
  {
   "cell_type": "markdown",
   "metadata": {},
   "source": [
    "## Reading Nino 3.4 Anomaly data"
   ]
  },
  {
   "cell_type": "code",
   "execution_count": 9,
   "metadata": {},
   "outputs": [],
   "source": [
    "# filename = 'nino34_anomalies.txt'"
   ]
  },
  {
   "cell_type": "code",
   "execution_count": 10,
   "metadata": {},
   "outputs": [],
   "source": [
    "# anomaly_data = open(DATA_DIR + filename)\n",
    "# anomaly_data_dict = {}\n",
    "\n",
    "# for line in anomaly_data.readlines():  \n",
    "#     _,year,value = line.split(' ')\n",
    "#     value = float(value[:-2])\n",
    "#     year = int(float(year))\n",
    "#     if year in anomaly_data_dict:\n",
    "#         anomaly_data_dict[year]=anomaly_data_dict[year]+[value]\n",
    "#     else:\n",
    "#         anomaly_data_dict.update({year:[value]})"
   ]
  },
  {
   "cell_type": "code",
   "execution_count": 11,
   "metadata": {},
   "outputs": [],
   "source": [
    "# for key,value in anomaly_data_dict.items():\n",
    "#     print(key,value)\n",
    "#     assert len(value) == 12"
   ]
  },
  {
   "cell_type": "markdown",
   "metadata": {},
   "source": [
    "## Flattening time series data"
   ]
  },
  {
   "cell_type": "code",
   "execution_count": 12,
   "metadata": {},
   "outputs": [],
   "source": [
    "filtered_ts = np.array([])\n",
    "filtered_ts = np.array([np.concatenate((filtered_ts,val)) for val in filtered_data.values()]).flatten()"
   ]
  },
  {
   "cell_type": "code",
   "execution_count": 13,
   "metadata": {},
   "outputs": [],
   "source": [
    "assert len(filtered_ts) == (2008-1950+1)*12"
   ]
  },
  {
   "cell_type": "code",
   "execution_count": 14,
   "metadata": {},
   "outputs": [],
   "source": [
    "# filtered_anomalies = np.array([])\n",
    "# filtered_anomalies = np.array([np.concatenate((filtered_anomalies,val)) for val in anomaly_data_dict.values()]).flatten()"
   ]
  },
  {
   "cell_type": "code",
   "execution_count": 15,
   "metadata": {},
   "outputs": [],
   "source": [
    "# assert len(filtered_anomalies) == (2008-1950+1)*12"
   ]
  },
  {
   "cell_type": "code",
   "execution_count": 16,
   "metadata": {},
   "outputs": [
    {
     "data": {
      "image/png": "[encoded data removed]",
      "text/plain": [
       "<Figure size 432x288 with 1 Axes>"
      ]
     },
     "metadata": {
      "needs_background": "light"
     },
     "output_type": "display_data"
    }
   ],
   "source": [
    "plt.plot(filtered_ts)\n",
    "plt.xticks(range(0,708+1,12*10),labels=range(1950,2008+1,10))\n",
    "plt.show()"
   ]
  },
  {
   "cell_type": "markdown",
   "metadata": {},
   "source": [
    "### Train Test Split"
   ]
  },
  {
   "cell_type": "code",
   "execution_count": 17,
   "metadata": {},
   "outputs": [
    {
     "name": "stdout",
     "output_type": "stream",
     "text": [
      "Total years available\n",
      "[1950 1951 1952 1953 1954 1955 1956 1957 1958 1959 1960 1961 1962 1963\n",
      " 1964 1965 1966 1967 1968 1969 1970 1971 1972 1973 1974 1975 1976 1977\n",
      " 1978 1979 1980 1981 1982 1983 1984 1985 1986 1987 1988 1989 1990 1991\n",
      " 1992 1993 1994 1995 1996 1997 1998 1999 2000 2001 2002 2003 2004 2005\n",
      " 2006 2007 2008]\n",
      "Train Test ratio: 0.8\n",
      "No of years in training: 47\n",
      "[1950 1951 1952 1953 1954 1955 1956 1957 1958 1959 1960 1961 1962 1963\n",
      " 1964 1965 1966 1967 1968 1969 1970 1971 1972 1973 1974 1975 1976 1977\n",
      " 1978 1979 1980 1981 1982 1983 1984 1985 1986 1987 1988 1989 1990 1991\n",
      " 1992 1993 1994 1995 1996]\n",
      "No of years in testing: 12\n",
      "[1997 1998 1999 2000 2001 2002 2003 2004 2005 2006 2007 2008]\n"
     ]
    }
   ],
   "source": [
    "train_test_ratio = 0.8\n",
    "years = np.array(list(filtered_data.keys()))\n",
    "print('Total years available')\n",
    "print(years)\n",
    "print(f'Train Test ratio: {train_test_ratio}')\n",
    "training_years = years[:int(train_test_ratio*len(years))]\n",
    "print(f'No of years in training: {len(training_years)}')\n",
    "print(training_years)\n",
    "testing_years = years[int(train_test_ratio*len(years)):]\n",
    "print(f'No of years in testing: {len(testing_years)}')\n",
    "print(testing_years)"
   ]
  },
  {
   "cell_type": "markdown",
   "metadata": {},
   "source": [
    "## Calculating monthly means across all training years"
   ]
  },
  {
   "cell_type": "code",
   "execution_count": 18,
   "metadata": {},
   "outputs": [
    {
     "name": "stdout",
     "output_type": "stream",
     "text": [
      "[26.43340426 26.63085106 27.10021277 27.51       27.61638298 27.42085106\n",
      " 26.98765957 26.58851064 26.47744681 26.43723404 26.42957447 26.37021277]\n"
     ]
    }
   ],
   "source": [
    "means = np.zeros(12)\n",
    "for key,value in filtered_data.items():\n",
    "    if int(key) in training_years:\n",
    "        means += np.array(value)\n",
    "means /= len(training_years)\n",
    "print(means)"
   ]
  },
  {
   "cell_type": "code",
   "execution_count": 19,
   "metadata": {},
   "outputs": [
    {
     "name": "stdout",
     "output_type": "stream",
     "text": [
      "1950 [-1.88340426 -1.57085106 -1.23021277 -1.23       -1.43638298 -0.96085106\n",
      " -0.69765957 -0.70851064 -0.73744681 -0.74723404 -0.95957447 -1.17021277]\n",
      "1951 [-1.19340426 -0.92085106 -0.20021277  0.07        0.30361702  0.30914894\n",
      "  0.61234043  0.43148936  0.75255319  0.76276596  0.82042553  0.52978723]\n",
      "1952 [ 0.23659574  0.10914894  0.06978723  0.29        0.17361702 -0.24085106\n",
      " -0.45765957 -0.28851064 -0.11744681 -0.17723404 -0.50957447 -0.17021277]\n",
      "1953 [0.30659574 0.36914894 0.46978723 0.53       0.66361702 0.69914894\n",
      " 0.44234043 0.35148936 0.53255319 0.43276596 0.45042553 0.62978723]\n",
      "1954 [ 0.54659574  0.39914894 -0.20021277 -0.87       -0.49638298 -0.62085106\n",
      " -0.87765957 -1.15851064 -1.35744681 -1.20723404 -0.85957447 -1.17021277]\n",
      "1955 [-0.82340426 -0.82085106 -0.88021277 -0.91       -0.95638298 -0.87085106\n",
      " -0.83765957 -1.07851064 -1.19744681 -2.02723404 -2.17957447 -1.87021277]\n",
      "1956 [-1.09340426 -0.87085106 -0.64021277 -0.66       -0.48638298 -0.61085106\n",
      " -0.75765957 -0.90851064 -0.74744681 -0.68723404 -0.86957447 -0.67021277]\n",
      "1957 [-0.39340426 -0.09085106  0.35978723  0.72        0.93361702  0.93914894\n",
      "  1.18234043  1.10148936  0.96255319  0.98276596  1.19042553  1.52978723]\n",
      "1958 [ 1.89659574  1.60914894  1.16978723  0.76        0.69361702  0.56914894\n",
      "  0.33234043  0.26148936 -0.07744681  0.01276596  0.32042553  0.22978723]\n",
      "1959 [ 0.63659574  0.54914894  0.36978723  0.37        0.08361702 -0.05085106\n",
      " -0.54765957 -0.49851064 -0.55744681 -0.19723404 -0.38957447 -0.27021277]\n",
      "1960 [-0.16340426 -0.34085106 -0.12021277 -0.02        0.06361702 -0.18085106\n",
      " -0.10765957  0.11148936 -0.03744681 -0.21723404 -0.16957447 -0.17021277]\n",
      "1961 [-0.20340426 -0.07085106 -0.16021277 -0.15        0.13361702  0.24914894\n",
      " -0.09765957 -0.39851064 -0.69744681 -0.72723404 -0.35957447 -0.47021277]\n",
      "1962 [-0.47340426 -0.44085106 -0.30021277 -0.38       -0.56638298 -0.34085106\n",
      " -0.22765957 -0.25851064 -0.53744681 -0.46723404 -0.67957447 -0.77021277]\n",
      "1963 [-0.66340426 -0.41085106  0.07978723  0.27        0.01361702  0.19914894\n",
      "  0.79234043  0.89148936  0.92255319  0.92276596  1.04042553  1.22978723]\n",
      "1964 [ 0.90659574  0.49914894 -0.08021277 -0.56       -0.79638298 -0.83085106\n",
      " -0.65765957 -0.98851064 -1.15744681 -1.06723404 -1.16957447 -1.17021277]\n",
      "1965 [-0.77340426 -0.44085106 -0.16021277 -0.13        0.37361702  0.66914894\n",
      "  0.91234043  1.38148936  1.53255319  1.73276596  1.69042553  1.52978723]\n",
      "1966 [ 1.23659574  0.91914894  1.10978723  0.65       -0.06638298  0.21914894\n",
      "  0.34234043 -0.10851064 -0.20744681 -0.21723404 -0.19957447 -0.37021277]\n",
      "1967 [-0.55340426 -0.52085106 -0.60021277 -0.77       -0.26638298  0.04914894\n",
      " -0.01765957 -0.14851064 -0.61744681 -0.46723404 -0.34957447 -0.47021277]\n",
      "1968 [-0.74340426 -0.95085106 -0.77021277 -0.41       -0.42638298  0.45914894\n",
      "  0.59234043  0.42148936  0.24255319  0.31276596  0.77042553  0.82978723]\n",
      "1969 [1.06659574 1.22914894 0.71978723 0.62       0.67361702 0.26914894\n",
      " 0.09234043 0.43148936 0.67255319 0.90276596 0.67042553 0.52978723]\n",
      "1970 [ 0.39659574  0.31914894  0.03978723  0.23        0.01361702 -0.38085106\n",
      " -0.77765957 -0.98851064 -0.82744681 -0.83723404 -0.85957447 -1.17021277]\n",
      "1971 [-1.62340426 -1.45085106 -1.18021277 -0.88       -0.66638298 -0.82085106\n",
      " -0.85765957 -0.83851064 -0.75744681 -0.96723404 -0.86957447 -1.07021277]\n",
      "1972 [-0.81340426 -0.33085106 -0.01021277  0.38        0.70361702  0.75914894\n",
      "  1.15234043  1.36148936  1.47255319  1.82276596  2.18042553  2.22978723]\n",
      "1973 [ 1.90659574  1.31914894  0.44978723 -0.27       -0.65638298 -0.87085106\n",
      " -1.22765957 -1.36851064 -1.41744681 -1.70723404 -2.09957447 -2.07021277]\n",
      "1974 [-1.97340426 -1.53085106 -1.26021277 -1.05       -0.97638298 -0.89085106\n",
      " -0.59765957 -0.25851064 -0.39744681 -0.65723404 -0.81957447 -0.77021277]\n",
      "1975 [-0.34340426 -0.56085106 -0.91021277 -0.65       -0.81638298 -1.19085106\n",
      " -1.08765957 -1.25851064 -1.42744681 -1.54723404 -1.37957447 -1.77021277]\n",
      "1976 [-1.89340426 -1.14085106 -0.64021277 -0.63       -0.41638298 -0.07085106\n",
      "  0.14234043  0.39148936  0.54255319  1.02276596  0.98042553  0.62978723]\n",
      "1977 [ 0.88659574  0.49914894  0.36978723 -0.07        0.10361702  0.31914894\n",
      "  0.39234043  0.26148936  0.64255319  0.91276596  0.76042553  0.82978723]\n",
      "1978 [ 0.73659574  0.36914894 -0.01021277 -0.39       -0.41638298 -0.40085106\n",
      " -0.24765957 -0.51851064 -0.46744681 -0.18723404 -0.09957447  0.12978723]\n",
      "1979 [-0.02340426 -0.10085106  0.16978723  0.32        0.07361702  0.00914894\n",
      " -0.16765957  0.16148936  0.51255319  0.39276596  0.56042553  0.72978723]\n",
      "1980 [ 0.64659574  0.33914894  0.20978723  0.24        0.39361702  0.51914894\n",
      "  0.24234043 -0.10851064 -0.03744681  0.02276596  0.17042553  0.22978723]\n",
      "1981 [-0.25340426 -0.52085106 -0.46021277 -0.22       -0.25638298 -0.15085106\n",
      " -0.33765957 -0.25851064  0.05255319 -0.01723404 -0.13957447  0.02978723]\n",
      "1982 [ 0.23659574 -0.04085106  0.30978723  0.52        0.77361702  0.83914894\n",
      "  0.67234043  0.99148936  1.73255319  2.27276596  2.19042553  2.42978723]\n",
      "1983 [ 2.45659574e+00  2.05914894e+00  1.55978723e+00  1.26000000e+00\n",
      "  1.22361702e+00  8.49148936e-01  1.92340426e-01  1.48936170e-03\n",
      " -2.77446809e-01 -8.77234043e-01 -1.01957447e+00 -8.70212766e-01]\n",
      "1984 [-0.55340426 -0.07085106 -0.33021277 -0.37       -0.41638298 -0.59085106\n",
      " -0.19765957  0.02148936 -0.09744681 -0.39723404 -0.90957447 -1.17021277]\n",
      "1985 [-1.05340426 -0.60085106 -0.60021277 -0.87       -0.71638298 -0.61085106\n",
      " -0.42765957 -0.28851064 -0.45744681 -0.20723404 -0.09957447 -0.27021277]\n",
      "1986 [-5.43404255e-01 -5.80851064e-01 -2.30212766e-01 -2.00000000e-02\n",
      " -2.16382979e-01 -8.51063830e-04  1.92340426e-01  5.81489362e-01\n",
      "  7.62553191e-01  1.09276596e+00  1.28042553e+00  1.32978723e+00]\n",
      "1987 [1.24659574 1.24914894 1.16978723 0.88       0.94361702 1.22914894\n",
      " 1.60234043 1.83148936 1.88255319 1.52276596 1.34042553 1.12978723]\n",
      "1988 [ 1.01659574  0.39914894  0.27978723 -0.13       -0.93638298 -1.43085106\n",
      " -1.42765957 -0.92851064 -0.75744681 -1.61723404 -1.77957447 -1.77021277]\n",
      "1989 [-1.85340426 -1.35085106 -1.02021277 -0.77       -0.55638298 -0.28085106\n",
      " -0.26765957 -0.25851064 -0.05744681 -0.11723404 -0.17957447  0.02978723]\n",
      "1990 [0.12659574 0.32914894 0.22978723 0.39       0.40361702 0.21914894\n",
      " 0.39234043 0.48148936 0.46255319 0.49276596 0.38042553 0.52978723]\n",
      "1991 [0.59659574 0.43914894 0.21978723 0.5        0.58361702 0.82914894\n",
      " 1.06234043 0.94148936 0.66255319 1.14276596 1.47042553 1.82978723]\n",
      "1992 [ 1.94659574  1.89914894  1.55978723  1.51        1.36361702  0.87914894\n",
      "  0.52234043  0.32148936  0.17255319 -0.01723404 -0.00957447  0.02978723]\n",
      "1993 [0.25659574 0.52914894 0.56978723 0.9        1.09361702 0.65914894\n",
      " 0.53234043 0.40148936 0.59255319 0.33276596 0.28042553 0.32978723]\n",
      "1994 [0.20659574 0.17914894 0.28978723 0.57       0.62361702 0.61914894\n",
      " 0.55234043 0.79148936 0.72255319 1.03276596 1.38042553 1.42978723]\n",
      "1995 [ 1.13659574  0.85914894  0.64978723  0.59        0.20361702  0.16914894\n",
      "  0.09234043 -0.35851064 -0.59744681 -0.59723404 -0.82957447 -0.77021277]\n",
      "1996 [-0.74340426 -0.74085106 -0.43021277 -0.16       -0.06638298 -0.13085106\n",
      " -0.13765957  0.05148936 -0.20744681 -0.16723404 -0.13957447 -0.47021277]\n",
      "1997 [-0.42340426 -0.25085106 -0.06021277  0.47        0.96361702  1.39914894\n",
      "  1.87234043  2.16148936  2.37255319  2.64276596  2.69042553  2.42978723]\n",
      "1998 [ 2.49659574  2.14914894  1.51978723  1.09        0.89361702 -0.08085106\n",
      " -0.68765957 -1.01851064 -1.01744681 -1.18723404 -1.18957447 -1.47021277]\n",
      "1999 [-1.57340426 -1.20085106 -0.77021277 -0.81       -0.82638298 -0.89085106\n",
      " -0.85765957 -0.95851064 -0.84744681 -0.95723404 -1.30957447 -1.57021277]\n",
      "2000 [-1.65340426 -1.42085106 -0.80021277 -0.56       -0.54638298 -0.48085106\n",
      " -0.35765957 -0.21851064 -0.27744681 -0.41723404 -0.50957447 -0.77021277]\n",
      "2001 [-0.62340426 -0.51085106 -0.30021277 -0.18       -0.01638298  0.11914894\n",
      "  0.26234043  0.21148936  0.04255319  0.13276596 -0.09957447 -0.27021277]\n",
      "2002 [-0.04340426  0.07914894  0.18978723  0.33        0.62361702  1.01914894\n",
      "  1.04234043  1.13148936  1.33255319  1.52276596  1.74042553  1.52978723]\n",
      "2003 [ 0.71659574  0.75914894  0.54978723  0.17       -0.29638298  0.01914894\n",
      "  0.51234043  0.52148936  0.51255319  0.70276596  0.61042553  0.62978723]\n",
      "2004 [0.37659574 0.34914894 0.29978723 0.38       0.38361702 0.43914894\n",
      " 0.79234043 1.03148936 1.05255319 1.00276596 0.93042553 0.92978723]\n",
      "2005 [ 0.77659574  0.47914894  0.62978723  0.57        0.62361702  0.34914894\n",
      "  0.07234043  0.21148936  0.20255319  0.21276596 -0.31957447 -0.77021277]\n",
      "2006 [-0.80340426 -0.55085106 -0.53021277 -0.01        0.23361702  0.30914894\n",
      "  0.31234043  0.57148936  0.84255319  0.97276596  1.26042553  1.32978723]\n",
      "2007 [ 8.06595745e-01  2.49148936e-01 -2.12765957e-04 -1.00000000e-02\n",
      " -1.56382979e-01 -5.08510638e-02 -2.77659574e-01 -4.48510638e-01\n",
      " -8.67446809e-01 -1.11723404e+00 -1.25957447e+00 -1.37021277e+00]\n",
      "2008 [-1.57340426 -1.55085106 -1.03021277 -0.68       -0.52638298 -0.38085106\n",
      "  0.00234043  0.13148936 -0.00744681 -0.06723404 -0.17957447 -0.67021277]\n"
     ]
    }
   ],
   "source": [
    "for key,value in filtered_data.items():\n",
    "    print(key,value-means)\n",
    "    assert len(value) == 12"
   ]
  },
  {
   "cell_type": "code",
   "execution_count": 20,
   "metadata": {},
   "outputs": [],
   "source": [
    "def get_data(data,years,subtract_mean=False,means=None):\n",
    "    if subtract_mean == True:\n",
    "        assert means is not None\n",
    "    filtered_data = {int(year): data[year] for year in data.keys() if year in years }\n",
    "    filtered_ts = np.array([])\n",
    "    if subtract_mean:\n",
    "        filtered_ts = np.array([np.concatenate((filtered_ts,val-means)) for val in filtered_data.values()]).flatten()\n",
    "    else:\n",
    "        filtered_ts = np.array([np.concatenate((filtered_ts,val)) for val in filtered_data.values()]).flatten()\n",
    "    return filtered_ts"
   ]
  },
  {
   "cell_type": "code",
   "execution_count": 21,
   "metadata": {},
   "outputs": [],
   "source": [
    "training_data = get_data(filtered_data,training_years,subtract_mean=True,means=means)\n",
    "#training_anomalies = get_data(anomaly_data_dict,training_years)"
   ]
  },
  {
   "cell_type": "code",
   "execution_count": 22,
   "metadata": {},
   "outputs": [],
   "source": [
    "test_data = get_data(filtered_data,testing_years,subtract_mean=True,means=means)\n",
    "#test_anomalies = get_data(anomaly_data_dict,testing_years)"
   ]
  },
  {
   "cell_type": "code",
   "execution_count": 23,
   "metadata": {},
   "outputs": [
    {
     "data": {
      "text/plain": [
       "564"
      ]
     },
     "execution_count": 23,
     "metadata": {},
     "output_type": "execute_result"
    }
   ],
   "source": [
    "len(training_data)#,len(training_anomalies)"
   ]
  },
  {
   "cell_type": "code",
   "execution_count": 24,
   "metadata": {},
   "outputs": [],
   "source": [
    "assert len(training_years)*12 == len(training_data)\n",
    "#assert len(training_years)*12 == len(training_anomalies)"
   ]
  },
  {
   "cell_type": "markdown",
   "metadata": {},
   "source": [
    "## Generate Fake Linear data"
   ]
  },
  {
   "cell_type": "code",
   "execution_count": 25,
   "metadata": {},
   "outputs": [],
   "source": [
    "year_begin=1950\n",
    "year_end=1996\n",
    "n_points = (year_end-year_begin+1)*12"
   ]
  },
  {
   "cell_type": "code",
   "execution_count": 26,
   "metadata": {},
   "outputs": [],
   "source": [
    "p=5\n",
    "\n",
    "init_val = [0,0,0,0,0]\n",
    "theta = [0.1,0.2,0.15,0.11,0.21]\n",
    "sigma = 1\n",
    "assert len(theta) == p\n",
    "assert len(init_val) == p\n",
    "\n",
    "training_data = init_val\n",
    "for i in range(p,p+n_points):\n",
    "    w_i = np.random.normal(scale=sigma)\n",
    "    x_i = sum([training_data[i-k-1]*theta[k] for k in range(p)]) + w_i\n",
    "    training_data.append(x_i)"
   ]
  },
  {
   "cell_type": "code",
   "execution_count": 27,
   "metadata": {},
   "outputs": [],
   "source": [
    "test_year_begin=1997\n",
    "test_year_end=2008\n",
    "n_test_points = (test_year_end-test_year_begin+1)*12\n",
    "history = training_data.copy()\n",
    "test_data = []\n",
    "for i in range(p+n_points,p+n_points+n_test_points):\n",
    "    w_i = np.random.normal(scale=sigma)\n",
    "    x_i = sum([history[i-k-1]*theta[k] for k in range(p)]) + w_i\n",
    "    history.append(x_i)\n",
    "    test_data.append(x_i)"
   ]
  },
  {
   "cell_type": "code",
   "execution_count": 28,
   "metadata": {},
   "outputs": [],
   "source": [
    "training_data = training_data[p:]"
   ]
  },
  {
   "cell_type": "markdown",
   "metadata": {},
   "source": [
    "## Loading fake linear data"
   ]
  },
  {
   "cell_type": "code",
   "execution_count": 29,
   "metadata": {},
   "outputs": [],
   "source": [
    "LOAD_DATA = False\n",
    "\n",
    "training_data_file_name = f'fake_linear_training_data_{p}.npy'\n",
    "testing_data_file_name = f'fake_linear_test_data_{p}.npy'\n",
    "\n",
    "if LOAD_DATA:\n",
    "    training_data = np.load(training_data_file_name)\n",
    "    test_data = np.load(testing_data_file_name)\n",
    "else:\n",
    "    np.save(training_data_file_name,training_data)\n",
    "    np.save(testing_data_file_name,test_data)"
   ]
  },
  {
   "cell_type": "markdown",
   "metadata": {},
   "source": [
    "### Plotting training data, mean, acf and pacf"
   ]
  },
  {
   "cell_type": "code",
   "execution_count": 30,
   "metadata": {},
   "outputs": [
    {
     "data": {
      "image/png": "[encoded data removed]",
      "text/plain": [
       "<Figure size 432x288 with 1 Axes>"
      ]
     },
     "metadata": {
      "needs_background": "light"
     },
     "output_type": "display_data"
    }
   ],
   "source": [
    "plt.plot(training_data)\n",
    "plt.xticks(range(0,len(training_data)+1,12),labels=training_years)\n",
    "plt.show()"
   ]
  },
  {
   "cell_type": "markdown",
   "metadata": {},
   "source": [
    "### Plotting test data"
   ]
  },
  {
   "cell_type": "code",
   "execution_count": 31,
   "metadata": {},
   "outputs": [
    {
     "data": {
      "image/png": "[encoded data removed]",
      "text/plain": [
       "<Figure size 432x288 with 1 Axes>"
      ]
     },
     "metadata": {
      "needs_background": "light"
     },
     "output_type": "display_data"
    }
   ],
   "source": [
    "plt.plot(test_data)\n",
    "plt.xticks(range(0,len(test_data)+1,12),labels=testing_years)\n",
    "plt.show()"
   ]
  },
  {
   "cell_type": "markdown",
   "metadata": {},
   "source": [
    "### Plotting train & test data"
   ]
  },
  {
   "cell_type": "code",
   "execution_count": 32,
   "metadata": {},
   "outputs": [
    {
     "data": {
      "image/png": "[encoded data removed]",
      "text/plain": [
       "<Figure size 432x288 with 1 Axes>"
      ]
     },
     "metadata": {
      "needs_background": "light"
     },
     "output_type": "display_data"
    }
   ],
   "source": [
    "plt.plot(range(0,len(training_data)),training_data,label='train')\n",
    "plt.plot(range(len(training_data),len(training_data)+len(test_data)),test_data,label='test')\n",
    "plt.xticks(range(0,len(training_data)+len(test_data)+1,12),labels=list(training_years)+list(testing_years))\n",
    "plt.legend()\n",
    "plt.show()"
   ]
  },
  {
   "cell_type": "markdown",
   "metadata": {},
   "source": [
    "### Plotting ACF and PACF"
   ]
  },
  {
   "cell_type": "code",
   "execution_count": 33,
   "metadata": {},
   "outputs": [
    {
     "data": {
      "image/png": "[encoded data removed]",
      "text/plain": [
       "<Figure size 864x576 with 2 Axes>"
      ]
     },
     "metadata": {
      "needs_background": "light"
     },
     "output_type": "display_data"
    }
   ],
   "source": [
    "fig = plt.figure(figsize=(12,8))\n",
    "ax1 = fig.add_subplot(211)\n",
    "fig = sm.graphics.tsa.plot_acf(training_data, lags=40, ax=ax1)\n",
    "ax2 = fig.add_subplot(212)\n",
    "fig = sm.graphics.tsa.plot_pacf(training_data, lags=40, ax=ax2)\n",
    "plt.show()"
   ]
  },
  {
   "cell_type": "markdown",
   "metadata": {},
   "source": [
    "### Fitting AR model"
   ]
  },
  {
   "cell_type": "code",
   "execution_count": 34,
   "metadata": {},
   "outputs": [],
   "source": [
    "p=5"
   ]
  },
  {
   "cell_type": "code",
   "execution_count": 35,
   "metadata": {},
   "outputs": [],
   "source": [
    "formatted_training_data = pd.Series(data=training_data,index=pd.Index(sm.tsa.datetools.dates_from_range(f'{training_years[0]}m1', length=len(training_data))))"
   ]
  },
  {
   "cell_type": "code",
   "execution_count": 36,
   "metadata": {},
   "outputs": [
    {
     "name": "stdout",
     "output_type": "stream",
     "text": [
      "const      0.204823\n",
      "ar.L1.y    0.068987\n",
      "ar.L2.y    0.304129\n",
      "ar.L3.y    0.166930\n",
      "ar.L4.y    0.004206\n",
      "ar.L5.y    0.204910\n",
      "dtype: float64\n"
     ]
    },
    {
     "name": "stderr",
     "output_type": "stream",
     "text": [
      "/Users/shreyasc/anaconda3/envs/timeseries/lib/python3.6/site-packages/scipy/signal/signaltools.py:1341: FutureWarning: Using a non-tuple sequence for multidimensional indexing is deprecated; use `arr[tuple(seq)]` instead of `arr[seq]`. In the future this will be interpreted as an array index, `arr[np.array(seq)]`, which will result either in an error or a different result.\n",
      "  out_full[ind] += zi\n",
      "/Users/shreyasc/anaconda3/envs/timeseries/lib/python3.6/site-packages/scipy/signal/signaltools.py:1344: FutureWarning: Using a non-tuple sequence for multidimensional indexing is deprecated; use `arr[tuple(seq)]` instead of `arr[seq]`. In the future this will be interpreted as an array index, `arr[np.array(seq)]`, which will result either in an error or a different result.\n",
      "  out = out_full[ind]\n",
      "/Users/shreyasc/anaconda3/envs/timeseries/lib/python3.6/site-packages/scipy/signal/signaltools.py:1350: FutureWarning: Using a non-tuple sequence for multidimensional indexing is deprecated; use `arr[tuple(seq)]` instead of `arr[seq]`. In the future this will be interpreted as an array index, `arr[np.array(seq)]`, which will result either in an error or a different result.\n",
      "  zf = out_full[ind]\n",
      "/Users/shreyasc/anaconda3/envs/timeseries/lib/python3.6/site-packages/statsmodels/tsa/kalmanf/kalmanfilter.py:646: FutureWarning: Conversion of the second argument of issubdtype from `float` to `np.floating` is deprecated. In future, it will be treated as `np.float64 == np.dtype(float).type`.\n",
      "  if issubdtype(paramsdtype, float):\n",
      "/Users/shreyasc/anaconda3/envs/timeseries/lib/python3.6/site-packages/statsmodels/tsa/kalmanf/kalmanfilter.py:650: FutureWarning: Conversion of the second argument of issubdtype from `complex` to `np.complexfloating` is deprecated. In future, it will be treated as `np.complex128 == np.dtype(complex).type`.\n",
      "  elif issubdtype(paramsdtype, complex):\n"
     ]
    }
   ],
   "source": [
    "arma_mod = sm.tsa.ARMA(formatted_training_data, (p,0)).fit(disp=True)\n",
    "print(arma_mod.params)"
   ]
  },
  {
   "cell_type": "markdown",
   "metadata": {},
   "source": [
    "### Getting predictions for train set"
   ]
  },
  {
   "cell_type": "code",
   "execution_count": 37,
   "metadata": {},
   "outputs": [
    {
     "name": "stderr",
     "output_type": "stream",
     "text": [
      "/Users/shreyasc/anaconda3/envs/timeseries/lib/python3.6/site-packages/statsmodels/tsa/kalmanf/kalmanfilter.py:577: FutureWarning: Conversion of the second argument of issubdtype from `float` to `np.floating` is deprecated. In future, it will be treated as `np.float64 == np.dtype(float).type`.\n",
      "  if issubdtype(paramsdtype, float):\n"
     ]
    }
   ],
   "source": [
    "train_predictions = arma_mod.predict(start=f'{training_years[0]}m1', end=f'{training_years[-1]}m12', dynamic=False)"
   ]
  },
  {
   "cell_type": "code",
   "execution_count": 38,
   "metadata": {},
   "outputs": [
    {
     "data": {
      "image/png": "[encoded data removed]",
      "text/plain": [
       "<Figure size 432x288 with 1 Axes>"
      ]
     },
     "metadata": {
      "needs_background": "light"
     },
     "output_type": "display_data"
    }
   ],
   "source": [
    "plt.plot(formatted_training_data.values,label='Truth')\n",
    "plt.plot(train_predictions.values,label='Preds')\n",
    "plt.xticks(range(0,len(training_data)+1,12),labels=training_years)\n",
    "plt.legend()\n",
    "plt.show()"
   ]
  },
  {
   "cell_type": "markdown",
   "metadata": {},
   "source": [
    "### Getting residuals"
   ]
  },
  {
   "cell_type": "code",
   "execution_count": 39,
   "metadata": {},
   "outputs": [
    {
     "data": {
      "image/png": "[encoded data removed]",
      "text/plain": [
       "<Figure size 432x288 with 1 Axes>"
      ]
     },
     "metadata": {
      "needs_background": "light"
     },
     "output_type": "display_data"
    }
   ],
   "source": [
    "train_residuals = formatted_training_data.values-train_predictions.values\n",
    "plt.plot(train_residuals,label='train_residuals')\n",
    "plt.xticks(range(0,len(training_data)+1,12),labels=training_years)\n",
    "plt.legend()\n",
    "plt.show()"
   ]
  },
  {
   "cell_type": "code",
   "execution_count": 40,
   "metadata": {},
   "outputs": [
    {
     "name": "stderr",
     "output_type": "stream",
     "text": [
      "/Users/shreyasc/anaconda3/envs/timeseries/lib/python3.6/site-packages/scipy/stats/stats.py:1713: FutureWarning: Using a non-tuple sequence for multidimensional indexing is deprecated; use `arr[tuple(seq)]` instead of `arr[seq]`. In the future this will be interpreted as an array index, `arr[np.array(seq)]`, which will result either in an error or a different result.\n",
      "  return np.add.reduce(sorted[indexer] * weights, axis=axis) / sumval\n"
     ]
    },
    {
     "data": {
      "text/plain": [
       "<matplotlib.axes._subplots.AxesSubplot at 0x10bf35b00>"
      ]
     },
     "execution_count": 40,
     "metadata": {},
     "output_type": "execute_result"
    },
    {
     "data": {
      "image/png": "[encoded data removed]",
      "text/plain": [
       "<Figure size 432x288 with 1 Axes>"
      ]
     },
     "metadata": {
      "needs_background": "light"
     },
     "output_type": "display_data"
    }
   ],
   "source": [
    "sns.distplot(train_residuals)"
   ]
  },
  {
   "cell_type": "markdown",
   "metadata": {},
   "source": [
    "### Getting predictions for test set"
   ]
  },
  {
   "cell_type": "markdown",
   "metadata": {},
   "source": [
    "### ROLLING FORECASTING"
   ]
  },
  {
   "cell_type": "code",
   "execution_count": 41,
   "metadata": {},
   "outputs": [],
   "source": [
    "history = list(formatted_training_data.values)\n",
    "test_predictions = []\n",
    "for t in range(len(test_data)):\n",
    "    model = sm.tsa.ARMA(history, (p,0)).fit(disp=False)\n",
    "    output = model.forecast()\n",
    "    yhat = output[0][0]\n",
    "    test_predictions.append(yhat)\n",
    "    obs = test_data[t]\n",
    "    history.append(obs)\n",
    "    #print('predicted=%f, expected=%f' % (yhat, obs))"
   ]
  },
  {
   "cell_type": "code",
   "execution_count": 42,
   "metadata": {},
   "outputs": [
    {
     "data": {
      "image/png": "[encoded data removed]",
      "text/plain": [
       "<Figure size 432x288 with 1 Axes>"
      ]
     },
     "metadata": {
      "needs_background": "light"
     },
     "output_type": "display_data"
    }
   ],
   "source": [
    "plt.plot(test_data,label='Truth')\n",
    "plt.plot(test_predictions,label='Preds')\n",
    "plt.xticks(range(0,len(test_data)+1,12),labels=testing_years)\n",
    "plt.legend()\n",
    "plt.show()"
   ]
  },
  {
   "cell_type": "markdown",
   "metadata": {},
   "source": [
    "### ROLLING STEP FORECASTING"
   ]
  },
  {
   "cell_type": "code",
   "execution_count": 43,
   "metadata": {},
   "outputs": [],
   "source": [
    "history = list(formatted_training_data.values)\n",
    "test_predictions = []\n",
    "for t in range(0,len(test_data),6):\n",
    "    arma_model = sm.tsa.ARMA(history, (p,0)).fit(disp=False)\n",
    "    output = arma_model.forecast(steps=6)[0]\n",
    "    yhats = list(output)\n",
    "    test_predictions+= yhats\n",
    "    obs = list(test_data[t:t+6])\n",
    "    history += obs\n",
    "    #print('predicted=%f, expected=%f' % (yhat, obs))"
   ]
  },
  {
   "cell_type": "code",
   "execution_count": 44,
   "metadata": {},
   "outputs": [],
   "source": [
    "# test_predictions = arma_mod.predict(start=f'{training_years[-1]}m12', end=f'{testing_years[-1]}m11', dynamic=True)"
   ]
  },
  {
   "cell_type": "code",
   "execution_count": 45,
   "metadata": {},
   "outputs": [
    {
     "data": {
      "image/png": "[encoded data removed]",
      "text/plain": [
       "<Figure size 432x288 with 1 Axes>"
      ]
     },
     "metadata": {
      "needs_background": "light"
     },
     "output_type": "display_data"
    }
   ],
   "source": [
    "plt.plot(list(range(0,144)),test_data+np.tile(means, len(testing_years)),label='Truth')\n",
    "plt.plot(list(range(0,144)),test_predictions+np.tile(means, len(testing_years)),label='Preds')\n",
    "plt.xticks(range(0,len(test_data)+1,12),labels=testing_years)\n",
    "plt.legend()\n",
    "plt.show()"
   ]
  },
  {
   "cell_type": "markdown",
   "metadata": {},
   "source": [
    "### SIXTH STEP FORECASTING"
   ]
  },
  {
   "cell_type": "code",
   "execution_count": 46,
   "metadata": {},
   "outputs": [
    {
     "name": "stdout",
     "output_type": "stream",
     "text": [
      "predicted=0.211789, expected=0.693532\n",
      "predicted=0.213342, expected=2.295285\n",
      "predicted=0.215238, expected=1.695989\n",
      "predicted=0.215288, expected=-1.984095\n",
      "predicted=0.217260, expected=1.389517\n",
      "predicted=0.218613, expected=-0.387427\n",
      "predicted=0.214941, expected=-0.012248\n",
      "predicted=0.217581, expected=0.758838\n",
      "predicted=0.223467, expected=-0.671220\n",
      "predicted=0.225252, expected=2.146395\n",
      "predicted=0.216286, expected=0.560216\n",
      "predicted=0.222802, expected=2.145983\n",
      "predicted=0.219485, expected=0.580416\n",
      "predicted=0.219555, expected=-0.003705\n",
      "predicted=0.221453, expected=1.024633\n",
      "predicted=0.218132, expected=1.788805\n",
      "predicted=0.224875, expected=-0.043887\n",
      "predicted=0.223539, expected=-0.086323\n",
      "predicted=0.228756, expected=-1.003250\n",
      "predicted=0.227468, expected=-0.351699\n",
      "predicted=0.226374, expected=-0.597390\n",
      "predicted=0.228962, expected=-1.741510\n",
      "predicted=0.232560, expected=-0.623626\n",
      "predicted=0.229881, expected=-1.826684\n",
      "predicted=0.229293, expected=-1.743304\n",
      "predicted=0.226108, expected=-2.305761\n",
      "predicted=0.225904, expected=-1.040612\n",
      "predicted=0.224214, expected=-0.465242\n",
      "predicted=0.219477, expected=-2.802970\n",
      "predicted=0.219419, expected=-2.253630\n",
      "predicted=0.214441, expected=-1.026414\n",
      "predicted=0.211162, expected=-2.906056\n",
      "predicted=0.206026, expected=-2.418439\n",
      "predicted=0.205661, expected=-2.151815\n",
      "predicted=0.205347, expected=-4.472991\n",
      "predicted=0.196909, expected=-2.861006\n",
      "predicted=0.193387, expected=-3.116498\n",
      "predicted=0.193236, expected=-1.135396\n",
      "predicted=0.184893, expected=-2.436688\n",
      "predicted=0.181069, expected=-3.716166\n",
      "predicted=0.177451, expected=-3.005440\n",
      "predicted=0.164201, expected=-1.296833\n",
      "predicted=0.162014, expected=-1.413085\n",
      "predicted=0.155250, expected=-1.442000\n",
      "predicted=0.158254, expected=-3.315774\n",
      "predicted=0.150335, expected=-4.268694\n",
      "predicted=0.139371, expected=-2.011258\n",
      "predicted=0.135467, expected=-2.363886\n",
      "predicted=0.138730, expected=-1.929349\n",
      "predicted=0.135712, expected=-0.836303\n",
      "predicted=0.132937, expected=-1.676168\n",
      "predicted=0.120072, expected=-3.492928\n",
      "predicted=0.107008, expected=-1.204896\n",
      "predicted=0.112961, expected=-1.506939\n",
      "predicted=0.106933, expected=-1.586444\n",
      "predicted=0.105317, expected=-2.262967\n",
      "predicted=0.108936, expected=0.307006\n",
      "predicted=0.101955, expected=-1.715207\n",
      "predicted=0.086313, expected=-2.351960\n",
      "predicted=0.096010, expected=-2.297536\n",
      "predicted=0.091767, expected=-1.071753\n",
      "predicted=0.088498, expected=-3.324150\n",
      "predicted=0.080743, expected=-2.190993\n",
      "predicted=0.095117, expected=-1.731728\n",
      "predicted=0.081590, expected=-1.452990\n",
      "predicted=0.073897, expected=-1.825235\n",
      "predicted=0.069904, expected=-1.170610\n",
      "predicted=0.075035, expected=0.480233\n",
      "predicted=0.056014, expected=-0.624394\n",
      "predicted=0.058743, expected=-0.500795\n",
      "predicted=0.058499, expected=-0.085230\n",
      "predicted=0.057725, expected=0.207002\n",
      "predicted=0.052128, expected=-0.043117\n",
      "predicted=0.054412, expected=1.946484\n",
      "predicted=0.065921, expected=0.311920\n",
      "predicted=0.057677, expected=-1.259843\n",
      "predicted=0.057599, expected=0.566682\n",
      "predicted=0.060073, expected=-1.544777\n",
      "predicted=0.062195, expected=1.116309\n",
      "predicted=0.060412, expected=-1.425140\n",
      "predicted=0.076188, expected=0.321068\n",
      "predicted=0.065975, expected=2.160859\n",
      "predicted=0.053930, expected=0.496609\n",
      "predicted=0.066273, expected=-0.809589\n",
      "predicted=0.050695, expected=0.990396\n",
      "predicted=0.068583, expected=-0.722339\n",
      "predicted=0.051266, expected=0.606101\n",
      "predicted=0.061872, expected=2.137011\n",
      "predicted=0.075761, expected=-0.353128\n",
      "predicted=0.066730, expected=0.973821\n",
      "predicted=0.057926, expected=-0.360950\n",
      "predicted=0.069545, expected=0.158360\n",
      "predicted=0.058750, expected=0.869129\n",
      "predicted=0.066942, expected=0.887666\n",
      "predicted=0.078659, expected=0.057664\n",
      "predicted=0.064180, expected=0.005032\n",
      "predicted=0.072711, expected=0.788596\n",
      "predicted=0.064889, expected=2.470219\n",
      "predicted=0.067801, expected=2.128064\n",
      "predicted=0.072798, expected=1.534828\n",
      "predicted=0.074142, expected=2.105077\n",
      "predicted=0.069673, expected=1.099711\n",
      "predicted=0.069295, expected=4.562325\n",
      "predicted=0.074549, expected=2.095696\n",
      "predicted=0.087316, expected=1.278658\n",
      "predicted=0.088843, expected=2.563185\n",
      "predicted=0.087806, expected=2.629430\n",
      "predicted=0.094309, expected=2.495033\n",
      "predicted=0.090004, expected=0.619977\n",
      "predicted=0.118006, expected=1.257117\n",
      "predicted=0.106008, expected=2.353258\n",
      "predicted=0.102790, expected=1.605123\n",
      "predicted=0.114753, expected=2.510864\n",
      "predicted=0.119538, expected=0.190661\n",
      "predicted=0.122730, expected=1.143188\n",
      "predicted=0.110608, expected=-0.104221\n",
      "predicted=0.116627, expected=-0.115773\n",
      "predicted=0.127664, expected=1.580027\n",
      "predicted=0.124783, expected=1.535720\n",
      "predicted=0.135090, expected=-0.805086\n",
      "predicted=0.118444, expected=-0.642689\n",
      "predicted=0.126640, expected=1.453525\n",
      "predicted=0.117539, expected=-0.201806\n",
      "predicted=0.117119, expected=0.007299\n",
      "predicted=0.131046, expected=-1.667568\n",
      "predicted=0.132894, expected=-1.664692\n",
      "predicted=0.115201, expected=0.955159\n",
      "predicted=0.115205, expected=0.276036\n",
      "predicted=0.131485, expected=0.139267\n",
      "predicted=0.119754, expected=-0.774929\n",
      "predicted=0.120999, expected=-1.134391\n",
      "predicted=0.107143, expected=0.818442\n",
      "predicted=0.104393, expected=0.725663\n",
      "predicted=0.123426, expected=0.041071\n",
      "predicted=0.119117, expected=0.826801\n",
      "predicted=0.118236, expected=-0.419192\n",
      "predicted=0.110884, expected=-1.305038\n",
      "predicted=0.106656, expected=0.748108\n"
     ]
    },
    {
     "ename": "IndexError",
     "evalue": "list index out of range",
     "output_type": "error",
     "traceback": [
      "\u001b[0;31m---------------------------------------------------------------------------\u001b[0m",
      "\u001b[0;31mIndexError\u001b[0m                                Traceback (most recent call last)",
      "\u001b[0;32m<ipython-input-46-8cb8b6016c54>\u001b[0m in \u001b[0;36m<module>\u001b[0;34m\u001b[0m\n\u001b[1;32m      9\u001b[0m     \u001b[0mobs\u001b[0m \u001b[0;34m=\u001b[0m \u001b[0mtest_data\u001b[0m\u001b[0;34m[\u001b[0m\u001b[0mt\u001b[0m\u001b[0;34m]\u001b[0m\u001b[0;34m\u001b[0m\u001b[0;34m\u001b[0m\u001b[0m\n\u001b[1;32m     10\u001b[0m     \u001b[0mhistory\u001b[0m\u001b[0;34m.\u001b[0m\u001b[0mappend\u001b[0m\u001b[0;34m(\u001b[0m\u001b[0mobs\u001b[0m\u001b[0;34m)\u001b[0m\u001b[0;34m\u001b[0m\u001b[0;34m\u001b[0m\u001b[0m\n\u001b[0;32m---> 11\u001b[0;31m     \u001b[0mprint\u001b[0m\u001b[0;34m(\u001b[0m\u001b[0;34m'predicted=%f, expected=%f'\u001b[0m \u001b[0;34m%\u001b[0m \u001b[0;34m(\u001b[0m\u001b[0myhat\u001b[0m\u001b[0;34m,\u001b[0m \u001b[0mtest_data\u001b[0m\u001b[0;34m[\u001b[0m\u001b[0mt\u001b[0m\u001b[0;34m+\u001b[0m\u001b[0;36m6\u001b[0m\u001b[0;34m]\u001b[0m\u001b[0;34m)\u001b[0m\u001b[0;34m)\u001b[0m\u001b[0;34m\u001b[0m\u001b[0;34m\u001b[0m\u001b[0m\n\u001b[0m",
      "\u001b[0;31mIndexError\u001b[0m: list index out of range"
     ]
    }
   ],
   "source": [
    "p=1\n",
    "history = list(formatted_training_data.values)#564\n",
    "test_predictions = []\n",
    "for t in range(0,len(test_data)):\n",
    "    arma_model = sm.tsa.ARMA(history, (p,0)).fit(disp=False)\n",
    "    output = arma_model.forecast(steps=6)[0][-1]\n",
    "    yhat = output\n",
    "    test_predictions.append(yhat)\n",
    "    obs = test_data[t]\n",
    "    history.append(obs)\n",
    "    print('predicted=%f, expected=%f' % (yhat, test_data[t+6]))"
   ]
  },
  {
   "cell_type": "code",
   "execution_count": null,
   "metadata": {},
   "outputs": [],
   "source": [
    "# test_predictions = arma_mod.predict(start=f'{training_years[-1]}m12', end=f'{testing_years[-1]}m11', dynamic=True)"
   ]
  },
  {
   "cell_type": "code",
   "execution_count": null,
   "metadata": {},
   "outputs": [],
   "source": [
    "plt.plot(list(range(0,144)),test_data,label='Truth')\n",
    "plt.plot(list(range(0,144)),test_predictions,label='Preds')\n",
    "plt.xticks(range(0,len(test_data)+1,12),labels=testing_years)\n",
    "plt.legend()\n",
    "plt.show()"
   ]
  },
  {
   "cell_type": "code",
   "execution_count": null,
   "metadata": {},
   "outputs": [],
   "source": [
    "plt.plot(list(range(0,138)),test_data[6:],label='Truth')\n",
    "plt.plot(list(range(0,138)),test_predictions[:-6],label='Preds')\n",
    "\n",
    "plt.xticks(range(0,len(test_data)+1,12),labels=testing_years)\n",
    "plt.legend()\n",
    "plt.show()"
   ]
  },
  {
   "cell_type": "markdown",
   "metadata": {},
   "source": [
    "### Getting residuals"
   ]
  },
  {
   "cell_type": "code",
   "execution_count": null,
   "metadata": {},
   "outputs": [],
   "source": [
    "test_residuals = np.array(test_data)-np.array(test_predictions)\n",
    "plt.plot(test_residuals,label='residuals')\n",
    "plt.xticks(range(0,len(test_data)+1,12),labels=testing_years)\n",
    "plt.legend()\n",
    "plt.show()"
   ]
  },
  {
   "cell_type": "code",
   "execution_count": null,
   "metadata": {},
   "outputs": [],
   "source": [
    "sns.distplot(test_residuals)"
   ]
  },
  {
   "cell_type": "code",
   "execution_count": null,
   "metadata": {},
   "outputs": [],
   "source": [
    "test_mrse = mrse(test_data,test_predictions)\n",
    "test_re = re(test_data,test_predictions)\n",
    "test_error = error(test_data,test_predictions)\n",
    "print(f'Test MRSE: {test_mrse}\\nTest RE: {test_re}\\nTest ERROR: {test_error}')"
   ]
  },
  {
   "cell_type": "code",
   "execution_count": null,
   "metadata": {},
   "outputs": [],
   "source": []
  },
  {
   "cell_type": "code",
   "execution_count": null,
   "metadata": {},
   "outputs": [],
   "source": []
  },
  {
   "cell_type": "markdown",
   "metadata": {},
   "source": [
    "$$ x_t = \\theta_5 x_{t-1}^5 +\\theta_4 x_{t-2}^4 +\\theta_3 x_{t-3}^3 +\\theta_2 x_{t-2}^2 + \\theta_1 x_{t-1}$$"
   ]
  },
  {
   "cell_type": "markdown",
   "metadata": {},
   "source": [
    "## Generate Fake Non Linear data"
   ]
  },
  {
   "cell_type": "code",
   "execution_count": null,
   "metadata": {},
   "outputs": [],
   "source": [
    "year_begin=1950\n",
    "year_end=1996\n",
    "n_points = (year_end-year_begin+1)*12"
   ]
  },
  {
   "cell_type": "code",
   "execution_count": null,
   "metadata": {},
   "outputs": [],
   "source": [
    "# p=5\n",
    "\n",
    "# init_val = [1,1,1,1,1]\n",
    "# theta = [0.3,0.3,0.4,0.3,0.6]\n",
    "# sigma = .00015\n",
    "# assert len(theta) == p\n",
    "# assert len(init_val) == p\n",
    "\n",
    "# training_data = init_val\n",
    "# for i in range(p,p+n_points):\n",
    "#     w_i = np.random.normal(scale=sigma)\n",
    "#     x_i = sum([np.power(training_data[i-k-1],p-k)*theta[k] for k in range(p)])# + w_i\n",
    "#     training_data.append(x_i)"
   ]
  },
  {
   "cell_type": "code",
   "execution_count": null,
   "metadata": {},
   "outputs": [],
   "source": [
    "# test_year_begin=1997\n",
    "# test_year_end=2008\n",
    "# n_test_points = (test_year_end-test_year_begin+1)*12\n",
    "# history = training_data.copy()\n",
    "# test_data = []\n",
    "# for i in range(p+n_points,p+n_points+n_test_points):\n",
    "#     w_i = np.random.normal(scale=sigma)\n",
    "#     x_i = sum([np.power(history[i-k-1],p-k)*theta[k] for k in range(p)])# + w_i\n",
    "#     history.append(x_i)\n",
    "#     test_data.append(x_i)"
   ]
  },
  {
   "cell_type": "code",
   "execution_count": null,
   "metadata": {},
   "outputs": [],
   "source": [
    "# training_data = training_data[p:]"
   ]
  },
  {
   "cell_type": "code",
   "execution_count": null,
   "metadata": {},
   "outputs": [],
   "source": [
    "p=2\n",
    "\n",
    "init_val = [1,1]\n",
    "theta = [0.3,0.2]\n",
    "sigma = .15\n",
    "eta = 1.5\n",
    "assert len(theta) == p\n",
    "assert len(init_val) == p\n",
    "\n",
    "training_data = init_val\n",
    "for i in range(p,p+n_points):\n",
    "    w_i = np.random.normal(scale=sigma)\n",
    "    x_i = sum([training_data[i-k-1]*theta[k] for k in range(p)]) + w_i\n",
    "    x_i += eta*np.sqrt(training_data[i-1])\n",
    "    training_data.append(x_i)"
   ]
  },
  {
   "cell_type": "code",
   "execution_count": null,
   "metadata": {},
   "outputs": [],
   "source": [
    "test_year_begin=1997\n",
    "test_year_end=2008\n",
    "n_test_points = (test_year_end-test_year_begin+1)*12\n",
    "history = training_data.copy()\n",
    "test_data = []\n",
    "for i in range(p+n_points,p+n_points+n_test_points):\n",
    "    w_i = np.random.normal(scale=sigma)\n",
    "    x_i = sum([history[i-k-1]*theta[k] for k in range(p)]) + w_i\n",
    "    x_i += eta*np.sqrt(history[i-1])\n",
    "    history.append(x_i)\n",
    "    test_data.append(x_i)"
   ]
  },
  {
   "cell_type": "code",
   "execution_count": null,
   "metadata": {},
   "outputs": [],
   "source": [
    "training_data = training_data[p:]"
   ]
  },
  {
   "cell_type": "code",
   "execution_count": null,
   "metadata": {},
   "outputs": [],
   "source": [
    "plt.plot(training_data)\n",
    "plt.xticks(range(0,len(training_data)+1,12),labels=training_years)\n",
    "plt.show()"
   ]
  },
  {
   "cell_type": "markdown",
   "metadata": {},
   "source": [
    "## Loading fake non linear data"
   ]
  },
  {
   "cell_type": "code",
   "execution_count": null,
   "metadata": {},
   "outputs": [],
   "source": [
    "p=5\n",
    "\n",
    "LOAD_DATA = True\n",
    "\n",
    "training_data_file_name = f'latest_fake_nonlinear_training_data_{p}.npy'\n",
    "testing_data_file_name = f'latest_fake_nonlinear_test_data_{p}.npy'\n",
    "\n",
    "if LOAD_DATA:\n",
    "    training_data = np.load(training_data_file_name)\n",
    "    test_data = np.load(testing_data_file_name)\n",
    "else:\n",
    "    np.save(training_data_file_name,training_data)\n",
    "    np.save(testing_data_file_name,test_data)"
   ]
  },
  {
   "cell_type": "markdown",
   "metadata": {},
   "source": [
    "### Plotting training data, mean, acf and pacf"
   ]
  },
  {
   "cell_type": "code",
   "execution_count": null,
   "metadata": {},
   "outputs": [],
   "source": [
    "plt.plot(training_data)\n",
    "plt.xticks(range(0,len(training_data)+1,12),labels=training_years)\n",
    "plt.show()"
   ]
  },
  {
   "cell_type": "markdown",
   "metadata": {},
   "source": [
    "### Plotting test data"
   ]
  },
  {
   "cell_type": "code",
   "execution_count": null,
   "metadata": {},
   "outputs": [],
   "source": [
    "plt.plot(test_data)\n",
    "plt.xticks(range(0,len(test_data)+1,12),labels=testing_years)\n",
    "plt.show()"
   ]
  },
  {
   "cell_type": "code",
   "execution_count": null,
   "metadata": {},
   "outputs": [],
   "source": [
    "plt.plot(range(0,len(training_data)),training_data,label='train')\n",
    "plt.plot(range(len(training_data),len(training_data)+len(test_data)),test_data,label='test')\n",
    "plt.xticks(range(0,len(training_data)+len(test_data)+1,12),labels=list(training_years)+list(testing_years))\n",
    "plt.legend()\n",
    "plt.show()"
   ]
  },
  {
   "cell_type": "code",
   "execution_count": null,
   "metadata": {},
   "outputs": [],
   "source": [
    "fig = plt.figure(figsize=(12,8))\n",
    "ax1 = fig.add_subplot(211)\n",
    "fig = sm.graphics.tsa.plot_acf(training_data, lags=40, ax=ax1)\n",
    "ax2 = fig.add_subplot(212)\n",
    "fig = sm.graphics.tsa.plot_pacf(training_data, lags=40, ax=ax2)\n",
    "plt.show()"
   ]
  },
  {
   "cell_type": "markdown",
   "metadata": {},
   "source": [
    "### Fitting AR model"
   ]
  },
  {
   "cell_type": "code",
   "execution_count": null,
   "metadata": {},
   "outputs": [],
   "source": [
    "p=2\n",
    "formatted_training_data = pd.Series(data=training_data,index=pd.Index(sm.tsa.datetools.dates_from_range(f'{training_years[0]}m1', length=len(training_data))))"
   ]
  },
  {
   "cell_type": "code",
   "execution_count": null,
   "metadata": {},
   "outputs": [],
   "source": [
    "arma_mod = sm.tsa.ARMA(formatted_training_data, (p,0)).fit(disp=False)\n",
    "print(arma_mod.params)"
   ]
  },
  {
   "cell_type": "markdown",
   "metadata": {},
   "source": [
    "### Getting predictions for train set"
   ]
  },
  {
   "cell_type": "code",
   "execution_count": null,
   "metadata": {},
   "outputs": [],
   "source": [
    "training_predictions = arma_mod.predict(start=f'{training_years[0]}m1', end=f'{training_years[-1]}m12', dynamic=False)"
   ]
  },
  {
   "cell_type": "code",
   "execution_count": null,
   "metadata": {},
   "outputs": [],
   "source": [
    "plt.plot(formatted_training_data.values,label='Truth')\n",
    "plt.plot(training_predictions.values,label='Preds')\n",
    "plt.xticks(range(0,len(training_data)+1,12),labels=training_years)\n",
    "plt.legend()\n",
    "plt.show()"
   ]
  },
  {
   "cell_type": "markdown",
   "metadata": {},
   "source": [
    "### Getting training residuals"
   ]
  },
  {
   "cell_type": "code",
   "execution_count": null,
   "metadata": {},
   "outputs": [],
   "source": [
    "training_residuals = formatted_training_data.values-training_predictions.values\n",
    "plt.plot(training_residuals,label='training_residuals')\n",
    "plt.xticks(range(0,len(training_data)+1,12),labels=training_years)\n",
    "plt.legend()\n",
    "plt.show()"
   ]
  },
  {
   "cell_type": "code",
   "execution_count": null,
   "metadata": {},
   "outputs": [],
   "source": [
    "sns.distplot(training_residuals)"
   ]
  },
  {
   "cell_type": "markdown",
   "metadata": {},
   "source": [
    "### Getting predictions for test set"
   ]
  },
  {
   "cell_type": "code",
   "execution_count": null,
   "metadata": {},
   "outputs": [],
   "source": [
    "history = list(formatted_training_data.values)\n",
    "test_predictions = []\n",
    "for t in range(len(test_data)):\n",
    "    arma_model = sm.tsa.ARMA(history, (p,0)).fit(disp=False)\n",
    "    output = arma_model.forecast()\n",
    "    yhat = output[0][0]\n",
    "    test_predictions.append(yhat)\n",
    "    obs = test_data[t]\n",
    "    history.append(obs)\n",
    "    #print('predicted=%f, expected=%f' % (yhat, obs))"
   ]
  },
  {
   "cell_type": "code",
   "execution_count": null,
   "metadata": {},
   "outputs": [],
   "source": [
    "#test_predictions = arma_mod.forecast(steps=len(test_data))[0]"
   ]
  },
  {
   "cell_type": "code",
   "execution_count": null,
   "metadata": {},
   "outputs": [],
   "source": [
    "plt.plot(test_data,label='Truth')\n",
    "plt.plot(test_predictions,label='Preds')\n",
    "plt.xticks(range(0,len(test_data)+1,12),labels=testing_years)\n",
    "plt.legend()\n",
    "plt.show()"
   ]
  },
  {
   "cell_type": "markdown",
   "metadata": {},
   "source": [
    "### ROLLING STEP FORECASTING"
   ]
  },
  {
   "cell_type": "code",
   "execution_count": null,
   "metadata": {},
   "outputs": [],
   "source": [
    "history = list(formatted_training_data.values)\n",
    "test_predictions = []\n",
    "for t in range(0,len(test_data),6):\n",
    "    arma_model = sm.tsa.ARMA(history, (p,0)).fit(disp=False)\n",
    "    output = arma_model.forecast(steps=6)[0]\n",
    "    yhats = list(output)\n",
    "    test_predictions+= yhats\n",
    "    obs = list(test_data[t:t+6])\n",
    "    history += obs\n",
    "    #print('predicted=%f, expected=%f' % (yhat, obs))"
   ]
  },
  {
   "cell_type": "code",
   "execution_count": null,
   "metadata": {},
   "outputs": [],
   "source": [
    "# test_predictions = arma_mod.predict(start=f'{training_years[-1]}m12', end=f'{testing_years[-1]}m11', dynamic=True)"
   ]
  },
  {
   "cell_type": "code",
   "execution_count": null,
   "metadata": {},
   "outputs": [],
   "source": [
    "plt.plot(list(range(0,144)),test_data,label='Truth')\n",
    "plt.plot(list(range(0,144)),test_predictions,label='Preds')\n",
    "plt.xticks(range(0,len(test_data)+1,12),labels=testing_years)\n",
    "plt.legend()\n",
    "plt.show()"
   ]
  },
  {
   "cell_type": "markdown",
   "metadata": {},
   "source": [
    "### Getting test residuals"
   ]
  },
  {
   "cell_type": "code",
   "execution_count": null,
   "metadata": {},
   "outputs": [],
   "source": [
    "test_residuals = np.array(test_data)-np.array(test_predictions)\n",
    "plt.plot(test_residuals,label='test_residuals')\n",
    "plt.xticks(range(0,len(test_data)+1,12),labels=testing_years)\n",
    "plt.legend()\n",
    "plt.show()"
   ]
  },
  {
   "cell_type": "code",
   "execution_count": null,
   "metadata": {},
   "outputs": [],
   "source": [
    "sns.distplot(test_residuals)"
   ]
  },
  {
   "cell_type": "code",
   "execution_count": null,
   "metadata": {},
   "outputs": [],
   "source": [
    "test_mrse = mrse(test_data,test_predictions)\n",
    "test_re = re(test_data,test_predictions)\n",
    "test_error = error(test_data,test_predictions)\n",
    "print(f'Test MRSE: {test_mrse}\\nTest RE: {test_re}\\nTest ERROR: {test_error}')"
   ]
  },
  {
   "cell_type": "code",
   "execution_count": null,
   "metadata": {},
   "outputs": [],
   "source": []
  },
  {
   "cell_type": "code",
   "execution_count": null,
   "metadata": {},
   "outputs": [],
   "source": []
  },
  {
   "cell_type": "code",
   "execution_count": null,
   "metadata": {},
   "outputs": [],
   "source": []
  },
  {
   "cell_type": "code",
   "execution_count": null,
   "metadata": {},
   "outputs": [],
   "source": []
  },
  {
   "cell_type": "code",
   "execution_count": null,
   "metadata": {},
   "outputs": [],
   "source": []
  },
  {
   "cell_type": "code",
   "execution_count": null,
   "metadata": {},
   "outputs": [],
   "source": []
  },
  {
   "cell_type": "code",
   "execution_count": null,
   "metadata": {},
   "outputs": [],
   "source": []
  },
  {
   "cell_type": "code",
   "execution_count": null,
   "metadata": {},
   "outputs": [],
   "source": []
  },
  {
   "cell_type": "code",
   "execution_count": null,
   "metadata": {},
   "outputs": [],
   "source": []
  },
  {
   "cell_type": "code",
   "execution_count": null,
   "metadata": {},
   "outputs": [],
   "source": []
  },
  {
   "cell_type": "code",
   "execution_count": null,
   "metadata": {},
   "outputs": [],
   "source": []
  },
  {
   "cell_type": "code",
   "execution_count": null,
   "metadata": {},
   "outputs": [],
   "source": []
  },
  {
   "cell_type": "code",
   "execution_count": null,
   "metadata": {},
   "outputs": [],
   "source": []
  },
  {
   "cell_type": "code",
   "execution_count": null,
   "metadata": {},
   "outputs": [],
   "source": []
  },
  {
   "cell_type": "code",
   "execution_count": null,
   "metadata": {},
   "outputs": [],
   "source": []
  },
  {
   "cell_type": "markdown",
   "metadata": {},
   "source": [
    "## Generate GARCH Fake Non Linear data"
   ]
  },
  {
   "cell_type": "code",
   "execution_count": null,
   "metadata": {},
   "outputs": [],
   "source": [
    "import numpy as np\n",
    "import matplotlib.pyplot as plt\n",
    "\n",
    "\n",
    "def garch(ω, α, β, n_out=1000):\n",
    "    p = len(α)\n",
    "    q = len(β)\n",
    "\n",
    "    # Since the first max(p, q) number of points are not generated from the garch\n",
    "    # process, the first points are garbage (possibly extending beyond max(p, q)),\n",
    "    # so we drop n_pre > max(p, q) number of points.\n",
    "    n_pre = 1000\n",
    "    n = n_pre + n_out\n",
    "\n",
    "    # Sample noise\n",
    "    ɛ = np.random.normal(0, 1, n)\n",
    "\n",
    "    y = np.zeros(n)\n",
    "    σ = np.zeros(n)\n",
    "\n",
    "    # Pre-populate first max(p, q) values, because they are needed in the iteration.\n",
    "    for k in range(np.max([p, q])):\n",
    "        σ[k] = np.random.normal(0, 1)\n",
    "        y[k] = σ[k] * ɛ[k]\n",
    "\n",
    "    # Run the garch process, notation from\n",
    "    # http://stats.lse.ac.uk/fryzlewicz/lec_notes/garch.pdf\n",
    "    for k in range(np.max([p, q]), n):\n",
    "        α_term = sum([α[i] * y[k-i]**2 for i in range(p)])\n",
    "        β_term = sum([β[i] * σ[k-i]**2 for i in range(q)])\n",
    "        σ[k] = np.sqrt(ω + α_term + β_term)\n",
    "        y[k] = σ[k] * ɛ[k]\n",
    "\n",
    "    return y[n_pre:]\n",
    "\n",
    "\n",
    "# Make a cumulative series from a \"delta series\".\n",
    "def delta_to_cum(ys):\n",
    "    ys_cum = []\n",
    "    y_cum = 0\n",
    "    for y in ys:\n",
    "        y_cum += y\n",
    "        ys_cum.append(y_cum)\n",
    "    return ys_cum\n",
    "\n",
    "\n",
    "# Define a garch(1,1) process\n",
    "ω = 0.1\n",
    "α = [0.3]\n",
    "β = [0.2]\n",
    "y = garch(ω, α, β)\n",
    "x = range(len(y))\n",
    "\n",
    "# The resulting series looks like stock returns and\n",
    "# the cumulative series looks like stock prices.\n",
    "plt.subplot(1,2,1)\n",
    "plt.plot(x, y)\n",
    "plt.title('Returns')\n",
    "plt.subplot(1,2,2)\n",
    "plt.plot(x, delta_to_cum(y))\n",
    "plt.title('Prices')\n",
    "plt.show()"
   ]
  },
  {
   "cell_type": "code",
   "execution_count": null,
   "metadata": {},
   "outputs": [],
   "source": [
    "cumsum = delta_to_cum(y)\n",
    "training_data = y[:n_points]\n",
    "test_data = y[n_points:n_points+n_test_points]"
   ]
  },
  {
   "cell_type": "code",
   "execution_count": null,
   "metadata": {},
   "outputs": [],
   "source": [
    "p=5\n",
    "LOAD_DATA = True\n",
    "\n",
    "training_data_file_name = f'garch2_training_data_{p}.npy'\n",
    "testing_data_file_name = f'garch2_test_data_{p}.npy'\n",
    "\n",
    "if LOAD_DATA:\n",
    "    training_data = np.load(training_data_file_name)\n",
    "    test_data = np.load(testing_data_file_name)\n",
    "else:\n",
    "    np.save(training_data_file_name,training_data)\n",
    "    np.save(testing_data_file_name,test_data)"
   ]
  },
  {
   "cell_type": "markdown",
   "metadata": {},
   "source": [
    "### Plotting training data, mean, acf and pacf"
   ]
  },
  {
   "cell_type": "code",
   "execution_count": null,
   "metadata": {},
   "outputs": [],
   "source": [
    "plt.plot(training_data)\n",
    "plt.xticks(range(0,len(training_data)+1,12),labels=training_years)\n",
    "plt.show()"
   ]
  },
  {
   "cell_type": "markdown",
   "metadata": {},
   "source": [
    "### Plotting test data"
   ]
  },
  {
   "cell_type": "code",
   "execution_count": null,
   "metadata": {},
   "outputs": [],
   "source": [
    "plt.plot(test_data)\n",
    "plt.xticks(range(0,len(test_data)+1,12),labels=testing_years)\n",
    "plt.show()"
   ]
  },
  {
   "cell_type": "code",
   "execution_count": null,
   "metadata": {},
   "outputs": [],
   "source": [
    "plt.plot(range(0,len(training_data)),training_data,label='train')\n",
    "plt.plot(range(len(training_data),len(training_data)+len(test_data)),test_data,label='test')\n",
    "plt.xticks(range(0,len(training_data)+len(test_data)+1,12),labels=list(training_years)+list(testing_years))\n",
    "plt.legend()\n",
    "plt.show()"
   ]
  },
  {
   "cell_type": "code",
   "execution_count": null,
   "metadata": {},
   "outputs": [],
   "source": [
    "fig = plt.figure(figsize=(12,8))\n",
    "ax1 = fig.add_subplot(211)\n",
    "fig = sm.graphics.tsa.plot_acf(training_data, lags=40, ax=ax1)\n",
    "ax2 = fig.add_subplot(212)\n",
    "fig = sm.graphics.tsa.plot_pacf(training_data, lags=40, ax=ax2)\n",
    "plt.show()"
   ]
  },
  {
   "cell_type": "markdown",
   "metadata": {},
   "source": [
    "### Fitting AR model"
   ]
  },
  {
   "cell_type": "code",
   "execution_count": null,
   "metadata": {},
   "outputs": [],
   "source": [
    "p=2\n",
    "formatted_training_data = pd.Series(data=training_data,index=pd.Index(sm.tsa.datetools.dates_from_range(f'{training_years[0]}m1', length=len(training_data))))"
   ]
  },
  {
   "cell_type": "code",
   "execution_count": null,
   "metadata": {},
   "outputs": [],
   "source": [
    "arma_mod = sm.tsa.ARMA(formatted_training_data, (p,0)).fit(disp=False)\n",
    "print(arma_mod.params)"
   ]
  },
  {
   "cell_type": "markdown",
   "metadata": {},
   "source": [
    "### Getting predictions for train set"
   ]
  },
  {
   "cell_type": "code",
   "execution_count": null,
   "metadata": {},
   "outputs": [],
   "source": [
    "training_predictions = arma_mod.predict(start=f'{training_years[0]}m1', end=f'{training_years[-1]}m12', dynamic=False)"
   ]
  },
  {
   "cell_type": "code",
   "execution_count": null,
   "metadata": {},
   "outputs": [],
   "source": [
    "plt.plot(formatted_training_data.values,label='Truth')\n",
    "plt.plot(training_predictions.values,label='Preds')\n",
    "plt.xticks(range(0,len(training_data)+1,12),labels=training_years)\n",
    "plt.legend()\n",
    "plt.show()"
   ]
  },
  {
   "cell_type": "markdown",
   "metadata": {},
   "source": [
    "### Getting training residuals"
   ]
  },
  {
   "cell_type": "code",
   "execution_count": null,
   "metadata": {},
   "outputs": [],
   "source": [
    "training_residuals = formatted_training_data.values-training_predictions.values\n",
    "plt.plot(training_residuals,label='training_residuals')\n",
    "plt.xticks(range(0,len(training_data)+1,12),labels=training_years)\n",
    "plt.legend()\n",
    "plt.show()"
   ]
  },
  {
   "cell_type": "code",
   "execution_count": null,
   "metadata": {},
   "outputs": [],
   "source": [
    "sns.distplot(training_residuals)"
   ]
  },
  {
   "cell_type": "markdown",
   "metadata": {},
   "source": [
    "### Getting predictions for test set"
   ]
  },
  {
   "cell_type": "code",
   "execution_count": null,
   "metadata": {},
   "outputs": [],
   "source": [
    "history = list(formatted_training_data.values)\n",
    "test_predictions = []\n",
    "for t in range(len(test_data)):\n",
    "    model = sm.tsa.ARMA(history, (p,0)).fit(disp=False)\n",
    "    output = model.forecast()\n",
    "    yhat = output[0][0]\n",
    "    test_predictions.append(yhat)\n",
    "    obs = test_data[t]\n",
    "    history.append(obs)\n",
    "    #print('predicted=%f, expected=%f' % (yhat, obs))"
   ]
  },
  {
   "cell_type": "code",
   "execution_count": null,
   "metadata": {},
   "outputs": [],
   "source": [
    "plt.plot(test_data,label='Truth')\n",
    "plt.plot(test_predictions,label='Preds')\n",
    "plt.xticks(range(0,len(test_data)+1,12),labels=testing_years)\n",
    "plt.legend()\n",
    "plt.show()"
   ]
  },
  {
   "cell_type": "markdown",
   "metadata": {},
   "source": [
    "### ROLLING STEP FORECASTING"
   ]
  },
  {
   "cell_type": "code",
   "execution_count": null,
   "metadata": {},
   "outputs": [],
   "source": [
    "history = list(formatted_training_data.values)\n",
    "test_predictions = []\n",
    "for t in range(0,len(test_data),6):\n",
    "    arma_model = sm.tsa.ARMA(history, (p,0)).fit(disp=False)\n",
    "    output = arma_model.forecast(steps=6)[0]\n",
    "    yhats = list(output)\n",
    "    test_predictions+= yhats\n",
    "    obs = list(test_data[t:t+6])\n",
    "    history += obs\n",
    "    #print('predicted=%f, expected=%f' % (yhat, obs))"
   ]
  },
  {
   "cell_type": "code",
   "execution_count": null,
   "metadata": {},
   "outputs": [],
   "source": [
    "plt.plot(list(range(0,144)),test_data,label='Truth')\n",
    "plt.plot(list(range(0,144)),test_predictions,label='Preds')\n",
    "plt.xticks(range(0,len(test_data)+1,12),labels=testing_years)\n",
    "plt.legend()\n",
    "plt.show()"
   ]
  },
  {
   "cell_type": "markdown",
   "metadata": {},
   "source": [
    "### Getting test residuals"
   ]
  },
  {
   "cell_type": "code",
   "execution_count": null,
   "metadata": {},
   "outputs": [],
   "source": [
    "test_residuals = np.array(test_data)-np.array(test_predictions)\n",
    "plt.plot(test_residuals,label='test_residuals')\n",
    "plt.xticks(range(0,len(test_data)+1,12),labels=testing_years)\n",
    "plt.legend()\n",
    "plt.show()"
   ]
  },
  {
   "cell_type": "code",
   "execution_count": null,
   "metadata": {},
   "outputs": [],
   "source": [
    "sns.distplot(test_residuals)"
   ]
  },
  {
   "cell_type": "code",
   "execution_count": null,
   "metadata": {},
   "outputs": [],
   "source": [
    "test_mrse = mrse(test_data,test_predictions)\n",
    "test_re = re(test_data,test_predictions)\n",
    "test_error = error(test_data,test_predictions)\n",
    "print(f'Test MRSE: {test_mrse}\\nTest RE: {test_re}\\nTest ERROR: {test_error}')"
   ]
  },
  {
   "cell_type": "code",
   "execution_count": null,
   "metadata": {},
   "outputs": [],
   "source": []
  }
 ],
 "metadata": {
  "kernelspec": {
   "display_name": "Python 3",
   "language": "python",
   "name": "python3"
  },
  "language_info": {
   "codemirror_mode": {
    "name": "ipython",
    "version": 3
   },
   "file_extension": ".py",
   "mimetype": "text/x-python",
   "name": "python",
   "nbconvert_exporter": "python",
   "pygments_lexer": "ipython3",
   "version": "3.6.9"
  }
 },
 "nbformat": 4,
 "nbformat_minor": 4
}
