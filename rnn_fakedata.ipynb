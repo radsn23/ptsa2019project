{
 "cells": [
  {
   "cell_type": "code",
   "execution_count": 1,
   "metadata": {},
   "outputs": [
    {
     "name": "stderr",
     "output_type": "stream",
     "text": [
      "/Users/shreyasc/anaconda3/envs/timeseries/lib/python3.6/importlib/_bootstrap.py:219: RuntimeWarning: numpy.dtype size changed, may indicate binary incompatibility. Expected 96, got 88\n",
      "  return f(*args, **kwds)\n",
      "/Users/shreyasc/anaconda3/envs/timeseries/lib/python3.6/importlib/_bootstrap.py:219: RuntimeWarning: numpy.dtype size changed, may indicate binary incompatibility. Expected 96, got 88\n",
      "  return f(*args, **kwds)\n",
      "/Users/shreyasc/anaconda3/envs/timeseries/lib/python3.6/site-packages/statsmodels/compat/pandas.py:56: FutureWarning: The pandas.core.datetools module is deprecated and will be removed in a future version. Please use the pandas.tseries module instead.\n",
      "  from pandas.core import datetools\n",
      "/Users/shreyasc/anaconda3/envs/timeseries/lib/python3.6/importlib/_bootstrap.py:219: RuntimeWarning: numpy.dtype size changed, may indicate binary incompatibility. Expected 96, got 88\n",
      "  return f(*args, **kwds)\n",
      "/Users/shreyasc/anaconda3/envs/timeseries/lib/python3.6/importlib/_bootstrap.py:219: RuntimeWarning: numpy.dtype size changed, may indicate binary incompatibility. Expected 96, got 88\n",
      "  return f(*args, **kwds)\n"
     ]
    }
   ],
   "source": [
    "import statsmodels\n",
    "from statsmodels.tsa.stattools import acf, ccf, pacf\n",
    "from statsmodels.graphics.tsaplots import plot_acf, plot_pacf\n",
    "from statsmodels.tsa.arima_model import ARIMA\n",
    "from statsmodels.graphics import utils\n",
    "import numpy as np\n",
    "import matplotlib.pyplot as plt\n",
    "import pandas as pd\n",
    "import statsmodels.api as sm\n",
    "from statsmodels.graphics.api import qqplot\n",
    "import os\n",
    "\n",
    "import sklearn\n",
    "import torch\n",
    "import torch.nn\n",
    "\n",
    "from torch.autograd import Variable\n",
    "from torch.optim.lr_scheduler import ReduceLROnPlateau\n",
    "from sklearn.preprocessing import StandardScaler,MinMaxScaler\n",
    "import seaborn as sns\n",
    "\n",
    "from datetime import datetime\n",
    "\n",
    "DATA_DIR = './data/'"
   ]
  },
  {
   "cell_type": "code",
   "execution_count": 2,
   "metadata": {},
   "outputs": [],
   "source": [
    "def get_lr(optimizer):\n",
    "    for param_group in optimizer.param_groups:\n",
    "        return param_group['lr']"
   ]
  },
  {
   "cell_type": "markdown",
   "metadata": {},
   "source": [
    "### Metrics functions"
   ]
  },
  {
   "cell_type": "code",
   "execution_count": 3,
   "metadata": {},
   "outputs": [],
   "source": [
    "def mrse(actuals, preds):\n",
    "    actuals = np.array(actuals)\n",
    "    preds = np.array(preds)\n",
    "\n",
    "    denom = np.sqrt(np.sum(np.square(actuals - np.mean(actuals))))\n",
    "    num = np.sqrt(np.sum(np.square(actuals - preds)))\n",
    "\n",
    "    return 1.0*num/denom\n",
    "\n",
    "def re(actuals, preds):\n",
    "    actuals = np.array(actuals)\n",
    "    preds = np.array(preds)\n",
    "    denom = np.sqrt(np.sum(np.square(actuals)))\n",
    "    num = np.sqrt(np.sum(np.square(actuals - preds)))\n",
    "    return 1.0*num/denom\n",
    "\n",
    "\n",
    "def error(actuals, preds):\n",
    "    actuals = np.array(actuals)\n",
    "    preds = np.array(preds)\n",
    "    return np.sqrt(np.mean(np.square(actuals-preds)))"
   ]
  },
  {
   "cell_type": "markdown",
   "metadata": {},
   "source": [
    "## Reading Nino 3.4 data"
   ]
  },
  {
   "cell_type": "code",
   "execution_count": 4,
   "metadata": {},
   "outputs": [],
   "source": [
    "filename = 'nino34_data.txt'"
   ]
  },
  {
   "cell_type": "code",
   "execution_count": 5,
   "metadata": {},
   "outputs": [],
   "source": [
    "data = open(DATA_DIR + filename)\n",
    "data_dict = {}\n",
    "\n",
    "for line in data.readlines()[1:-3]:\n",
    "    \n",
    "    tokens = line.split(' ')\n",
    "    values = []\n",
    "    for token in tokens:\n",
    "        if token == '':\n",
    "            pass\n",
    "        else:\n",
    "            if '\\n' in token:\n",
    "                token = token[:-2]\n",
    "            values.append(float(token))\n",
    "    data_dict.update({values[0]:values[1:]})"
   ]
  },
  {
   "cell_type": "code",
   "execution_count": 6,
   "metadata": {},
   "outputs": [
    {
     "name": "stdout",
     "output_type": "stream",
     "text": [
      "1948.0 [-99.99, -99.99, -99.99, -99.99, -99.99, -99.99, -99.99, -99.99, -99.99, -99.99, -99.99, -99.9]\n",
      "1949.0 [-99.99, -99.99, -99.99, -99.99, -99.99, -99.99, -99.99, -99.99, -99.99, -99.99, -99.99, -99.9]\n",
      "1950.0 [24.55, 25.06, 25.87, 26.28, 26.18, 26.46, 26.29, 25.88, 25.74, 25.69, 25.47, 25.2]\n",
      "1951.0 [25.24, 25.71, 26.9, 27.58, 27.92, 27.73, 27.6, 27.02, 27.23, 27.2, 27.25, 26.9]\n",
      "1952.0 [26.67, 26.74, 27.17, 27.8, 27.79, 27.18, 26.53, 26.3, 26.36, 26.26, 25.92, 26.2]\n",
      "1953.0 [26.74, 27.0, 27.57, 28.04, 28.28, 28.12, 27.43, 26.94, 27.01, 26.87, 26.88, 27.0]\n",
      "1954.0 [26.98, 27.03, 26.9, 26.64, 27.12, 26.8, 26.11, 25.43, 25.12, 25.23, 25.57, 25.2]\n",
      "1955.0 [25.61, 25.81, 26.22, 26.6, 26.66, 26.55, 26.15, 25.51, 25.28, 24.41, 24.25, 24.5]\n",
      "1956.0 [25.34, 25.76, 26.46, 26.85, 27.13, 26.81, 26.23, 25.68, 25.73, 25.75, 25.56, 25.7]\n",
      "1957.0 [26.04, 26.54, 27.46, 28.23, 28.55, 28.36, 28.17, 27.69, 27.44, 27.42, 27.62, 27.9]\n",
      "1958.0 [28.33, 28.24, 28.27, 28.27, 28.31, 27.99, 27.32, 26.85, 26.4, 26.45, 26.75, 26.6]\n",
      "1959.0 [27.07, 27.18, 27.47, 27.88, 27.7, 27.37, 26.44, 26.09, 25.92, 26.24, 26.04, 26.1]\n",
      "1960.0 [26.27, 26.29, 26.98, 27.49, 27.68, 27.24, 26.88, 26.7, 26.44, 26.22, 26.26, 26.2]\n",
      "1961.0 [26.23, 26.56, 26.94, 27.36, 27.75, 27.67, 26.89, 26.19, 25.78, 25.71, 26.07, 25.9]\n",
      "1962.0 [25.96, 26.19, 26.8, 27.13, 27.05, 27.08, 26.76, 26.33, 25.94, 25.97, 25.75, 25.6]\n",
      "1963.0 [25.77, 26.22, 27.18, 27.78, 27.63, 27.62, 27.78, 27.48, 27.4, 27.36, 27.47, 27.6]\n",
      "1964.0 [27.34, 27.13, 27.02, 26.95, 26.82, 26.59, 26.33, 25.6, 25.32, 25.37, 25.26, 25.2]\n",
      "1965.0 [25.66, 26.19, 26.94, 27.38, 27.99, 28.09, 27.9, 27.97, 28.01, 28.17, 28.12, 27.9]\n",
      "1966.0 [27.67, 27.55, 28.21, 28.16, 27.55, 27.64, 27.33, 26.48, 26.27, 26.22, 26.23, 26.0]\n",
      "1967.0 [25.88, 26.11, 26.5, 26.74, 27.35, 27.47, 26.97, 26.44, 25.86, 25.97, 26.08, 25.9]\n",
      "1968.0 [25.69, 25.68, 26.33, 27.1, 27.19, 27.88, 27.58, 27.01, 26.72, 26.75, 27.2, 27.2]\n",
      "1969.0 [27.5, 27.86, 27.82, 28.13, 28.29, 27.69, 27.08, 27.02, 27.15, 27.34, 27.1, 26.9]\n",
      "1970.0 [26.83, 26.95, 27.14, 27.74, 27.63, 27.04, 26.21, 25.6, 25.65, 25.6, 25.57, 25.2]\n",
      "1971.0 [24.81, 25.18, 25.92, 26.63, 26.95, 26.6, 26.13, 25.75, 25.72, 25.47, 25.56, 25.3]\n",
      "1972.0 [25.62, 26.3, 27.09, 27.89, 28.32, 28.18, 28.14, 27.95, 27.95, 28.26, 28.61, 28.6]\n",
      "1973.0 [28.34, 27.95, 27.55, 27.24, 26.96, 26.55, 25.76, 25.22, 25.06, 24.73, 24.33, 24.3]\n",
      "1974.0 [24.46, 25.1, 25.84, 26.46, 26.64, 26.53, 26.39, 26.33, 26.08, 25.78, 25.61, 25.6]\n",
      "1975.0 [26.09, 26.07, 26.19, 26.86, 26.8, 26.23, 25.9, 25.33, 25.05, 24.89, 25.05, 24.6]\n",
      "1976.0 [24.54, 25.49, 26.46, 26.88, 27.2, 27.35, 27.13, 26.98, 27.02, 27.46, 27.41, 27.0]\n",
      "1977.0 [27.32, 27.13, 27.47, 27.44, 27.72, 27.74, 27.38, 26.85, 27.12, 27.35, 27.19, 27.2]\n",
      "1978.0 [27.17, 27.0, 27.09, 27.12, 27.2, 27.02, 26.74, 26.07, 26.01, 26.25, 26.33, 26.5]\n",
      "1979.0 [26.41, 26.53, 27.27, 27.83, 27.69, 27.43, 26.82, 26.75, 26.99, 26.83, 26.99, 27.1]\n",
      "1980.0 [27.08, 26.97, 27.31, 27.75, 28.01, 27.94, 27.23, 26.48, 26.44, 26.46, 26.6, 26.6]\n",
      "1981.0 [26.18, 26.11, 26.64, 27.29, 27.36, 27.27, 26.65, 26.33, 26.53, 26.42, 26.29, 26.4]\n",
      "1982.0 [26.67, 26.59, 27.41, 28.03, 28.39, 28.26, 27.66, 27.58, 28.21, 28.71, 28.62, 28.8]\n",
      "1983.0 [28.89, 28.69, 28.66, 28.77, 28.84, 28.27, 27.18, 26.59, 26.2, 25.56, 25.41, 25.5]\n",
      "1984.0 [25.88, 26.56, 26.77, 27.14, 27.2, 26.83, 26.79, 26.61, 26.38, 26.04, 25.52, 25.2]\n",
      "1985.0 [25.38, 26.03, 26.5, 26.64, 26.9, 26.81, 26.56, 26.3, 26.02, 26.23, 26.33, 26.1]\n",
      "1986.0 [25.89, 26.05, 26.87, 27.49, 27.4, 27.42, 27.18, 27.17, 27.24, 27.53, 27.71, 27.7]\n",
      "1987.0 [27.68, 27.88, 28.27, 28.39, 28.56, 28.65, 28.59, 28.42, 28.36, 27.96, 27.77, 27.5]\n",
      "1988.0 [27.45, 27.03, 27.38, 27.38, 26.68, 25.99, 25.56, 25.66, 25.72, 24.82, 24.65, 24.6]\n",
      "1989.0 [24.58, 25.28, 26.08, 26.74, 27.06, 27.14, 26.72, 26.33, 26.42, 26.32, 26.25, 26.4]\n",
      "1990.0 [26.56, 26.96, 27.33, 27.9, 28.02, 27.64, 27.38, 27.07, 26.94, 26.93, 26.81, 26.9]\n",
      "1991.0 [27.03, 27.07, 27.32, 28.01, 28.2, 28.25, 28.05, 27.53, 27.14, 27.58, 27.9, 28.2]\n",
      "1992.0 [28.38, 28.53, 28.66, 29.02, 28.98, 28.3, 27.51, 26.91, 26.65, 26.42, 26.42, 26.4]\n",
      "1993.0 [26.69, 27.16, 27.67, 28.41, 28.71, 28.08, 27.52, 26.99, 27.07, 26.77, 26.71, 26.7]\n",
      "1994.0 [26.64, 26.81, 27.39, 28.08, 28.24, 28.04, 27.54, 27.38, 27.2, 27.47, 27.81, 27.8]\n",
      "1995.0 [27.57, 27.49, 27.75, 28.1, 27.82, 27.59, 27.08, 26.23, 25.88, 25.84, 25.6, 25.6]\n",
      "1996.0 [25.69, 25.89, 26.67, 27.35, 27.55, 27.29, 26.85, 26.64, 26.27, 26.27, 26.29, 25.9]\n",
      "1997.0 [26.01, 26.38, 27.04, 27.98, 28.58, 28.82, 28.86, 28.75, 28.85, 29.08, 29.12, 28.8]\n",
      "1998.0 [28.93, 28.78, 28.62, 28.6, 28.51, 27.34, 26.3, 25.57, 25.46, 25.25, 25.24, 24.9]\n",
      "1999.0 [24.86, 25.43, 26.33, 26.7, 26.79, 26.53, 26.13, 25.63, 25.63, 25.48, 25.12, 24.8]\n",
      "2000.0 [24.78, 25.21, 26.3, 26.95, 27.07, 26.94, 26.63, 26.37, 26.2, 26.02, 25.92, 25.6]\n",
      "2001.0 [25.81, 26.12, 26.8, 27.33, 27.6, 27.54, 27.25, 26.8, 26.52, 26.57, 26.33, 26.1]\n",
      "2002.0 [26.39, 26.71, 27.29, 27.84, 28.24, 28.44, 28.03, 27.72, 27.81, 27.96, 28.17, 27.9]\n",
      "2003.0 [27.15, 27.39, 27.65, 27.68, 27.32, 27.44, 27.5, 27.11, 26.99, 27.14, 27.04, 27.0]\n",
      "2004.0 [26.81, 26.98, 27.4, 27.89, 28.0, 27.86, 27.78, 27.62, 27.53, 27.44, 27.36, 27.3]\n",
      "2005.0 [27.21, 27.11, 27.73, 28.08, 28.24, 27.77, 27.06, 26.8, 26.68, 26.65, 26.11, 25.6]\n",
      "2006.0 [25.63, 26.08, 26.57, 27.5, 27.85, 27.73, 27.3, 27.16, 27.32, 27.41, 27.69, 27.7]\n",
      "2007.0 [27.24, 26.88, 27.1, 27.5, 27.46, 27.37, 26.71, 26.14, 25.61, 25.32, 25.17, 25.0]\n",
      "2008.0 [24.86, 25.08, 26.07, 26.83, 27.09, 27.04, 26.99, 26.72, 26.47, 26.37, 26.25, 25.7]\n",
      "2009.0 [25.66, 25.96, 26.59, 27.47, 27.99, 28.04, 27.78, 27.42, 27.4, 27.6, 28.16, 28.3]\n",
      "2010.0 [28.07, 28.01, 28.18, 28.2, 27.71, 27.04, 26.22, 25.47, 25.12, 25.03, 25.06, 25.0]\n",
      "2011.0 [25.0, 25.64, 26.36, 27.05, 27.41, 27.35, 26.87, 26.21, 25.92, 25.67, 25.52, 25.5]\n",
      "2012.0 [25.67, 26.08, 26.67, 27.32, 27.61, 27.75, 27.54, 27.32, 27.1, 26.98, 26.86, 26.3]\n",
      "2013.0 [26.01, 26.24, 27.03, 27.57, 27.53, 27.3, 26.91, 26.47, 26.54, 26.52, 26.56, 26.4]\n",
      "2014.0 [26.05, 26.14, 27.0, 27.9, 28.25, 27.96, 27.23, 26.82, 27.01, 27.16, 27.46, 27.3]\n",
      "2015.0 [27.05, 27.17, 27.75, 28.52, 28.85, 28.9, 28.75, 28.79, 28.93, 29.08, 29.42, 29.2]\n",
      "2016.0 [29.11, 29.01, 28.9, 28.72, 28.23, 27.69, 26.82, 26.28, 26.14, 25.98, 25.94, 26.1]\n",
      "2017.0 [26.12, 26.67, 27.32, 28.03, 28.3, 28.06, 27.54, 26.7, 26.29, 26.15, 25.74, 25.6]\n",
      "2018.0 [25.57, 25.97, 26.48, 27.31, 27.73, 27.77, 27.42, 26.94, 27.19, 27.62, 27.61, 27.4]\n",
      "2019.0 [27.2, 27.48, 28.1, 28.45, 28.5, 28.19, 27.66, 26.91, 26.76, 27.19, -99.99, -99.9]\n"
     ]
    }
   ],
   "source": [
    "for key,value in data_dict.items():\n",
    "    print(key,value)\n",
    "    assert len(value) == 12"
   ]
  },
  {
   "cell_type": "markdown",
   "metadata": {},
   "source": [
    "## Filtering data to have 1950 - 2008"
   ]
  },
  {
   "cell_type": "code",
   "execution_count": 7,
   "metadata": {},
   "outputs": [],
   "source": [
    "filtered_data = {int(year): data_dict[year] for year in data_dict.keys() if year >= 1950 and year <=2008 }"
   ]
  },
  {
   "cell_type": "code",
   "execution_count": 8,
   "metadata": {},
   "outputs": [
    {
     "name": "stdout",
     "output_type": "stream",
     "text": [
      "1950 [24.55, 25.06, 25.87, 26.28, 26.18, 26.46, 26.29, 25.88, 25.74, 25.69, 25.47, 25.2]\n",
      "1951 [25.24, 25.71, 26.9, 27.58, 27.92, 27.73, 27.6, 27.02, 27.23, 27.2, 27.25, 26.9]\n",
      "1952 [26.67, 26.74, 27.17, 27.8, 27.79, 27.18, 26.53, 26.3, 26.36, 26.26, 25.92, 26.2]\n",
      "1953 [26.74, 27.0, 27.57, 28.04, 28.28, 28.12, 27.43, 26.94, 27.01, 26.87, 26.88, 27.0]\n",
      "1954 [26.98, 27.03, 26.9, 26.64, 27.12, 26.8, 26.11, 25.43, 25.12, 25.23, 25.57, 25.2]\n",
      "1955 [25.61, 25.81, 26.22, 26.6, 26.66, 26.55, 26.15, 25.51, 25.28, 24.41, 24.25, 24.5]\n",
      "1956 [25.34, 25.76, 26.46, 26.85, 27.13, 26.81, 26.23, 25.68, 25.73, 25.75, 25.56, 25.7]\n",
      "1957 [26.04, 26.54, 27.46, 28.23, 28.55, 28.36, 28.17, 27.69, 27.44, 27.42, 27.62, 27.9]\n",
      "1958 [28.33, 28.24, 28.27, 28.27, 28.31, 27.99, 27.32, 26.85, 26.4, 26.45, 26.75, 26.6]\n",
      "1959 [27.07, 27.18, 27.47, 27.88, 27.7, 27.37, 26.44, 26.09, 25.92, 26.24, 26.04, 26.1]\n",
      "1960 [26.27, 26.29, 26.98, 27.49, 27.68, 27.24, 26.88, 26.7, 26.44, 26.22, 26.26, 26.2]\n",
      "1961 [26.23, 26.56, 26.94, 27.36, 27.75, 27.67, 26.89, 26.19, 25.78, 25.71, 26.07, 25.9]\n",
      "1962 [25.96, 26.19, 26.8, 27.13, 27.05, 27.08, 26.76, 26.33, 25.94, 25.97, 25.75, 25.6]\n",
      "1963 [25.77, 26.22, 27.18, 27.78, 27.63, 27.62, 27.78, 27.48, 27.4, 27.36, 27.47, 27.6]\n",
      "1964 [27.34, 27.13, 27.02, 26.95, 26.82, 26.59, 26.33, 25.6, 25.32, 25.37, 25.26, 25.2]\n",
      "1965 [25.66, 26.19, 26.94, 27.38, 27.99, 28.09, 27.9, 27.97, 28.01, 28.17, 28.12, 27.9]\n",
      "1966 [27.67, 27.55, 28.21, 28.16, 27.55, 27.64, 27.33, 26.48, 26.27, 26.22, 26.23, 26.0]\n",
      "1967 [25.88, 26.11, 26.5, 26.74, 27.35, 27.47, 26.97, 26.44, 25.86, 25.97, 26.08, 25.9]\n",
      "1968 [25.69, 25.68, 26.33, 27.1, 27.19, 27.88, 27.58, 27.01, 26.72, 26.75, 27.2, 27.2]\n",
      "1969 [27.5, 27.86, 27.82, 28.13, 28.29, 27.69, 27.08, 27.02, 27.15, 27.34, 27.1, 26.9]\n",
      "1970 [26.83, 26.95, 27.14, 27.74, 27.63, 27.04, 26.21, 25.6, 25.65, 25.6, 25.57, 25.2]\n",
      "1971 [24.81, 25.18, 25.92, 26.63, 26.95, 26.6, 26.13, 25.75, 25.72, 25.47, 25.56, 25.3]\n",
      "1972 [25.62, 26.3, 27.09, 27.89, 28.32, 28.18, 28.14, 27.95, 27.95, 28.26, 28.61, 28.6]\n",
      "1973 [28.34, 27.95, 27.55, 27.24, 26.96, 26.55, 25.76, 25.22, 25.06, 24.73, 24.33, 24.3]\n",
      "1974 [24.46, 25.1, 25.84, 26.46, 26.64, 26.53, 26.39, 26.33, 26.08, 25.78, 25.61, 25.6]\n",
      "1975 [26.09, 26.07, 26.19, 26.86, 26.8, 26.23, 25.9, 25.33, 25.05, 24.89, 25.05, 24.6]\n",
      "1976 [24.54, 25.49, 26.46, 26.88, 27.2, 27.35, 27.13, 26.98, 27.02, 27.46, 27.41, 27.0]\n",
      "1977 [27.32, 27.13, 27.47, 27.44, 27.72, 27.74, 27.38, 26.85, 27.12, 27.35, 27.19, 27.2]\n",
      "1978 [27.17, 27.0, 27.09, 27.12, 27.2, 27.02, 26.74, 26.07, 26.01, 26.25, 26.33, 26.5]\n",
      "1979 [26.41, 26.53, 27.27, 27.83, 27.69, 27.43, 26.82, 26.75, 26.99, 26.83, 26.99, 27.1]\n",
      "1980 [27.08, 26.97, 27.31, 27.75, 28.01, 27.94, 27.23, 26.48, 26.44, 26.46, 26.6, 26.6]\n",
      "1981 [26.18, 26.11, 26.64, 27.29, 27.36, 27.27, 26.65, 26.33, 26.53, 26.42, 26.29, 26.4]\n",
      "1982 [26.67, 26.59, 27.41, 28.03, 28.39, 28.26, 27.66, 27.58, 28.21, 28.71, 28.62, 28.8]\n",
      "1983 [28.89, 28.69, 28.66, 28.77, 28.84, 28.27, 27.18, 26.59, 26.2, 25.56, 25.41, 25.5]\n",
      "1984 [25.88, 26.56, 26.77, 27.14, 27.2, 26.83, 26.79, 26.61, 26.38, 26.04, 25.52, 25.2]\n",
      "1985 [25.38, 26.03, 26.5, 26.64, 26.9, 26.81, 26.56, 26.3, 26.02, 26.23, 26.33, 26.1]\n",
      "1986 [25.89, 26.05, 26.87, 27.49, 27.4, 27.42, 27.18, 27.17, 27.24, 27.53, 27.71, 27.7]\n",
      "1987 [27.68, 27.88, 28.27, 28.39, 28.56, 28.65, 28.59, 28.42, 28.36, 27.96, 27.77, 27.5]\n",
      "1988 [27.45, 27.03, 27.38, 27.38, 26.68, 25.99, 25.56, 25.66, 25.72, 24.82, 24.65, 24.6]\n",
      "1989 [24.58, 25.28, 26.08, 26.74, 27.06, 27.14, 26.72, 26.33, 26.42, 26.32, 26.25, 26.4]\n",
      "1990 [26.56, 26.96, 27.33, 27.9, 28.02, 27.64, 27.38, 27.07, 26.94, 26.93, 26.81, 26.9]\n",
      "1991 [27.03, 27.07, 27.32, 28.01, 28.2, 28.25, 28.05, 27.53, 27.14, 27.58, 27.9, 28.2]\n",
      "1992 [28.38, 28.53, 28.66, 29.02, 28.98, 28.3, 27.51, 26.91, 26.65, 26.42, 26.42, 26.4]\n",
      "1993 [26.69, 27.16, 27.67, 28.41, 28.71, 28.08, 27.52, 26.99, 27.07, 26.77, 26.71, 26.7]\n",
      "1994 [26.64, 26.81, 27.39, 28.08, 28.24, 28.04, 27.54, 27.38, 27.2, 27.47, 27.81, 27.8]\n",
      "1995 [27.57, 27.49, 27.75, 28.1, 27.82, 27.59, 27.08, 26.23, 25.88, 25.84, 25.6, 25.6]\n",
      "1996 [25.69, 25.89, 26.67, 27.35, 27.55, 27.29, 26.85, 26.64, 26.27, 26.27, 26.29, 25.9]\n",
      "1997 [26.01, 26.38, 27.04, 27.98, 28.58, 28.82, 28.86, 28.75, 28.85, 29.08, 29.12, 28.8]\n",
      "1998 [28.93, 28.78, 28.62, 28.6, 28.51, 27.34, 26.3, 25.57, 25.46, 25.25, 25.24, 24.9]\n",
      "1999 [24.86, 25.43, 26.33, 26.7, 26.79, 26.53, 26.13, 25.63, 25.63, 25.48, 25.12, 24.8]\n",
      "2000 [24.78, 25.21, 26.3, 26.95, 27.07, 26.94, 26.63, 26.37, 26.2, 26.02, 25.92, 25.6]\n",
      "2001 [25.81, 26.12, 26.8, 27.33, 27.6, 27.54, 27.25, 26.8, 26.52, 26.57, 26.33, 26.1]\n",
      "2002 [26.39, 26.71, 27.29, 27.84, 28.24, 28.44, 28.03, 27.72, 27.81, 27.96, 28.17, 27.9]\n",
      "2003 [27.15, 27.39, 27.65, 27.68, 27.32, 27.44, 27.5, 27.11, 26.99, 27.14, 27.04, 27.0]\n",
      "2004 [26.81, 26.98, 27.4, 27.89, 28.0, 27.86, 27.78, 27.62, 27.53, 27.44, 27.36, 27.3]\n",
      "2005 [27.21, 27.11, 27.73, 28.08, 28.24, 27.77, 27.06, 26.8, 26.68, 26.65, 26.11, 25.6]\n",
      "2006 [25.63, 26.08, 26.57, 27.5, 27.85, 27.73, 27.3, 27.16, 27.32, 27.41, 27.69, 27.7]\n",
      "2007 [27.24, 26.88, 27.1, 27.5, 27.46, 27.37, 26.71, 26.14, 25.61, 25.32, 25.17, 25.0]\n",
      "2008 [24.86, 25.08, 26.07, 26.83, 27.09, 27.04, 26.99, 26.72, 26.47, 26.37, 26.25, 25.7]\n"
     ]
    }
   ],
   "source": [
    "for key,value in filtered_data.items():\n",
    "    print(key,value)\n",
    "    assert len(value) == 12"
   ]
  },
  {
   "cell_type": "markdown",
   "metadata": {},
   "source": [
    "## Flattening time series data"
   ]
  },
  {
   "cell_type": "code",
   "execution_count": 12,
   "metadata": {},
   "outputs": [],
   "source": [
    "filtered_ts = np.array([])\n",
    "filtered_ts = np.array([np.concatenate((filtered_ts,val)) for val in filtered_data.values()]).flatten()"
   ]
  },
  {
   "cell_type": "code",
   "execution_count": 13,
   "metadata": {},
   "outputs": [],
   "source": [
    "assert len(filtered_ts) == (2008-1950+1)*12"
   ]
  },
  {
   "cell_type": "code",
   "execution_count": 14,
   "metadata": {},
   "outputs": [],
   "source": [
    "# filtered_anomalies = np.array([])\n",
    "# filtered_anomalies = np.array([np.concatenate((filtered_anomalies,val)) for val in anomaly_data_dict.values()]).flatten()"
   ]
  },
  {
   "cell_type": "code",
   "execution_count": 15,
   "metadata": {},
   "outputs": [],
   "source": [
    "# assert len(filtered_anomalies) == (2008-1950+1)*12"
   ]
  },
  {
   "cell_type": "code",
   "execution_count": 16,
   "metadata": {},
   "outputs": [
    {
     "data": {
      "image/png": "[encoded data removed]",
      "text/plain": [
       "<Figure size 432x288 with 1 Axes>"
      ]
     },
     "metadata": {
      "needs_background": "light"
     },
     "output_type": "display_data"
    }
   ],
   "source": [
    "plt.plot(filtered_ts)\n",
    "plt.xticks(range(0,708+1,12*10),labels=range(1950,2008+1,10))\n",
    "plt.show()"
   ]
  },
  {
   "cell_type": "code",
   "execution_count": 25,
   "metadata": {},
   "outputs": [],
   "source": [
    "def get_data(data,years,subtract_mean=False,means=None):\n",
    "    if subtract_mean == True:\n",
    "        assert means is not None\n",
    "    filtered_data = {int(year): data[year] for year in data.keys() if year in years }\n",
    "    filtered_ts = np.array([])\n",
    "    if subtract_mean:\n",
    "        filtered_ts = np.array([np.concatenate((filtered_ts,val-means)) for val in filtered_data.values()]).flatten()\n",
    "    else:\n",
    "        filtered_ts = np.array([np.concatenate((filtered_ts,val)) for val in filtered_data.values()]).flatten()\n",
    "    return filtered_ts"
   ]
  },
  {
   "cell_type": "markdown",
   "metadata": {},
   "source": [
    "### Train Test Split"
   ]
  },
  {
   "cell_type": "code",
   "execution_count": 18,
   "metadata": {},
   "outputs": [
    {
     "name": "stdout",
     "output_type": "stream",
     "text": [
      "Total years available\n",
      "[1950 1951 1952 1953 1954 1955 1956 1957 1958 1959 1960 1961 1962 1963\n",
      " 1964 1965 1966 1967 1968 1969 1970 1971 1972 1973 1974 1975 1976 1977\n",
      " 1978 1979 1980 1981 1982 1983 1984 1985 1986 1987 1988 1989 1990 1991\n",
      " 1992 1993 1994 1995 1996 1997 1998 1999 2000 2001 2002 2003 2004 2005\n",
      " 2006 2007 2008]\n",
      "Train Test ratio: 0.8\n",
      "No of years in training: 47\n",
      "[1950 1951 1952 1953 1954 1955 1956 1957 1958 1959 1960 1961 1962 1963\n",
      " 1964 1965 1966 1967 1968 1969 1970 1971 1972 1973 1974 1975 1976 1977\n",
      " 1978 1979 1980 1981 1982 1983 1984 1985 1986 1987 1988 1989 1990 1991\n",
      " 1992 1993 1994 1995 1996]\n",
      "No of years in testing: 12\n",
      "[1997 1998 1999 2000 2001 2002 2003 2004 2005 2006 2007 2008]\n"
     ]
    }
   ],
   "source": [
    "train_test_ratio = 0.8\n",
    "years = np.array(list(filtered_data.keys()))\n",
    "print('Total years available')\n",
    "print(years)\n",
    "print(f'Train Test ratio: {train_test_ratio}')\n",
    "training_years = years[:int(train_test_ratio*len(years))]\n",
    "print(f'No of years in training: {len(training_years)}')\n",
    "print(training_years)\n",
    "testing_years = years[int(train_test_ratio*len(years)):]\n",
    "print(f'No of years in testing: {len(testing_years)}')\n",
    "print(testing_years)"
   ]
  },
  {
   "cell_type": "markdown",
   "metadata": {},
   "source": [
    "## Loading fake non linear data"
   ]
  },
  {
   "cell_type": "code",
   "execution_count": 31,
   "metadata": {},
   "outputs": [],
   "source": [
    "p=5\n",
    "LOAD_DATA = True\n",
    "\n",
    "training_data_file_name = f'latest_fake_nonlinear_training_data_{p}.npy'\n",
    "testing_data_file_name = f'latest_fake_nonlinear_test_data_{p}.npy'\n",
    "\n",
    "if LOAD_DATA:\n",
    "    training_data = np.load(training_data_file_name)\n",
    "    test_data = np.load(testing_data_file_name)\n",
    "else:\n",
    "    np.save(training_data_file_name,training_data)\n",
    "    np.save(testing_data_file_name,test_data)"
   ]
  },
  {
   "cell_type": "markdown",
   "metadata": {},
   "source": [
    "### Plotting training data, mean, acf and pacf"
   ]
  },
  {
   "cell_type": "code",
   "execution_count": 32,
   "metadata": {},
   "outputs": [
    {
     "data": {
      "image/png": "[encoded data removed]",
      "text/plain": [
       "<Figure size 432x288 with 1 Axes>"
      ]
     },
     "metadata": {
      "needs_background": "light"
     },
     "output_type": "display_data"
    }
   ],
   "source": [
    "plt.plot(training_data)\n",
    "plt.xticks(range(0,len(training_data)+1,12),labels=training_years)\n",
    "plt.show()"
   ]
  },
  {
   "cell_type": "markdown",
   "metadata": {},
   "source": [
    "### Plotting test data"
   ]
  },
  {
   "cell_type": "code",
   "execution_count": 33,
   "metadata": {},
   "outputs": [
    {
     "data": {
      "image/png": "[encoded data removed]",
      "text/plain": [
       "<Figure size 432x288 with 1 Axes>"
      ]
     },
     "metadata": {
      "needs_background": "light"
     },
     "output_type": "display_data"
    }
   ],
   "source": [
    "plt.plot(test_data)\n",
    "plt.xticks(range(0,len(test_data)+1,12),labels=testing_years)\n",
    "plt.show()"
   ]
  },
  {
   "cell_type": "markdown",
   "metadata": {},
   "source": [
    "### Plotting train & test data"
   ]
  },
  {
   "cell_type": "code",
   "execution_count": 34,
   "metadata": {},
   "outputs": [
    {
     "data": {
      "image/png": "[encoded data removed]",
      "text/plain": [
       "<Figure size 432x288 with 1 Axes>"
      ]
     },
     "metadata": {
      "needs_background": "light"
     },
     "output_type": "display_data"
    }
   ],
   "source": [
    "plt.plot(range(0,len(training_data)),training_data,label='train')\n",
    "plt.plot(range(len(training_data),len(training_data)+len(test_data)),test_data,label='test')\n",
    "plt.xticks(range(0,len(training_data)+len(test_data)+1,12),labels=list(training_years)+list(testing_years))\n",
    "plt.legend()\n",
    "plt.show()"
   ]
  },
  {
   "cell_type": "code",
   "execution_count": 57,
   "metadata": {},
   "outputs": [
    {
     "data": {
      "image/png": "[encoded data removed]",
      "text/plain": [
       "<Figure size 864x576 with 2 Axes>"
      ]
     },
     "metadata": {
      "needs_background": "light"
     },
     "output_type": "display_data"
    }
   ],
   "source": [
    "fig = plt.figure(figsize=(12,8))\n",
    "ax1 = fig.add_subplot(211)\n",
    "fig = sm.graphics.tsa.plot_acf(training_data, lags=40, ax=ax1)\n",
    "ax2 = fig.add_subplot(212)\n",
    "fig = sm.graphics.tsa.plot_pacf(training_data, lags=40, ax=ax2)\n",
    "plt.show()"
   ]
  },
  {
   "cell_type": "markdown",
   "metadata": {},
   "source": [
    "### Scaling data"
   ]
  },
  {
   "cell_type": "code",
   "execution_count": 35,
   "metadata": {},
   "outputs": [],
   "source": [
    "# training_data = np.array(training_data)\n",
    "# test_data = np.array(test_data)"
   ]
  },
  {
   "cell_type": "code",
   "execution_count": null,
   "metadata": {},
   "outputs": [],
   "source": [
    "# scaler = MinMaxScaler(feature_range=(-1, 1))\n",
    "# scaled_training_data = scaler.fit_transform(training_data.reshape(-1, 1))\n",
    "# scaled_test_data = scaler.transform(test_data.reshape(-1, 1))"
   ]
  },
  {
   "cell_type": "code",
   "execution_count": null,
   "metadata": {},
   "outputs": [],
   "source": [
    "# scaled_training_data = training_data - np.tile(means,int(len(training_data)/12))\n",
    "\n",
    "# test_data = get_data(filtered_data,testing_years)\n",
    "# test_anomalies = get_data(anomaly_data_dict,testing_years)\n",
    "# scaled_test_data = test_data - np.tile(means,int(len(test_data)/12))"
   ]
  },
  {
   "cell_type": "markdown",
   "metadata": {},
   "source": [
    "### Plotting scaled training data, acf and pacf"
   ]
  },
  {
   "cell_type": "code",
   "execution_count": null,
   "metadata": {},
   "outputs": [],
   "source": [
    "# plt.plot(training_data)\n",
    "# #plt.plot(reqd_means)\n",
    "# plt.xticks(range(0,len(training_data)+1,12),labels=training_years)\n",
    "# plt.show()"
   ]
  },
  {
   "cell_type": "code",
   "execution_count": null,
   "metadata": {},
   "outputs": [],
   "source": [
    "# plt.plot(scaled_training_data)\n",
    "# #plt.plot(reqd_means)\n",
    "# plt.xticks(range(0,len(training_data)+1,12),labels=training_years)\n",
    "# plt.show()"
   ]
  },
  {
   "cell_type": "code",
   "execution_count": null,
   "metadata": {},
   "outputs": [],
   "source": [
    "# fig = plt.figure(figsize=(12,8))\n",
    "# ax1 = fig.add_subplot(211)\n",
    "# fig = sm.graphics.tsa.plot_acf(scaled_training_data, lags=40, ax=ax1)\n",
    "# ax2 = fig.add_subplot(212)\n",
    "# fig = sm.graphics.tsa.plot_pacf(scaled_training_data, lags=40, ax=ax2)\n",
    "# plt.show()"
   ]
  },
  {
   "cell_type": "code",
   "execution_count": 39,
   "metadata": {},
   "outputs": [
    {
     "data": {
      "text/plain": [
       "[(tensor([1.9821, 2.7291, 3.7961, 4.8658, 5.4988]), tensor([5.9258])),\n",
       " (tensor([2.7291, 3.7961, 4.8658, 5.4988, 5.9258]), tensor([6.3938])),\n",
       " (tensor([3.7961, 4.8658, 5.4988, 5.9258, 6.3938]), tensor([6.7373])),\n",
       " (tensor([4.8658, 5.4988, 5.9258, 6.3938, 6.7373]), tensor([7.2460])),\n",
       " (tensor([5.4988, 5.9258, 6.3938, 6.7373, 7.2460]), tensor([7.6970]))]"
      ]
     },
     "execution_count": 39,
     "metadata": {},
     "output_type": "execute_result"
    }
   ],
   "source": [
    "train_data_normalized = torch.FloatTensor(training_data).view(-1)\n",
    "train_window = 5\n",
    "\n",
    "def create_inout_sequences(input_data, tw):\n",
    "    inout_seq = []\n",
    "    L = len(input_data)\n",
    "    for i in range(L-tw):\n",
    "        train_seq = input_data[i:i+tw]\n",
    "        train_label = input_data[i+tw:i+tw+1]\n",
    "        inout_seq.append((train_seq ,train_label))\n",
    "    return inout_seq\n",
    "\n",
    "train_inout_seq = create_inout_sequences(train_data_normalized, train_window)\n",
    "\n",
    "train_inout_seq[:5]"
   ]
  },
  {
   "cell_type": "code",
   "execution_count": 40,
   "metadata": {},
   "outputs": [
    {
     "data": {
      "text/plain": [
       "[(tensor([9.2028, 8.9592, 8.9296, 8.8438, 8.9405]), tensor([8.9154])),\n",
       " (tensor([8.9592, 8.9296, 8.8438, 8.9405, 8.9154]), tensor([9.0588])),\n",
       " (tensor([8.9296, 8.8438, 8.9405, 8.9154, 9.0588]), tensor([9.3071])),\n",
       " (tensor([8.8438, 8.9405, 8.9154, 9.0588, 9.3071]), tensor([9.1521])),\n",
       " (tensor([8.9405, 8.9154, 9.0588, 9.3071, 9.1521]), tensor([9.1425]))]"
      ]
     },
     "execution_count": 40,
     "metadata": {},
     "output_type": "execute_result"
    }
   ],
   "source": [
    "test_data_normalized = torch.FloatTensor(test_data).view(-1)\n",
    "\n",
    "test_inout_seq = create_inout_sequences(test_data_normalized, train_window)\n",
    "\n",
    "test_inout_seq[:5]"
   ]
  },
  {
   "cell_type": "code",
   "execution_count": 41,
   "metadata": {},
   "outputs": [],
   "source": [
    "# print(f'scaled_training_data: {len(scaled_training_data)}\\n\\\n",
    "# scaled_test_data: {len(scaled_test_data)}\\n\\\n",
    "# training_data: {len(training_data)}\\n\\\n",
    "# test_data: {len(test_data)}\\n\\\n",
    "# train_inout_seq: {len(train_inout_seq)}\\n\\\n",
    "# test_inout_seq: {len(test_inout_seq)}\\n\\\n",
    "# ')"
   ]
  },
  {
   "cell_type": "code",
   "execution_count": 42,
   "metadata": {},
   "outputs": [],
   "source": [
    "import torch.nn as nn\n",
    "import torch.optim as optim\n",
    "\n",
    "class LSTM(nn.Module):\n",
    "    def __init__(self, input_size=1, hidden_layer_size=10, num_hidden_layers=1, output_size=1):\n",
    "        super().__init__()\n",
    "        self.hidden_layer_size = hidden_layer_size\n",
    "\n",
    "        self.lstm = nn.LSTM(input_size, hidden_layer_size, num_hidden_layers)\n",
    "\n",
    "        self.linear = nn.Linear(hidden_layer_size, output_size)\n",
    "\n",
    "#         self.hidden_cell = (torch.zeros(1,1,self.hidden_layer_size),\n",
    "#                             torch.zeros(1,1,self.hidden_layer_size))\n",
    "\n",
    "    def forward(self, input_seq):\n",
    "        #lstm_out, self.hidden_cell = self.lstm(input_seq.view(len(input_seq) ,1, -1), self.hidden_cell)\n",
    "        format_input = input_seq.view(len(input_seq) ,1, -1)\n",
    "        lstm_out,_ = self.lstm(format_input)\n",
    "        predictions = self.linear(lstm_out.view(len(input_seq), -1))\n",
    "        return predictions[-1]"
   ]
  },
  {
   "cell_type": "markdown",
   "metadata": {},
   "source": [
    "### Fitting LSTM model"
   ]
  },
  {
   "cell_type": "code",
   "execution_count": 43,
   "metadata": {},
   "outputs": [],
   "source": [
    "# input_size=1\n",
    "# num_hidden_layers=2\n",
    "# hidden_layer_size=100\n",
    "# output_size=1\n",
    "\n",
    "# model = LSTM(input_size,hidden_layer_size,num_hidden_layers,output_size)\n",
    "# loss_function = nn.MSELoss()\n",
    "# optimizer = torch.optim.Adam(model.parameters(), lr=0.001)\n",
    "# scheduler = ReduceLROnPlateau(optimizer, 'min', verbose=True, patience=4)\n",
    "# print(model)"
   ]
  },
  {
   "cell_type": "code",
   "execution_count": 44,
   "metadata": {},
   "outputs": [],
   "source": [
    "# epochs = 150\n",
    "\n",
    "# for i in range(epochs):\n",
    "#     for seq, labels in train_inout_seq:\n",
    "#         optimizer.zero_grad()\n",
    "# #         model.hidden_cell = (torch.zeros(1, 1, model.hidden_layer_size),\n",
    "# #                         torch.zeros(1, 1, model.hidden_layer_size))\n",
    "\n",
    "#         y_pred = model(seq)\n",
    "\n",
    "#         single_loss = loss_function(y_pred, labels)\n",
    "#         single_loss.backward()\n",
    "#         optimizer.step()\n",
    "\n",
    "#     if i%25 == 1:\n",
    "#         print(f'epoch: {i:3} loss: {single_loss.item():10.8f}')\n",
    "\n",
    "# print(f'epoch: {i:3} loss: {single_loss.item():10.10f}')"
   ]
  },
  {
   "cell_type": "code",
   "execution_count": 45,
   "metadata": {},
   "outputs": [],
   "source": [
    "# train_window = 12\n",
    "# fut_pred = 12\n",
    "\n",
    "# test_inputs = train_data_normalized[-train_window:].tolist()\n",
    "# print(test_inputs)\n",
    "\n",
    "# model.eval()\n",
    "\n",
    "# for i in range(fut_pred):\n",
    "#     seq = torch.FloatTensor(test_inputs[-train_window:])\n",
    "#     with torch.no_grad():\n",
    "# #         model.hidden = (torch.zeros(1, 1, model.hidden_layer_size),\n",
    "# #                         torch.zeros(1, 1, model.hidden_layer_size))\n",
    "#         test_inputs.append(model(seq).item())\n",
    "        \n",
    "# print(test_inputs[fut_pred:])\n",
    "\n",
    "# actual_predictions = scaler.inverse_transform(np.array(test_inputs[train_window:] ).reshape(-1, 1))\n",
    "# print(actual_predictions)"
   ]
  },
  {
   "cell_type": "code",
   "execution_count": 46,
   "metadata": {},
   "outputs": [],
   "source": [
    "# x = np.arange(132, 144, 1)\n",
    "# print(x)"
   ]
  },
  {
   "cell_type": "code",
   "execution_count": 47,
   "metadata": {},
   "outputs": [],
   "source": [
    "# plt.title('Month vs Passenger')\n",
    "# plt.ylabel('Total Passengers')\n",
    "# plt.grid(True)\n",
    "# plt.autoscale(axis='x', tight=True)\n",
    "# plt.plot(flight_data['passengers'])\n",
    "# plt.plot(x,actual_predictions)\n",
    "# plt.show()"
   ]
  },
  {
   "cell_type": "markdown",
   "metadata": {},
   "source": [
    "## FITTING RNN MODEL"
   ]
  },
  {
   "cell_type": "code",
   "execution_count": 48,
   "metadata": {},
   "outputs": [],
   "source": [
    "def evaluate(rescale=True, display_plots=False):\n",
    "    model.eval()\n",
    "    scaled_predictions = []\n",
    "    scaled_actuals = []\n",
    "    for i in range(len(test_inout_seq)):\n",
    "        seq = torch.FloatTensor(test_inout_seq[i][0])\n",
    "        scaled_actuals.append(test_inout_seq[i][1].item())\n",
    "        with torch.no_grad():\n",
    "#             model.hidden = (torch.zeros(1, 1, model.hidden_layer_size),\n",
    "#                             torch.zeros(1, 1, model.hidden_layer_size))\n",
    "            scaled_predictions.append(model(seq).item())\n",
    "    if rescale:\n",
    "        actuals = scaler.inverse_transform(np.array(scaled_actuals).reshape(-1, 1))\n",
    "        predictions = scaler.inverse_transform(np.array(scaled_predictions).reshape(-1, 1))\n",
    "    else:\n",
    "        actuals=scaled_actuals\n",
    "        predictions=scaled_predictions\n",
    "    a1 = actuals\n",
    "    p1 = predictions\n",
    "    #actuals = test_data\n",
    "    if display_plots:\n",
    "        plt.plot(actuals,label='Truth')\n",
    "        plt.plot(predictions,label='Preds')\n",
    "        plt.xticks(range(0,len(test_data)+1,12),labels=testing_years)\n",
    "        plt.legend()\n",
    "        plt.show()\n",
    "    test_mrse = mrse(actuals,predictions)\n",
    "    test_re = re(actuals,predictions)\n",
    "    test_error = error(actuals,predictions)\n",
    "    return test_mrse,test_re,test_error,a1,p1\n",
    "    #print(f'Test MRSE: {test_mrse}\\nTest RE: {test_re}\\nTest ERROR: {test_error}')"
   ]
  },
  {
   "cell_type": "markdown",
   "metadata": {},
   "source": [
    "## GRID SEARCH FOR RNN"
   ]
  },
  {
   "cell_type": "code",
   "execution_count": 51,
   "metadata": {},
   "outputs": [
    {
     "name": "stdout",
     "output_type": "stream",
     "text": [
      "LSTM(\n",
      "  (lstm): LSTM(1, 25, num_layers=3)\n",
      "  (linear): Linear(in_features=25, out_features=1, bias=True)\n",
      ")\n",
      "Best Model saved at epoch: 0 with metric: 0.21593939698087183 num_hidden_layers: 3 hidden_layer_size: 25\n",
      "epoch:   1 loss: 57.20104283\n",
      "Best Model saved at epoch: 1 with metric: 0.2097157054500236 num_hidden_layers: 3 hidden_layer_size: 25\n",
      "Best Model saved at epoch: 3 with metric: 0.20949134514371992 num_hidden_layers: 3 hidden_layer_size: 25\n",
      "epoch:   6 loss: 56.91425264\n",
      "Epoch     8: reducing learning rate of group 0 to 1.0000e-04.\n",
      "Best Model saved at epoch: 9 with metric: 0.20939461293534858 num_hidden_layers: 3 hidden_layer_size: 25\n",
      "Best Model saved at epoch: 10 with metric: 0.20937345103448962 num_hidden_layers: 3 hidden_layer_size: 25\n",
      "epoch:  11 loss: 56.14805874\n",
      "Best Model saved at epoch: 11 with metric: 0.20934179026613609 num_hidden_layers: 3 hidden_layer_size: 25\n",
      "Best Model saved at epoch: 12 with metric: 0.20928141659697336 num_hidden_layers: 3 hidden_layer_size: 25\n",
      "Best Model saved at epoch: 13 with metric: 0.20915789009768518 num_hidden_layers: 3 hidden_layer_size: 25\n",
      "Best Model saved at epoch: 14 with metric: 0.20888486455751942 num_hidden_layers: 3 hidden_layer_size: 25\n",
      "Best Model saved at epoch: 15 with metric: 0.20825669885322098 num_hidden_layers: 3 hidden_layer_size: 25\n",
      "epoch:  16 loss: 36.48849207\n",
      "Best Model saved at epoch: 16 with metric: 0.20736678775274914 num_hidden_layers: 3 hidden_layer_size: 25\n",
      "Best Model saved at epoch: 17 with metric: 0.2068186671245096 num_hidden_layers: 3 hidden_layer_size: 25\n",
      "Best Model saved at epoch: 18 with metric: 0.2061319768567703 num_hidden_layers: 3 hidden_layer_size: 25\n",
      "Best Model saved at epoch: 19 with metric: 0.20543756108694072 num_hidden_layers: 3 hidden_layer_size: 25\n",
      "Best Model saved at epoch: 20 with metric: 0.2047855800828122 num_hidden_layers: 3 hidden_layer_size: 25\n",
      "epoch:  21 loss: 29.15002141\n",
      "Best Model saved at epoch: 21 with metric: 0.20420786030523172 num_hidden_layers: 3 hidden_layer_size: 25\n",
      "Best Model saved at epoch: 22 with metric: 0.2037098498928735 num_hidden_layers: 3 hidden_layer_size: 25\n",
      "Best Model saved at epoch: 23 with metric: 0.2032921341999112 num_hidden_layers: 3 hidden_layer_size: 25\n",
      "Best Model saved at epoch: 24 with metric: 0.20295358822698956 num_hidden_layers: 3 hidden_layer_size: 25\n",
      "Best Model saved at epoch: 25 with metric: 0.20268919535692587 num_hidden_layers: 3 hidden_layer_size: 25\n",
      "epoch:  26 loss: 26.34037076\n",
      "Best Model saved at epoch: 26 with metric: 0.20249097081750508 num_hidden_layers: 3 hidden_layer_size: 25\n",
      "Best Model saved at epoch: 27 with metric: 0.20234891127237137 num_hidden_layers: 3 hidden_layer_size: 25\n",
      "Best Model saved at epoch: 28 with metric: 0.20225382724859953 num_hidden_layers: 3 hidden_layer_size: 25\n",
      "Best Model saved at epoch: 29 with metric: 0.20219734798457425 num_hidden_layers: 3 hidden_layer_size: 25\n",
      "Best Model saved at epoch: 30 with metric: 0.20217252539942418 num_hidden_layers: 3 hidden_layer_size: 25\n",
      "epoch:  31 loss: 25.37702666\n",
      "Epoch    35: reducing learning rate of group 0 to 1.0000e-05.\n",
      "epoch:  36 loss: 24.34790633\n",
      "Best Model saved at epoch: 36 with metric: 0.19998035194798766 num_hidden_layers: 3 hidden_layer_size: 25\n",
      "Best Model saved at epoch: 37 with metric: 0.199500270273852 num_hidden_layers: 3 hidden_layer_size: 25\n",
      "Best Model saved at epoch: 38 with metric: 0.19897828310313953 num_hidden_layers: 3 hidden_layer_size: 25\n",
      "Best Model saved at epoch: 39 with metric: 0.19845164956574562 num_hidden_layers: 3 hidden_layer_size: 25\n",
      "Best Model saved at epoch: 40 with metric: 0.19792927274191782 num_hidden_layers: 3 hidden_layer_size: 25\n",
      "epoch:  41 loss: 23.17971623\n",
      "Best Model saved at epoch: 41 with metric: 0.1974140118474359 num_hidden_layers: 3 hidden_layer_size: 25\n",
      "Best Model saved at epoch: 42 with metric: 0.19690732940227854 num_hidden_layers: 3 hidden_layer_size: 25\n",
      "Best Model saved at epoch: 43 with metric: 0.196409076963384 num_hidden_layers: 3 hidden_layer_size: 25\n",
      "Best Model saved at epoch: 44 with metric: 0.1959201537747881 num_hidden_layers: 3 hidden_layer_size: 25\n",
      "Best Model saved at epoch: 45 with metric: 0.19544073932970119 num_hidden_layers: 3 hidden_layer_size: 25\n",
      "epoch:  46 loss: 22.33170454\n",
      "Best Model saved at epoch: 46 with metric: 0.19497032692438065 num_hidden_layers: 3 hidden_layer_size: 25\n",
      "Best Model saved at epoch: 47 with metric: 0.1945096459394376 num_hidden_layers: 3 hidden_layer_size: 25\n",
      "Best Model saved at epoch: 48 with metric: 0.19405845446026398 num_hidden_layers: 3 hidden_layer_size: 25\n",
      "Best Model saved at epoch: 49 with metric: 0.19361740381850628 num_hidden_layers: 3 hidden_layer_size: 25\n",
      "Best Model saved at epoch: 50 with metric: 0.1931861191175096 num_hidden_layers: 3 hidden_layer_size: 25\n",
      "epoch:  51 loss: 21.60881218\n",
      "Best Model saved at epoch: 51 with metric: 0.1927645303932647 num_hidden_layers: 3 hidden_layer_size: 25\n",
      "Best Model saved at epoch: 52 with metric: 0.19235231225410052 num_hidden_layers: 3 hidden_layer_size: 25\n",
      "Best Model saved at epoch: 53 with metric: 0.19194918373059042 num_hidden_layers: 3 hidden_layer_size: 25\n",
      "Best Model saved at epoch: 54 with metric: 0.1915552966933095 num_hidden_layers: 3 hidden_layer_size: 25\n",
      "Best Model saved at epoch: 55 with metric: 0.19117064628232627 num_hidden_layers: 3 hidden_layer_size: 25\n",
      "epoch:  56 loss: 20.98939179\n",
      "Best Model saved at epoch: 56 with metric: 0.19079459716400843 num_hidden_layers: 3 hidden_layer_size: 25\n",
      "Best Model saved at epoch: 57 with metric: 0.19042700964712245 num_hidden_layers: 3 hidden_layer_size: 25\n",
      "Best Model saved at epoch: 58 with metric: 0.19006782879907086 num_hidden_layers: 3 hidden_layer_size: 25\n",
      "Best Model saved at epoch: 59 with metric: 0.18971726377050052 num_hidden_layers: 3 hidden_layer_size: 25\n",
      "Best Model saved at epoch: 60 with metric: 0.18937483174410683 num_hidden_layers: 3 hidden_layer_size: 25\n",
      "epoch:  61 loss: 20.45268544\n",
      "Best Model saved at epoch: 61 with metric: 0.18904067720776793 num_hidden_layers: 3 hidden_layer_size: 25\n",
      "Best Model saved at epoch: 62 with metric: 0.1887147826458248 num_hidden_layers: 3 hidden_layer_size: 25\n",
      "Best Model saved at epoch: 63 with metric: 0.18839650041167105 num_hidden_layers: 3 hidden_layer_size: 25\n",
      "Best Model saved at epoch: 64 with metric: 0.18808584880757692 num_hidden_layers: 3 hidden_layer_size: 25\n",
      "Best Model saved at epoch: 65 with metric: 0.18778277174431607 num_hidden_layers: 3 hidden_layer_size: 25\n",
      "epoch:  66 loss: 19.98505148\n",
      "Best Model saved at epoch: 66 with metric: 0.18748705501268292 num_hidden_layers: 3 hidden_layer_size: 25\n",
      "Best Model saved at epoch: 67 with metric: 0.1871984977948838 num_hidden_layers: 3 hidden_layer_size: 25\n",
      "Best Model saved at epoch: 68 with metric: 0.18691712306027192 num_hidden_layers: 3 hidden_layer_size: 25\n",
      "Best Model saved at epoch: 69 with metric: 0.18664261886000408 num_hidden_layers: 3 hidden_layer_size: 25\n",
      "Best Model saved at epoch: 70 with metric: 0.18637505564363155 num_hidden_layers: 3 hidden_layer_size: 25\n",
      "epoch:  71 loss: 19.57635479\n",
      "Best Model saved at epoch: 71 with metric: 0.18611430312956 num_hidden_layers: 3 hidden_layer_size: 25\n",
      "Best Model saved at epoch: 72 with metric: 0.1858599368902223 num_hidden_layers: 3 hidden_layer_size: 25\n",
      "Best Model saved at epoch: 73 with metric: 0.18561215038378073 num_hidden_layers: 3 hidden_layer_size: 25\n",
      "Best Model saved at epoch: 74 with metric: 0.18537079621826485 num_hidden_layers: 3 hidden_layer_size: 25\n",
      "Best Model saved at epoch: 75 with metric: 0.18513564391650167 num_hidden_layers: 3 hidden_layer_size: 25\n",
      "epoch:  76 loss: 19.21851485\n",
      "Best Model saved at epoch: 76 with metric: 0.18490635392661697 num_hidden_layers: 3 hidden_layer_size: 25\n",
      "Best Model saved at epoch: 77 with metric: 0.18468322479836907 num_hidden_layers: 3 hidden_layer_size: 25\n",
      "Best Model saved at epoch: 78 with metric: 0.18446558079463887 num_hidden_layers: 3 hidden_layer_size: 25\n",
      "Best Model saved at epoch: 79 with metric: 0.18425370232924856 num_hidden_layers: 3 hidden_layer_size: 25\n",
      "Best Model saved at epoch: 80 with metric: 0.18404755052854477 num_hidden_layers: 3 hidden_layer_size: 25\n",
      "epoch:  81 loss: 18.90390474\n",
      "Best Model saved at epoch: 81 with metric: 0.1838468022380029 num_hidden_layers: 3 hidden_layer_size: 25\n",
      "Best Model saved at epoch: 82 with metric: 0.18365152149022923 num_hidden_layers: 3 hidden_layer_size: 25\n",
      "Best Model saved at epoch: 83 with metric: 0.183461612321362 num_hidden_layers: 3 hidden_layer_size: 25\n",
      "Best Model saved at epoch: 84 with metric: 0.18327689306779377 num_hidden_layers: 3 hidden_layer_size: 25\n",
      "Best Model saved at epoch: 85 with metric: 0.1830971872815725 num_hidden_layers: 3 hidden_layer_size: 25\n",
      "epoch:  86 loss: 18.62686916\n",
      "Best Model saved at epoch: 86 with metric: 0.18292271465835458 num_hidden_layers: 3 hidden_layer_size: 25\n",
      "Best Model saved at epoch: 87 with metric: 0.1827532176823766 num_hidden_layers: 3 hidden_layer_size: 25\n",
      "Best Model saved at epoch: 88 with metric: 0.18258859372368538 num_hidden_layers: 3 hidden_layer_size: 25\n",
      "Best Model saved at epoch: 89 with metric: 0.18242869075222293 num_hidden_layers: 3 hidden_layer_size: 25\n",
      "Best Model saved at epoch: 90 with metric: 0.18227337300729501 num_hidden_layers: 3 hidden_layer_size: 25\n",
      "epoch:  91 loss: 18.38383277\n",
      "Best Model saved at epoch: 91 with metric: 0.18212242325382397 num_hidden_layers: 3 hidden_layer_size: 25\n",
      "Best Model saved at epoch: 92 with metric: 0.1819758373460012 num_hidden_layers: 3 hidden_layer_size: 25\n",
      "Best Model saved at epoch: 93 with metric: 0.18183345413887483 num_hidden_layers: 3 hidden_layer_size: 25\n",
      "Best Model saved at epoch: 94 with metric: 0.18169513372095097 num_hidden_layers: 3 hidden_layer_size: 25\n",
      "Best Model saved at epoch: 95 with metric: 0.18156050940308027 num_hidden_layers: 3 hidden_layer_size: 25\n",
      "epoch:  96 loss: 18.17051623\n",
      "Best Model saved at epoch: 96 with metric: 0.18142989917236252 num_hidden_layers: 3 hidden_layer_size: 25\n",
      "Best Model saved at epoch: 97 with metric: 0.18130265717116953 num_hidden_layers: 3 hidden_layer_size: 25\n",
      "Best Model saved at epoch: 98 with metric: 0.18117919818836073 num_hidden_layers: 3 hidden_layer_size: 25\n",
      "Best Model saved at epoch: 99 with metric: 0.18105896777316674 num_hidden_layers: 3 hidden_layer_size: 25\n",
      "epoch:  99 loss: 0.0058123292\n",
      "Total Training took 0:03:29.889271 seconds\n"
     ]
    }
   ],
   "source": [
    "p=5\n",
    "# layers = [1,2,3]\n",
    "# sizes = [10,25,50,100,150,200]\n",
    "layers = [3]\n",
    "sizes = [25]\n",
    "epochs = 100\n",
    "loss_function = nn.MSELoss()\n",
    "input_size=1\n",
    "output_size=1\n",
    "skip_cnt = 0\n",
    "lr_threshold = 1e-5\n",
    "best_test_metric = np.inf\n",
    "best_path = None\n",
    "loss_values = []\n",
    "metric_values = []\n",
    "start = datetime.now()\n",
    "for a,l in enumerate(layers):\n",
    "    for b,s in enumerate(sizes):\n",
    "        if (a*len(sizes))+(b)<skip_cnt:\n",
    "            print(f'Skipping num_hidden_layers: {l} hidden_layer_size: {s}')\n",
    "        else:\n",
    "            num_hidden_layers=l\n",
    "            hidden_layer_size=s\n",
    "            prev_running_loss = np.inf\n",
    "            model = LSTM(input_size,hidden_layer_size,num_hidden_layers,output_size)\n",
    "            print(model)\n",
    "            optimizer = torch.optim.Adam(model.parameters(), lr=0.001)\n",
    "            scheduler = ReduceLROnPlateau(optimizer, 'min', verbose=True, patience=4)\n",
    "            best_model_params = model.state_dict()\n",
    "            PATH = f'ensomodels/best_rnn_model_{p}_{l}_{s}.pth'\n",
    "\n",
    "            for i in range(epochs):\n",
    "                running_loss = 0.0\n",
    "                cnt=0\n",
    "                for seq, labels in train_inout_seq:\n",
    "                    optimizer.zero_grad()\n",
    "            #         model.hidden_cell = (torch.zeros(1, 1, model.hidden_layer_size),\n",
    "            #                         torch.zeros(1, 1, model.hidden_layer_size))\n",
    "\n",
    "                    y_pred = model(seq)\n",
    "                    single_loss = loss_function(y_pred, labels)\n",
    "                    single_loss.backward()\n",
    "                    optimizer.step()\n",
    "                    current_loss = single_loss.item()\n",
    "                    running_loss += current_loss\n",
    "                loss_values.append(running_loss)\n",
    "                current_lr = get_lr(optimizer)\n",
    "                if current_lr < lr_threshold:\n",
    "                    print('LR lower than threshold {lr_threshold}. stopping training')\n",
    "                    break\n",
    "                    \n",
    "#                 if running_loss > prev_running_loss:\n",
    "#                     print('Training loss started to increase. stopping training...')\n",
    "#                     prev_running_loss = running_loss\n",
    "#                     cnt += 1\n",
    "#                     if cnt > 4:   \n",
    "#                         break\n",
    "#                 else:\n",
    "#                     cnt=0\n",
    "                prev_running_loss = running_loss\n",
    "                test_mrse,test_re,test_error,_,_ = evaluate(False,False)\n",
    "                metric_values.append(test_error)\n",
    "                if i%5 == 1:\n",
    "                    print(f'epoch: {i:3} loss: {running_loss:10.8f}')\n",
    "                test_metric = test_error \n",
    "                scheduler.step(test_metric)\n",
    "                if(test_metric < best_test_metric):\n",
    "                    count = 0\n",
    "                    best_test_metric = test_metric\n",
    "                    best_path = PATH\n",
    "                    torch.save({\n",
    "                        'state_dict': model.state_dict(),\n",
    "                        }, PATH)\n",
    "                    print(f\"Best Model saved at epoch: {i} with metric: {best_test_metric} num_hidden_layers: {l} hidden_layer_size: {s}\")\n",
    "                else:\n",
    "                    count+=1\n",
    "            #     if(count >= 5):\n",
    "            #         print(\"Validation has not improved since 5 epochs. Early Stopping...\")\n",
    "            #         break\n",
    "            print(f'epoch: {i:3} loss: {single_loss.item():10.10f}')\n",
    "end = datetime.now()\n",
    "print(f'Total Training took {end-start} seconds')"
   ]
  },
  {
   "cell_type": "code",
   "execution_count": 52,
   "metadata": {},
   "outputs": [],
   "source": [
    "num_hidden_layers=int(best_path.split('_')[-2])\n",
    "hidden_layer_size=int(best_path.split('_')[-1].split('.')[0])"
   ]
  },
  {
   "cell_type": "code",
   "execution_count": 53,
   "metadata": {},
   "outputs": [
    {
     "data": {
      "text/plain": [
       "('ensomodels/best_rnn_model_5_3_25.pth', 3, 25)"
      ]
     },
     "execution_count": 53,
     "metadata": {},
     "output_type": "execute_result"
    }
   ],
   "source": [
    "best_path,num_hidden_layers,hidden_layer_size"
   ]
  },
  {
   "cell_type": "code",
   "execution_count": 54,
   "metadata": {},
   "outputs": [
    {
     "data": {
      "image/png": "[encoded data removed]",
      "text/plain": [
       "<Figure size 432x288 with 1 Axes>"
      ]
     },
     "metadata": {
      "needs_background": "light"
     },
     "output_type": "display_data"
    },
    {
     "name": "stdout",
     "output_type": "stream",
     "text": [
      "Test MRSE: 0.8644234413882168\n",
      "Test RE: 0.020055442421783722\n",
      "Test ERROR: 0.18105896777316674\n"
     ]
    }
   ],
   "source": [
    "model = LSTM(input_size,hidden_layer_size,num_hidden_layers,output_size)\n",
    "model_dict = torch.load(best_path)\n",
    "model.load_state_dict(model_dict['state_dict'])\n",
    "test_mrse,test_re,test_error,a1,p1 = evaluate(rescale=False,display_plots=True)\n",
    "print(f'Test MRSE: {test_mrse}\\nTest RE: {test_re}\\nTest ERROR: {test_error}')"
   ]
  },
  {
   "cell_type": "code",
   "execution_count": 55,
   "metadata": {},
   "outputs": [
    {
     "data": {
      "text/plain": [
       "Text(0, 0.5, 'Loss')"
      ]
     },
     "execution_count": 55,
     "metadata": {},
     "output_type": "execute_result"
    },
    {
     "data": {
      "image/png": "[encoded data removed]",
      "text/plain": [
       "<Figure size 432x288 with 1 Axes>"
      ]
     },
     "metadata": {
      "needs_background": "light"
     },
     "output_type": "display_data"
    }
   ],
   "source": [
    "plt.plot(loss_values)\n",
    "plt.xlabel('No of Epochs')\n",
    "plt.ylabel('Loss')"
   ]
  },
  {
   "cell_type": "code",
   "execution_count": 56,
   "metadata": {},
   "outputs": [
    {
     "data": {
      "text/plain": [
       "Text(0, 0.5, 'Test RMSE')"
      ]
     },
     "execution_count": 56,
     "metadata": {},
     "output_type": "execute_result"
    },
    {
     "data": {
      "image/png": "[encoded data removed]",
      "text/plain": [
       "<Figure size 432x288 with 1 Axes>"
      ]
     },
     "metadata": {
      "needs_background": "light"
     },
     "output_type": "display_data"
    }
   ],
   "source": [
    "plt.plot(metric_values)\n",
    "plt.xlabel('No of Epochs')\n",
    "plt.ylabel('Test RMSE')"
   ]
  },
  {
   "cell_type": "code",
   "execution_count": null,
   "metadata": {},
   "outputs": [],
   "source": []
  },
  {
   "cell_type": "code",
   "execution_count": null,
   "metadata": {},
   "outputs": [],
   "source": []
  },
  {
   "cell_type": "code",
   "execution_count": null,
   "metadata": {},
   "outputs": [],
   "source": []
  },
  {
   "cell_type": "code",
   "execution_count": null,
   "metadata": {},
   "outputs": [],
   "source": []
  },
  {
   "cell_type": "code",
   "execution_count": null,
   "metadata": {},
   "outputs": [],
   "source": []
  },
  {
   "cell_type": "code",
   "execution_count": null,
   "metadata": {},
   "outputs": [],
   "source": []
  }
 ],
 "metadata": {
  "kernelspec": {
   "display_name": "Python 3",
   "language": "python",
   "name": "python3"
  },
  "language_info": {
   "codemirror_mode": {
    "name": "ipython",
    "version": 3
   },
   "file_extension": ".py",
   "mimetype": "text/x-python",
   "name": "python",
   "nbconvert_exporter": "python",
   "pygments_lexer": "ipython3",
   "version": "3.6.9"
  }
 },
 "nbformat": 4,
 "nbformat_minor": 4
}
