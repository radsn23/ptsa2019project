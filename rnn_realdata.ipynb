{
 "cells": [
  {
   "cell_type": "code",
   "execution_count": 1,
   "metadata": {},
   "outputs": [
    {
     "name": "stderr",
     "output_type": "stream",
     "text": [
      "/Users/shreyasc/anaconda3/envs/timeseries/lib/python3.6/importlib/_bootstrap.py:219: RuntimeWarning: numpy.dtype size changed, may indicate binary incompatibility. Expected 96, got 88\n",
      "  return f(*args, **kwds)\n",
      "/Users/shreyasc/anaconda3/envs/timeseries/lib/python3.6/importlib/_bootstrap.py:219: RuntimeWarning: numpy.dtype size changed, may indicate binary incompatibility. Expected 96, got 88\n",
      "  return f(*args, **kwds)\n",
      "/Users/shreyasc/anaconda3/envs/timeseries/lib/python3.6/site-packages/statsmodels/compat/pandas.py:56: FutureWarning: The pandas.core.datetools module is deprecated and will be removed in a future version. Please use the pandas.tseries module instead.\n",
      "  from pandas.core import datetools\n",
      "/Users/shreyasc/anaconda3/envs/timeseries/lib/python3.6/importlib/_bootstrap.py:219: RuntimeWarning: numpy.dtype size changed, may indicate binary incompatibility. Expected 96, got 88\n",
      "  return f(*args, **kwds)\n",
      "/Users/shreyasc/anaconda3/envs/timeseries/lib/python3.6/importlib/_bootstrap.py:219: RuntimeWarning: numpy.dtype size changed, may indicate binary incompatibility. Expected 96, got 88\n",
      "  return f(*args, **kwds)\n"
     ]
    }
   ],
   "source": [
    "import statsmodels\n",
    "from statsmodels.tsa.stattools import acf, ccf, pacf\n",
    "from statsmodels.graphics.tsaplots import plot_acf, plot_pacf\n",
    "from statsmodels.tsa.arima_model import ARIMA\n",
    "from statsmodels.graphics import utils\n",
    "import numpy as np\n",
    "import matplotlib.pyplot as plt\n",
    "import pandas as pd\n",
    "import statsmodels.api as sm\n",
    "from statsmodels.graphics.api import qqplot\n",
    "import os\n",
    "\n",
    "import sklearn\n",
    "import torch\n",
    "import torch.nn\n",
    "\n",
    "from torch.autograd import Variable\n",
    "from torch.optim.lr_scheduler import ReduceLROnPlateau\n",
    "from sklearn.preprocessing import StandardScaler,MinMaxScaler\n",
    "import seaborn as sns\n",
    "\n",
    "DATA_DIR = './data/'"
   ]
  },
  {
   "cell_type": "code",
   "execution_count": 2,
   "metadata": {},
   "outputs": [],
   "source": [
    "def get_lr(optimizer):\n",
    "    for param_group in optimizer.param_groups:\n",
    "        return param_group['lr']"
   ]
  },
  {
   "cell_type": "markdown",
   "metadata": {},
   "source": [
    "### Metrics functions"
   ]
  },
  {
   "cell_type": "code",
   "execution_count": 3,
   "metadata": {},
   "outputs": [],
   "source": [
    "def mrse(actuals, preds):\n",
    "    actuals = np.array(actuals)\n",
    "    preds = np.array(preds)\n",
    "\n",
    "    denom = np.sqrt(np.sum(np.square(actuals - np.mean(actuals))))\n",
    "    num = np.sqrt(np.sum(np.square(actuals - preds)))\n",
    "\n",
    "    return 1.0*num/denom\n",
    "\n",
    "def re(actuals, preds):\n",
    "    actuals = np.array(actuals)\n",
    "    preds = np.array(preds)\n",
    "    denom = np.sqrt(np.sum(np.square(actuals)))\n",
    "    num = np.sqrt(np.sum(np.square(actuals - preds)))\n",
    "    return 1.0*num/denom\n",
    "\n",
    "\n",
    "def error(actuals, preds):\n",
    "    actuals = np.array(actuals)\n",
    "    preds = np.array(preds)\n",
    "    return np.sqrt(np.mean(np.square(actuals-preds)))"
   ]
  },
  {
   "cell_type": "markdown",
   "metadata": {},
   "source": [
    "## Reading Nino 3.4 data"
   ]
  },
  {
   "cell_type": "code",
   "execution_count": 4,
   "metadata": {},
   "outputs": [],
   "source": [
    "filename = 'nino34_data.txt'"
   ]
  },
  {
   "cell_type": "code",
   "execution_count": 5,
   "metadata": {},
   "outputs": [],
   "source": [
    "data = open(DATA_DIR + filename)\n",
    "data_dict = {}\n",
    "\n",
    "for line in data.readlines()[1:-3]:\n",
    "    \n",
    "    tokens = line.split(' ')\n",
    "    values = []\n",
    "    for token in tokens:\n",
    "        if token == '':\n",
    "            pass\n",
    "        else:\n",
    "            if '\\n' in token:\n",
    "                token = token[:-2]\n",
    "            values.append(float(token))\n",
    "    data_dict.update({values[0]:values[1:]})"
   ]
  },
  {
   "cell_type": "code",
   "execution_count": 6,
   "metadata": {},
   "outputs": [
    {
     "name": "stdout",
     "output_type": "stream",
     "text": [
      "1948.0 [-99.99, -99.99, -99.99, -99.99, -99.99, -99.99, -99.99, -99.99, -99.99, -99.99, -99.99, -99.9]\n",
      "1949.0 [-99.99, -99.99, -99.99, -99.99, -99.99, -99.99, -99.99, -99.99, -99.99, -99.99, -99.99, -99.9]\n",
      "1950.0 [24.55, 25.06, 25.87, 26.28, 26.18, 26.46, 26.29, 25.88, 25.74, 25.69, 25.47, 25.2]\n",
      "1951.0 [25.24, 25.71, 26.9, 27.58, 27.92, 27.73, 27.6, 27.02, 27.23, 27.2, 27.25, 26.9]\n",
      "1952.0 [26.67, 26.74, 27.17, 27.8, 27.79, 27.18, 26.53, 26.3, 26.36, 26.26, 25.92, 26.2]\n",
      "1953.0 [26.74, 27.0, 27.57, 28.04, 28.28, 28.12, 27.43, 26.94, 27.01, 26.87, 26.88, 27.0]\n",
      "1954.0 [26.98, 27.03, 26.9, 26.64, 27.12, 26.8, 26.11, 25.43, 25.12, 25.23, 25.57, 25.2]\n",
      "1955.0 [25.61, 25.81, 26.22, 26.6, 26.66, 26.55, 26.15, 25.51, 25.28, 24.41, 24.25, 24.5]\n",
      "1956.0 [25.34, 25.76, 26.46, 26.85, 27.13, 26.81, 26.23, 25.68, 25.73, 25.75, 25.56, 25.7]\n",
      "1957.0 [26.04, 26.54, 27.46, 28.23, 28.55, 28.36, 28.17, 27.69, 27.44, 27.42, 27.62, 27.9]\n",
      "1958.0 [28.33, 28.24, 28.27, 28.27, 28.31, 27.99, 27.32, 26.85, 26.4, 26.45, 26.75, 26.6]\n",
      "1959.0 [27.07, 27.18, 27.47, 27.88, 27.7, 27.37, 26.44, 26.09, 25.92, 26.24, 26.04, 26.1]\n",
      "1960.0 [26.27, 26.29, 26.98, 27.49, 27.68, 27.24, 26.88, 26.7, 26.44, 26.22, 26.26, 26.2]\n",
      "1961.0 [26.23, 26.56, 26.94, 27.36, 27.75, 27.67, 26.89, 26.19, 25.78, 25.71, 26.07, 25.9]\n",
      "1962.0 [25.96, 26.19, 26.8, 27.13, 27.05, 27.08, 26.76, 26.33, 25.94, 25.97, 25.75, 25.6]\n",
      "1963.0 [25.77, 26.22, 27.18, 27.78, 27.63, 27.62, 27.78, 27.48, 27.4, 27.36, 27.47, 27.6]\n",
      "1964.0 [27.34, 27.13, 27.02, 26.95, 26.82, 26.59, 26.33, 25.6, 25.32, 25.37, 25.26, 25.2]\n",
      "1965.0 [25.66, 26.19, 26.94, 27.38, 27.99, 28.09, 27.9, 27.97, 28.01, 28.17, 28.12, 27.9]\n",
      "1966.0 [27.67, 27.55, 28.21, 28.16, 27.55, 27.64, 27.33, 26.48, 26.27, 26.22, 26.23, 26.0]\n",
      "1967.0 [25.88, 26.11, 26.5, 26.74, 27.35, 27.47, 26.97, 26.44, 25.86, 25.97, 26.08, 25.9]\n",
      "1968.0 [25.69, 25.68, 26.33, 27.1, 27.19, 27.88, 27.58, 27.01, 26.72, 26.75, 27.2, 27.2]\n",
      "1969.0 [27.5, 27.86, 27.82, 28.13, 28.29, 27.69, 27.08, 27.02, 27.15, 27.34, 27.1, 26.9]\n",
      "1970.0 [26.83, 26.95, 27.14, 27.74, 27.63, 27.04, 26.21, 25.6, 25.65, 25.6, 25.57, 25.2]\n",
      "1971.0 [24.81, 25.18, 25.92, 26.63, 26.95, 26.6, 26.13, 25.75, 25.72, 25.47, 25.56, 25.3]\n",
      "1972.0 [25.62, 26.3, 27.09, 27.89, 28.32, 28.18, 28.14, 27.95, 27.95, 28.26, 28.61, 28.6]\n",
      "1973.0 [28.34, 27.95, 27.55, 27.24, 26.96, 26.55, 25.76, 25.22, 25.06, 24.73, 24.33, 24.3]\n",
      "1974.0 [24.46, 25.1, 25.84, 26.46, 26.64, 26.53, 26.39, 26.33, 26.08, 25.78, 25.61, 25.6]\n",
      "1975.0 [26.09, 26.07, 26.19, 26.86, 26.8, 26.23, 25.9, 25.33, 25.05, 24.89, 25.05, 24.6]\n",
      "1976.0 [24.54, 25.49, 26.46, 26.88, 27.2, 27.35, 27.13, 26.98, 27.02, 27.46, 27.41, 27.0]\n",
      "1977.0 [27.32, 27.13, 27.47, 27.44, 27.72, 27.74, 27.38, 26.85, 27.12, 27.35, 27.19, 27.2]\n",
      "1978.0 [27.17, 27.0, 27.09, 27.12, 27.2, 27.02, 26.74, 26.07, 26.01, 26.25, 26.33, 26.5]\n",
      "1979.0 [26.41, 26.53, 27.27, 27.83, 27.69, 27.43, 26.82, 26.75, 26.99, 26.83, 26.99, 27.1]\n",
      "1980.0 [27.08, 26.97, 27.31, 27.75, 28.01, 27.94, 27.23, 26.48, 26.44, 26.46, 26.6, 26.6]\n",
      "1981.0 [26.18, 26.11, 26.64, 27.29, 27.36, 27.27, 26.65, 26.33, 26.53, 26.42, 26.29, 26.4]\n",
      "1982.0 [26.67, 26.59, 27.41, 28.03, 28.39, 28.26, 27.66, 27.58, 28.21, 28.71, 28.62, 28.8]\n",
      "1983.0 [28.89, 28.69, 28.66, 28.77, 28.84, 28.27, 27.18, 26.59, 26.2, 25.56, 25.41, 25.5]\n",
      "1984.0 [25.88, 26.56, 26.77, 27.14, 27.2, 26.83, 26.79, 26.61, 26.38, 26.04, 25.52, 25.2]\n",
      "1985.0 [25.38, 26.03, 26.5, 26.64, 26.9, 26.81, 26.56, 26.3, 26.02, 26.23, 26.33, 26.1]\n",
      "1986.0 [25.89, 26.05, 26.87, 27.49, 27.4, 27.42, 27.18, 27.17, 27.24, 27.53, 27.71, 27.7]\n",
      "1987.0 [27.68, 27.88, 28.27, 28.39, 28.56, 28.65, 28.59, 28.42, 28.36, 27.96, 27.77, 27.5]\n",
      "1988.0 [27.45, 27.03, 27.38, 27.38, 26.68, 25.99, 25.56, 25.66, 25.72, 24.82, 24.65, 24.6]\n",
      "1989.0 [24.58, 25.28, 26.08, 26.74, 27.06, 27.14, 26.72, 26.33, 26.42, 26.32, 26.25, 26.4]\n",
      "1990.0 [26.56, 26.96, 27.33, 27.9, 28.02, 27.64, 27.38, 27.07, 26.94, 26.93, 26.81, 26.9]\n",
      "1991.0 [27.03, 27.07, 27.32, 28.01, 28.2, 28.25, 28.05, 27.53, 27.14, 27.58, 27.9, 28.2]\n",
      "1992.0 [28.38, 28.53, 28.66, 29.02, 28.98, 28.3, 27.51, 26.91, 26.65, 26.42, 26.42, 26.4]\n",
      "1993.0 [26.69, 27.16, 27.67, 28.41, 28.71, 28.08, 27.52, 26.99, 27.07, 26.77, 26.71, 26.7]\n",
      "1994.0 [26.64, 26.81, 27.39, 28.08, 28.24, 28.04, 27.54, 27.38, 27.2, 27.47, 27.81, 27.8]\n",
      "1995.0 [27.57, 27.49, 27.75, 28.1, 27.82, 27.59, 27.08, 26.23, 25.88, 25.84, 25.6, 25.6]\n",
      "1996.0 [25.69, 25.89, 26.67, 27.35, 27.55, 27.29, 26.85, 26.64, 26.27, 26.27, 26.29, 25.9]\n",
      "1997.0 [26.01, 26.38, 27.04, 27.98, 28.58, 28.82, 28.86, 28.75, 28.85, 29.08, 29.12, 28.8]\n",
      "1998.0 [28.93, 28.78, 28.62, 28.6, 28.51, 27.34, 26.3, 25.57, 25.46, 25.25, 25.24, 24.9]\n",
      "1999.0 [24.86, 25.43, 26.33, 26.7, 26.79, 26.53, 26.13, 25.63, 25.63, 25.48, 25.12, 24.8]\n",
      "2000.0 [24.78, 25.21, 26.3, 26.95, 27.07, 26.94, 26.63, 26.37, 26.2, 26.02, 25.92, 25.6]\n",
      "2001.0 [25.81, 26.12, 26.8, 27.33, 27.6, 27.54, 27.25, 26.8, 26.52, 26.57, 26.33, 26.1]\n",
      "2002.0 [26.39, 26.71, 27.29, 27.84, 28.24, 28.44, 28.03, 27.72, 27.81, 27.96, 28.17, 27.9]\n",
      "2003.0 [27.15, 27.39, 27.65, 27.68, 27.32, 27.44, 27.5, 27.11, 26.99, 27.14, 27.04, 27.0]\n",
      "2004.0 [26.81, 26.98, 27.4, 27.89, 28.0, 27.86, 27.78, 27.62, 27.53, 27.44, 27.36, 27.3]\n",
      "2005.0 [27.21, 27.11, 27.73, 28.08, 28.24, 27.77, 27.06, 26.8, 26.68, 26.65, 26.11, 25.6]\n",
      "2006.0 [25.63, 26.08, 26.57, 27.5, 27.85, 27.73, 27.3, 27.16, 27.32, 27.41, 27.69, 27.7]\n",
      "2007.0 [27.24, 26.88, 27.1, 27.5, 27.46, 27.37, 26.71, 26.14, 25.61, 25.32, 25.17, 25.0]\n",
      "2008.0 [24.86, 25.08, 26.07, 26.83, 27.09, 27.04, 26.99, 26.72, 26.47, 26.37, 26.25, 25.7]\n",
      "2009.0 [25.66, 25.96, 26.59, 27.47, 27.99, 28.04, 27.78, 27.42, 27.4, 27.6, 28.16, 28.3]\n",
      "2010.0 [28.07, 28.01, 28.18, 28.2, 27.71, 27.04, 26.22, 25.47, 25.12, 25.03, 25.06, 25.0]\n",
      "2011.0 [25.0, 25.64, 26.36, 27.05, 27.41, 27.35, 26.87, 26.21, 25.92, 25.67, 25.52, 25.5]\n",
      "2012.0 [25.67, 26.08, 26.67, 27.32, 27.61, 27.75, 27.54, 27.32, 27.1, 26.98, 26.86, 26.3]\n",
      "2013.0 [26.01, 26.24, 27.03, 27.57, 27.53, 27.3, 26.91, 26.47, 26.54, 26.52, 26.56, 26.4]\n",
      "2014.0 [26.05, 26.14, 27.0, 27.9, 28.25, 27.96, 27.23, 26.82, 27.01, 27.16, 27.46, 27.3]\n",
      "2015.0 [27.05, 27.17, 27.75, 28.52, 28.85, 28.9, 28.75, 28.79, 28.93, 29.08, 29.42, 29.2]\n",
      "2016.0 [29.11, 29.01, 28.9, 28.72, 28.23, 27.69, 26.82, 26.28, 26.14, 25.98, 25.94, 26.1]\n",
      "2017.0 [26.12, 26.67, 27.32, 28.03, 28.3, 28.06, 27.54, 26.7, 26.29, 26.15, 25.74, 25.6]\n",
      "2018.0 [25.57, 25.97, 26.48, 27.31, 27.73, 27.77, 27.42, 26.94, 27.19, 27.62, 27.61, 27.4]\n",
      "2019.0 [27.2, 27.48, 28.1, 28.45, 28.5, 28.19, 27.66, 26.91, 26.76, 27.19, -99.99, -99.9]\n"
     ]
    }
   ],
   "source": [
    "for key,value in data_dict.items():\n",
    "    print(key,value)\n",
    "    assert len(value) == 12"
   ]
  },
  {
   "cell_type": "markdown",
   "metadata": {},
   "source": [
    "## Filtering data to have 1950 - 2008"
   ]
  },
  {
   "cell_type": "code",
   "execution_count": 7,
   "metadata": {},
   "outputs": [],
   "source": [
    "filtered_data = {int(year): data_dict[year] for year in data_dict.keys() if year >= 1950 and year <=2008 }"
   ]
  },
  {
   "cell_type": "code",
   "execution_count": 8,
   "metadata": {},
   "outputs": [
    {
     "name": "stdout",
     "output_type": "stream",
     "text": [
      "1950 [24.55, 25.06, 25.87, 26.28, 26.18, 26.46, 26.29, 25.88, 25.74, 25.69, 25.47, 25.2]\n",
      "1951 [25.24, 25.71, 26.9, 27.58, 27.92, 27.73, 27.6, 27.02, 27.23, 27.2, 27.25, 26.9]\n",
      "1952 [26.67, 26.74, 27.17, 27.8, 27.79, 27.18, 26.53, 26.3, 26.36, 26.26, 25.92, 26.2]\n",
      "1953 [26.74, 27.0, 27.57, 28.04, 28.28, 28.12, 27.43, 26.94, 27.01, 26.87, 26.88, 27.0]\n",
      "1954 [26.98, 27.03, 26.9, 26.64, 27.12, 26.8, 26.11, 25.43, 25.12, 25.23, 25.57, 25.2]\n",
      "1955 [25.61, 25.81, 26.22, 26.6, 26.66, 26.55, 26.15, 25.51, 25.28, 24.41, 24.25, 24.5]\n",
      "1956 [25.34, 25.76, 26.46, 26.85, 27.13, 26.81, 26.23, 25.68, 25.73, 25.75, 25.56, 25.7]\n",
      "1957 [26.04, 26.54, 27.46, 28.23, 28.55, 28.36, 28.17, 27.69, 27.44, 27.42, 27.62, 27.9]\n",
      "1958 [28.33, 28.24, 28.27, 28.27, 28.31, 27.99, 27.32, 26.85, 26.4, 26.45, 26.75, 26.6]\n",
      "1959 [27.07, 27.18, 27.47, 27.88, 27.7, 27.37, 26.44, 26.09, 25.92, 26.24, 26.04, 26.1]\n",
      "1960 [26.27, 26.29, 26.98, 27.49, 27.68, 27.24, 26.88, 26.7, 26.44, 26.22, 26.26, 26.2]\n",
      "1961 [26.23, 26.56, 26.94, 27.36, 27.75, 27.67, 26.89, 26.19, 25.78, 25.71, 26.07, 25.9]\n",
      "1962 [25.96, 26.19, 26.8, 27.13, 27.05, 27.08, 26.76, 26.33, 25.94, 25.97, 25.75, 25.6]\n",
      "1963 [25.77, 26.22, 27.18, 27.78, 27.63, 27.62, 27.78, 27.48, 27.4, 27.36, 27.47, 27.6]\n",
      "1964 [27.34, 27.13, 27.02, 26.95, 26.82, 26.59, 26.33, 25.6, 25.32, 25.37, 25.26, 25.2]\n",
      "1965 [25.66, 26.19, 26.94, 27.38, 27.99, 28.09, 27.9, 27.97, 28.01, 28.17, 28.12, 27.9]\n",
      "1966 [27.67, 27.55, 28.21, 28.16, 27.55, 27.64, 27.33, 26.48, 26.27, 26.22, 26.23, 26.0]\n",
      "1967 [25.88, 26.11, 26.5, 26.74, 27.35, 27.47, 26.97, 26.44, 25.86, 25.97, 26.08, 25.9]\n",
      "1968 [25.69, 25.68, 26.33, 27.1, 27.19, 27.88, 27.58, 27.01, 26.72, 26.75, 27.2, 27.2]\n",
      "1969 [27.5, 27.86, 27.82, 28.13, 28.29, 27.69, 27.08, 27.02, 27.15, 27.34, 27.1, 26.9]\n",
      "1970 [26.83, 26.95, 27.14, 27.74, 27.63, 27.04, 26.21, 25.6, 25.65, 25.6, 25.57, 25.2]\n",
      "1971 [24.81, 25.18, 25.92, 26.63, 26.95, 26.6, 26.13, 25.75, 25.72, 25.47, 25.56, 25.3]\n",
      "1972 [25.62, 26.3, 27.09, 27.89, 28.32, 28.18, 28.14, 27.95, 27.95, 28.26, 28.61, 28.6]\n",
      "1973 [28.34, 27.95, 27.55, 27.24, 26.96, 26.55, 25.76, 25.22, 25.06, 24.73, 24.33, 24.3]\n",
      "1974 [24.46, 25.1, 25.84, 26.46, 26.64, 26.53, 26.39, 26.33, 26.08, 25.78, 25.61, 25.6]\n",
      "1975 [26.09, 26.07, 26.19, 26.86, 26.8, 26.23, 25.9, 25.33, 25.05, 24.89, 25.05, 24.6]\n",
      "1976 [24.54, 25.49, 26.46, 26.88, 27.2, 27.35, 27.13, 26.98, 27.02, 27.46, 27.41, 27.0]\n",
      "1977 [27.32, 27.13, 27.47, 27.44, 27.72, 27.74, 27.38, 26.85, 27.12, 27.35, 27.19, 27.2]\n",
      "1978 [27.17, 27.0, 27.09, 27.12, 27.2, 27.02, 26.74, 26.07, 26.01, 26.25, 26.33, 26.5]\n",
      "1979 [26.41, 26.53, 27.27, 27.83, 27.69, 27.43, 26.82, 26.75, 26.99, 26.83, 26.99, 27.1]\n",
      "1980 [27.08, 26.97, 27.31, 27.75, 28.01, 27.94, 27.23, 26.48, 26.44, 26.46, 26.6, 26.6]\n",
      "1981 [26.18, 26.11, 26.64, 27.29, 27.36, 27.27, 26.65, 26.33, 26.53, 26.42, 26.29, 26.4]\n",
      "1982 [26.67, 26.59, 27.41, 28.03, 28.39, 28.26, 27.66, 27.58, 28.21, 28.71, 28.62, 28.8]\n",
      "1983 [28.89, 28.69, 28.66, 28.77, 28.84, 28.27, 27.18, 26.59, 26.2, 25.56, 25.41, 25.5]\n",
      "1984 [25.88, 26.56, 26.77, 27.14, 27.2, 26.83, 26.79, 26.61, 26.38, 26.04, 25.52, 25.2]\n",
      "1985 [25.38, 26.03, 26.5, 26.64, 26.9, 26.81, 26.56, 26.3, 26.02, 26.23, 26.33, 26.1]\n",
      "1986 [25.89, 26.05, 26.87, 27.49, 27.4, 27.42, 27.18, 27.17, 27.24, 27.53, 27.71, 27.7]\n",
      "1987 [27.68, 27.88, 28.27, 28.39, 28.56, 28.65, 28.59, 28.42, 28.36, 27.96, 27.77, 27.5]\n",
      "1988 [27.45, 27.03, 27.38, 27.38, 26.68, 25.99, 25.56, 25.66, 25.72, 24.82, 24.65, 24.6]\n",
      "1989 [24.58, 25.28, 26.08, 26.74, 27.06, 27.14, 26.72, 26.33, 26.42, 26.32, 26.25, 26.4]\n",
      "1990 [26.56, 26.96, 27.33, 27.9, 28.02, 27.64, 27.38, 27.07, 26.94, 26.93, 26.81, 26.9]\n",
      "1991 [27.03, 27.07, 27.32, 28.01, 28.2, 28.25, 28.05, 27.53, 27.14, 27.58, 27.9, 28.2]\n",
      "1992 [28.38, 28.53, 28.66, 29.02, 28.98, 28.3, 27.51, 26.91, 26.65, 26.42, 26.42, 26.4]\n",
      "1993 [26.69, 27.16, 27.67, 28.41, 28.71, 28.08, 27.52, 26.99, 27.07, 26.77, 26.71, 26.7]\n",
      "1994 [26.64, 26.81, 27.39, 28.08, 28.24, 28.04, 27.54, 27.38, 27.2, 27.47, 27.81, 27.8]\n",
      "1995 [27.57, 27.49, 27.75, 28.1, 27.82, 27.59, 27.08, 26.23, 25.88, 25.84, 25.6, 25.6]\n",
      "1996 [25.69, 25.89, 26.67, 27.35, 27.55, 27.29, 26.85, 26.64, 26.27, 26.27, 26.29, 25.9]\n",
      "1997 [26.01, 26.38, 27.04, 27.98, 28.58, 28.82, 28.86, 28.75, 28.85, 29.08, 29.12, 28.8]\n",
      "1998 [28.93, 28.78, 28.62, 28.6, 28.51, 27.34, 26.3, 25.57, 25.46, 25.25, 25.24, 24.9]\n",
      "1999 [24.86, 25.43, 26.33, 26.7, 26.79, 26.53, 26.13, 25.63, 25.63, 25.48, 25.12, 24.8]\n",
      "2000 [24.78, 25.21, 26.3, 26.95, 27.07, 26.94, 26.63, 26.37, 26.2, 26.02, 25.92, 25.6]\n",
      "2001 [25.81, 26.12, 26.8, 27.33, 27.6, 27.54, 27.25, 26.8, 26.52, 26.57, 26.33, 26.1]\n",
      "2002 [26.39, 26.71, 27.29, 27.84, 28.24, 28.44, 28.03, 27.72, 27.81, 27.96, 28.17, 27.9]\n",
      "2003 [27.15, 27.39, 27.65, 27.68, 27.32, 27.44, 27.5, 27.11, 26.99, 27.14, 27.04, 27.0]\n",
      "2004 [26.81, 26.98, 27.4, 27.89, 28.0, 27.86, 27.78, 27.62, 27.53, 27.44, 27.36, 27.3]\n",
      "2005 [27.21, 27.11, 27.73, 28.08, 28.24, 27.77, 27.06, 26.8, 26.68, 26.65, 26.11, 25.6]\n",
      "2006 [25.63, 26.08, 26.57, 27.5, 27.85, 27.73, 27.3, 27.16, 27.32, 27.41, 27.69, 27.7]\n",
      "2007 [27.24, 26.88, 27.1, 27.5, 27.46, 27.37, 26.71, 26.14, 25.61, 25.32, 25.17, 25.0]\n",
      "2008 [24.86, 25.08, 26.07, 26.83, 27.09, 27.04, 26.99, 26.72, 26.47, 26.37, 26.25, 25.7]\n"
     ]
    }
   ],
   "source": [
    "for key,value in filtered_data.items():\n",
    "    print(key,value)\n",
    "    assert len(value) == 12"
   ]
  },
  {
   "cell_type": "markdown",
   "metadata": {},
   "source": [
    "## Reading Nino 3.4 Anomaly data"
   ]
  },
  {
   "cell_type": "code",
   "execution_count": 9,
   "metadata": {},
   "outputs": [],
   "source": [
    "# filename = 'nino34_anomalies.txt'"
   ]
  },
  {
   "cell_type": "code",
   "execution_count": 10,
   "metadata": {},
   "outputs": [],
   "source": [
    "# anomaly_data = open(DATA_DIR + filename)\n",
    "# anomaly_data_dict = {}\n",
    "\n",
    "# for line in anomaly_data.readlines():  \n",
    "#     _,year,value = line.split(' ')\n",
    "#     value = float(value[:-2])\n",
    "#     year = int(float(year))\n",
    "#     if year in anomaly_data_dict:\n",
    "#         anomaly_data_dict[year]=anomaly_data_dict[year]+[value]\n",
    "#     else:\n",
    "#         anomaly_data_dict.update({year:[value]})"
   ]
  },
  {
   "cell_type": "code",
   "execution_count": 11,
   "metadata": {},
   "outputs": [],
   "source": [
    "# for key,value in anomaly_data_dict.items():\n",
    "#     print(key,value)\n",
    "#     assert len(value) == 12"
   ]
  },
  {
   "cell_type": "markdown",
   "metadata": {},
   "source": [
    "## Flattening time series data"
   ]
  },
  {
   "cell_type": "code",
   "execution_count": 12,
   "metadata": {},
   "outputs": [],
   "source": [
    "filtered_ts = np.array([])\n",
    "filtered_ts = np.array([np.concatenate((filtered_ts,val)) for val in filtered_data.values()]).flatten()"
   ]
  },
  {
   "cell_type": "code",
   "execution_count": 13,
   "metadata": {},
   "outputs": [],
   "source": [
    "assert len(filtered_ts) == (2008-1950+1)*12"
   ]
  },
  {
   "cell_type": "code",
   "execution_count": 14,
   "metadata": {},
   "outputs": [],
   "source": [
    "# filtered_anomalies = np.array([])\n",
    "# filtered_anomalies = np.array([np.concatenate((filtered_anomalies,val)) for val in anomaly_data_dict.values()]).flatten()"
   ]
  },
  {
   "cell_type": "code",
   "execution_count": 15,
   "metadata": {},
   "outputs": [],
   "source": [
    "# assert len(filtered_anomalies) == (2008-1950+1)*12"
   ]
  },
  {
   "cell_type": "code",
   "execution_count": 16,
   "metadata": {},
   "outputs": [
    {
     "data": {
      "image/png": "[encoded data removed]",
      "text/plain": [
       "<Figure size 432x288 with 1 Axes>"
      ]
     },
     "metadata": {
      "needs_background": "light"
     },
     "output_type": "display_data"
    }
   ],
   "source": [
    "plt.plot(filtered_ts)\n",
    "plt.xticks(range(0,708+1,12*10),labels=range(1950,2008+1,10))\n",
    "plt.show()"
   ]
  },
  {
   "cell_type": "code",
   "execution_count": 17,
   "metadata": {},
   "outputs": [],
   "source": [
    "def get_data(data,years,subtract_mean=False,means=None):\n",
    "    if subtract_mean == True:\n",
    "        assert means is not None\n",
    "    filtered_data = {int(year): data[year] for year in data.keys() if year in years }\n",
    "    filtered_ts = np.array([])\n",
    "    if subtract_mean:\n",
    "        filtered_ts = np.array([np.concatenate((filtered_ts,val-means)) for val in filtered_data.values()]).flatten()\n",
    "    else:\n",
    "        filtered_ts = np.array([np.concatenate((filtered_ts,val)) for val in filtered_data.values()]).flatten()\n",
    "    return filtered_ts"
   ]
  },
  {
   "cell_type": "markdown",
   "metadata": {},
   "source": [
    "### Train Test Split"
   ]
  },
  {
   "cell_type": "code",
   "execution_count": 18,
   "metadata": {},
   "outputs": [
    {
     "name": "stdout",
     "output_type": "stream",
     "text": [
      "Total years available\n",
      "[1950 1951 1952 1953 1954 1955 1956 1957 1958 1959 1960 1961 1962 1963\n",
      " 1964 1965 1966 1967 1968 1969 1970 1971 1972 1973 1974 1975 1976 1977\n",
      " 1978 1979 1980 1981 1982 1983 1984 1985 1986 1987 1988 1989 1990 1991\n",
      " 1992 1993 1994 1995 1996 1997 1998 1999 2000 2001 2002 2003 2004 2005\n",
      " 2006 2007 2008]\n",
      "Train Test ratio: 0.8\n",
      "No of years in training: 47\n",
      "[1950 1951 1952 1953 1954 1955 1956 1957 1958 1959 1960 1961 1962 1963\n",
      " 1964 1965 1966 1967 1968 1969 1970 1971 1972 1973 1974 1975 1976 1977\n",
      " 1978 1979 1980 1981 1982 1983 1984 1985 1986 1987 1988 1989 1990 1991\n",
      " 1992 1993 1994 1995 1996]\n",
      "No of years in testing: 12\n",
      "[1997 1998 1999 2000 2001 2002 2003 2004 2005 2006 2007 2008]\n"
     ]
    }
   ],
   "source": [
    "train_test_ratio = 0.8\n",
    "years = np.array(list(filtered_data.keys()))\n",
    "print('Total years available')\n",
    "print(years)\n",
    "print(f'Train Test ratio: {train_test_ratio}')\n",
    "training_years = years[:int(train_test_ratio*len(years))]\n",
    "print(f'No of years in training: {len(training_years)}')\n",
    "print(training_years)\n",
    "testing_years = years[int(train_test_ratio*len(years)):]\n",
    "print(f'No of years in testing: {len(testing_years)}')\n",
    "print(testing_years)"
   ]
  },
  {
   "cell_type": "markdown",
   "metadata": {},
   "source": [
    "## Calculating monthly means across all training years"
   ]
  },
  {
   "cell_type": "code",
   "execution_count": 19,
   "metadata": {},
   "outputs": [
    {
     "name": "stdout",
     "output_type": "stream",
     "text": [
      "[26.43340426 26.63085106 27.10021277 27.51       27.61638298 27.42085106\n",
      " 26.98765957 26.58851064 26.47744681 26.43723404 26.42957447 26.37021277]\n"
     ]
    }
   ],
   "source": [
    "means = np.zeros(12)\n",
    "for key,value in filtered_data.items():\n",
    "    if int(key) in training_years:\n",
    "        means += np.array(value)\n",
    "means /= len(training_years)\n",
    "print(means)"
   ]
  },
  {
   "cell_type": "code",
   "execution_count": 20,
   "metadata": {},
   "outputs": [
    {
     "name": "stdout",
     "output_type": "stream",
     "text": [
      "1950 [-1.88340426 -1.57085106 -1.23021277 -1.23       -1.43638298 -0.96085106\n",
      " -0.69765957 -0.70851064 -0.73744681 -0.74723404 -0.95957447 -1.17021277]\n",
      "1951 [-1.19340426 -0.92085106 -0.20021277  0.07        0.30361702  0.30914894\n",
      "  0.61234043  0.43148936  0.75255319  0.76276596  0.82042553  0.52978723]\n",
      "1952 [ 0.23659574  0.10914894  0.06978723  0.29        0.17361702 -0.24085106\n",
      " -0.45765957 -0.28851064 -0.11744681 -0.17723404 -0.50957447 -0.17021277]\n",
      "1953 [0.30659574 0.36914894 0.46978723 0.53       0.66361702 0.69914894\n",
      " 0.44234043 0.35148936 0.53255319 0.43276596 0.45042553 0.62978723]\n",
      "1954 [ 0.54659574  0.39914894 -0.20021277 -0.87       -0.49638298 -0.62085106\n",
      " -0.87765957 -1.15851064 -1.35744681 -1.20723404 -0.85957447 -1.17021277]\n",
      "1955 [-0.82340426 -0.82085106 -0.88021277 -0.91       -0.95638298 -0.87085106\n",
      " -0.83765957 -1.07851064 -1.19744681 -2.02723404 -2.17957447 -1.87021277]\n",
      "1956 [-1.09340426 -0.87085106 -0.64021277 -0.66       -0.48638298 -0.61085106\n",
      " -0.75765957 -0.90851064 -0.74744681 -0.68723404 -0.86957447 -0.67021277]\n",
      "1957 [-0.39340426 -0.09085106  0.35978723  0.72        0.93361702  0.93914894\n",
      "  1.18234043  1.10148936  0.96255319  0.98276596  1.19042553  1.52978723]\n",
      "1958 [ 1.89659574  1.60914894  1.16978723  0.76        0.69361702  0.56914894\n",
      "  0.33234043  0.26148936 -0.07744681  0.01276596  0.32042553  0.22978723]\n",
      "1959 [ 0.63659574  0.54914894  0.36978723  0.37        0.08361702 -0.05085106\n",
      " -0.54765957 -0.49851064 -0.55744681 -0.19723404 -0.38957447 -0.27021277]\n",
      "1960 [-0.16340426 -0.34085106 -0.12021277 -0.02        0.06361702 -0.18085106\n",
      " -0.10765957  0.11148936 -0.03744681 -0.21723404 -0.16957447 -0.17021277]\n",
      "1961 [-0.20340426 -0.07085106 -0.16021277 -0.15        0.13361702  0.24914894\n",
      " -0.09765957 -0.39851064 -0.69744681 -0.72723404 -0.35957447 -0.47021277]\n",
      "1962 [-0.47340426 -0.44085106 -0.30021277 -0.38       -0.56638298 -0.34085106\n",
      " -0.22765957 -0.25851064 -0.53744681 -0.46723404 -0.67957447 -0.77021277]\n",
      "1963 [-0.66340426 -0.41085106  0.07978723  0.27        0.01361702  0.19914894\n",
      "  0.79234043  0.89148936  0.92255319  0.92276596  1.04042553  1.22978723]\n",
      "1964 [ 0.90659574  0.49914894 -0.08021277 -0.56       -0.79638298 -0.83085106\n",
      " -0.65765957 -0.98851064 -1.15744681 -1.06723404 -1.16957447 -1.17021277]\n",
      "1965 [-0.77340426 -0.44085106 -0.16021277 -0.13        0.37361702  0.66914894\n",
      "  0.91234043  1.38148936  1.53255319  1.73276596  1.69042553  1.52978723]\n",
      "1966 [ 1.23659574  0.91914894  1.10978723  0.65       -0.06638298  0.21914894\n",
      "  0.34234043 -0.10851064 -0.20744681 -0.21723404 -0.19957447 -0.37021277]\n",
      "1967 [-0.55340426 -0.52085106 -0.60021277 -0.77       -0.26638298  0.04914894\n",
      " -0.01765957 -0.14851064 -0.61744681 -0.46723404 -0.34957447 -0.47021277]\n",
      "1968 [-0.74340426 -0.95085106 -0.77021277 -0.41       -0.42638298  0.45914894\n",
      "  0.59234043  0.42148936  0.24255319  0.31276596  0.77042553  0.82978723]\n",
      "1969 [1.06659574 1.22914894 0.71978723 0.62       0.67361702 0.26914894\n",
      " 0.09234043 0.43148936 0.67255319 0.90276596 0.67042553 0.52978723]\n",
      "1970 [ 0.39659574  0.31914894  0.03978723  0.23        0.01361702 -0.38085106\n",
      " -0.77765957 -0.98851064 -0.82744681 -0.83723404 -0.85957447 -1.17021277]\n",
      "1971 [-1.62340426 -1.45085106 -1.18021277 -0.88       -0.66638298 -0.82085106\n",
      " -0.85765957 -0.83851064 -0.75744681 -0.96723404 -0.86957447 -1.07021277]\n",
      "1972 [-0.81340426 -0.33085106 -0.01021277  0.38        0.70361702  0.75914894\n",
      "  1.15234043  1.36148936  1.47255319  1.82276596  2.18042553  2.22978723]\n",
      "1973 [ 1.90659574  1.31914894  0.44978723 -0.27       -0.65638298 -0.87085106\n",
      " -1.22765957 -1.36851064 -1.41744681 -1.70723404 -2.09957447 -2.07021277]\n",
      "1974 [-1.97340426 -1.53085106 -1.26021277 -1.05       -0.97638298 -0.89085106\n",
      " -0.59765957 -0.25851064 -0.39744681 -0.65723404 -0.81957447 -0.77021277]\n",
      "1975 [-0.34340426 -0.56085106 -0.91021277 -0.65       -0.81638298 -1.19085106\n",
      " -1.08765957 -1.25851064 -1.42744681 -1.54723404 -1.37957447 -1.77021277]\n",
      "1976 [-1.89340426 -1.14085106 -0.64021277 -0.63       -0.41638298 -0.07085106\n",
      "  0.14234043  0.39148936  0.54255319  1.02276596  0.98042553  0.62978723]\n",
      "1977 [ 0.88659574  0.49914894  0.36978723 -0.07        0.10361702  0.31914894\n",
      "  0.39234043  0.26148936  0.64255319  0.91276596  0.76042553  0.82978723]\n",
      "1978 [ 0.73659574  0.36914894 -0.01021277 -0.39       -0.41638298 -0.40085106\n",
      " -0.24765957 -0.51851064 -0.46744681 -0.18723404 -0.09957447  0.12978723]\n",
      "1979 [-0.02340426 -0.10085106  0.16978723  0.32        0.07361702  0.00914894\n",
      " -0.16765957  0.16148936  0.51255319  0.39276596  0.56042553  0.72978723]\n",
      "1980 [ 0.64659574  0.33914894  0.20978723  0.24        0.39361702  0.51914894\n",
      "  0.24234043 -0.10851064 -0.03744681  0.02276596  0.17042553  0.22978723]\n",
      "1981 [-0.25340426 -0.52085106 -0.46021277 -0.22       -0.25638298 -0.15085106\n",
      " -0.33765957 -0.25851064  0.05255319 -0.01723404 -0.13957447  0.02978723]\n",
      "1982 [ 0.23659574 -0.04085106  0.30978723  0.52        0.77361702  0.83914894\n",
      "  0.67234043  0.99148936  1.73255319  2.27276596  2.19042553  2.42978723]\n",
      "1983 [ 2.45659574e+00  2.05914894e+00  1.55978723e+00  1.26000000e+00\n",
      "  1.22361702e+00  8.49148936e-01  1.92340426e-01  1.48936170e-03\n",
      " -2.77446809e-01 -8.77234043e-01 -1.01957447e+00 -8.70212766e-01]\n",
      "1984 [-0.55340426 -0.07085106 -0.33021277 -0.37       -0.41638298 -0.59085106\n",
      " -0.19765957  0.02148936 -0.09744681 -0.39723404 -0.90957447 -1.17021277]\n",
      "1985 [-1.05340426 -0.60085106 -0.60021277 -0.87       -0.71638298 -0.61085106\n",
      " -0.42765957 -0.28851064 -0.45744681 -0.20723404 -0.09957447 -0.27021277]\n",
      "1986 [-5.43404255e-01 -5.80851064e-01 -2.30212766e-01 -2.00000000e-02\n",
      " -2.16382979e-01 -8.51063830e-04  1.92340426e-01  5.81489362e-01\n",
      "  7.62553191e-01  1.09276596e+00  1.28042553e+00  1.32978723e+00]\n",
      "1987 [1.24659574 1.24914894 1.16978723 0.88       0.94361702 1.22914894\n",
      " 1.60234043 1.83148936 1.88255319 1.52276596 1.34042553 1.12978723]\n",
      "1988 [ 1.01659574  0.39914894  0.27978723 -0.13       -0.93638298 -1.43085106\n",
      " -1.42765957 -0.92851064 -0.75744681 -1.61723404 -1.77957447 -1.77021277]\n",
      "1989 [-1.85340426 -1.35085106 -1.02021277 -0.77       -0.55638298 -0.28085106\n",
      " -0.26765957 -0.25851064 -0.05744681 -0.11723404 -0.17957447  0.02978723]\n",
      "1990 [0.12659574 0.32914894 0.22978723 0.39       0.40361702 0.21914894\n",
      " 0.39234043 0.48148936 0.46255319 0.49276596 0.38042553 0.52978723]\n",
      "1991 [0.59659574 0.43914894 0.21978723 0.5        0.58361702 0.82914894\n",
      " 1.06234043 0.94148936 0.66255319 1.14276596 1.47042553 1.82978723]\n",
      "1992 [ 1.94659574  1.89914894  1.55978723  1.51        1.36361702  0.87914894\n",
      "  0.52234043  0.32148936  0.17255319 -0.01723404 -0.00957447  0.02978723]\n",
      "1993 [0.25659574 0.52914894 0.56978723 0.9        1.09361702 0.65914894\n",
      " 0.53234043 0.40148936 0.59255319 0.33276596 0.28042553 0.32978723]\n",
      "1994 [0.20659574 0.17914894 0.28978723 0.57       0.62361702 0.61914894\n",
      " 0.55234043 0.79148936 0.72255319 1.03276596 1.38042553 1.42978723]\n",
      "1995 [ 1.13659574  0.85914894  0.64978723  0.59        0.20361702  0.16914894\n",
      "  0.09234043 -0.35851064 -0.59744681 -0.59723404 -0.82957447 -0.77021277]\n",
      "1996 [-0.74340426 -0.74085106 -0.43021277 -0.16       -0.06638298 -0.13085106\n",
      " -0.13765957  0.05148936 -0.20744681 -0.16723404 -0.13957447 -0.47021277]\n",
      "1997 [-0.42340426 -0.25085106 -0.06021277  0.47        0.96361702  1.39914894\n",
      "  1.87234043  2.16148936  2.37255319  2.64276596  2.69042553  2.42978723]\n",
      "1998 [ 2.49659574  2.14914894  1.51978723  1.09        0.89361702 -0.08085106\n",
      " -0.68765957 -1.01851064 -1.01744681 -1.18723404 -1.18957447 -1.47021277]\n",
      "1999 [-1.57340426 -1.20085106 -0.77021277 -0.81       -0.82638298 -0.89085106\n",
      " -0.85765957 -0.95851064 -0.84744681 -0.95723404 -1.30957447 -1.57021277]\n",
      "2000 [-1.65340426 -1.42085106 -0.80021277 -0.56       -0.54638298 -0.48085106\n",
      " -0.35765957 -0.21851064 -0.27744681 -0.41723404 -0.50957447 -0.77021277]\n",
      "2001 [-0.62340426 -0.51085106 -0.30021277 -0.18       -0.01638298  0.11914894\n",
      "  0.26234043  0.21148936  0.04255319  0.13276596 -0.09957447 -0.27021277]\n",
      "2002 [-0.04340426  0.07914894  0.18978723  0.33        0.62361702  1.01914894\n",
      "  1.04234043  1.13148936  1.33255319  1.52276596  1.74042553  1.52978723]\n",
      "2003 [ 0.71659574  0.75914894  0.54978723  0.17       -0.29638298  0.01914894\n",
      "  0.51234043  0.52148936  0.51255319  0.70276596  0.61042553  0.62978723]\n",
      "2004 [0.37659574 0.34914894 0.29978723 0.38       0.38361702 0.43914894\n",
      " 0.79234043 1.03148936 1.05255319 1.00276596 0.93042553 0.92978723]\n",
      "2005 [ 0.77659574  0.47914894  0.62978723  0.57        0.62361702  0.34914894\n",
      "  0.07234043  0.21148936  0.20255319  0.21276596 -0.31957447 -0.77021277]\n",
      "2006 [-0.80340426 -0.55085106 -0.53021277 -0.01        0.23361702  0.30914894\n",
      "  0.31234043  0.57148936  0.84255319  0.97276596  1.26042553  1.32978723]\n",
      "2007 [ 8.06595745e-01  2.49148936e-01 -2.12765957e-04 -1.00000000e-02\n",
      " -1.56382979e-01 -5.08510638e-02 -2.77659574e-01 -4.48510638e-01\n",
      " -8.67446809e-01 -1.11723404e+00 -1.25957447e+00 -1.37021277e+00]\n",
      "2008 [-1.57340426 -1.55085106 -1.03021277 -0.68       -0.52638298 -0.38085106\n",
      "  0.00234043  0.13148936 -0.00744681 -0.06723404 -0.17957447 -0.67021277]\n"
     ]
    }
   ],
   "source": [
    "for key,value in filtered_data.items():\n",
    "    print(key,value-means)\n",
    "    assert len(value) == 12"
   ]
  },
  {
   "cell_type": "code",
   "execution_count": 21,
   "metadata": {},
   "outputs": [],
   "source": [
    "training_data = get_data(filtered_data,training_years,subtract_mean=True,means=means)\n",
    "# training_anomalies = get_data(anomaly_data_dict,training_years)"
   ]
  },
  {
   "cell_type": "code",
   "execution_count": 22,
   "metadata": {},
   "outputs": [],
   "source": [
    "test_data = get_data(filtered_data,testing_years,subtract_mean=True,means=means)\n",
    "# test_anomalies = get_data(anomaly_data_dict,testing_years)"
   ]
  },
  {
   "cell_type": "code",
   "execution_count": 23,
   "metadata": {},
   "outputs": [
    {
     "data": {
      "text/plain": [
       "564"
      ]
     },
     "execution_count": 23,
     "metadata": {},
     "output_type": "execute_result"
    }
   ],
   "source": [
    "len(training_data)#,len(training_anomalies)"
   ]
  },
  {
   "cell_type": "code",
   "execution_count": 24,
   "metadata": {},
   "outputs": [],
   "source": [
    "assert len(training_years)*12 == len(training_data)\n",
    "#assert len(training_years)*12 == len(training_anomalies)"
   ]
  },
  {
   "cell_type": "markdown",
   "metadata": {},
   "source": [
    "### Plotting training data, mean, acf and pacf"
   ]
  },
  {
   "cell_type": "code",
   "execution_count": 25,
   "metadata": {},
   "outputs": [
    {
     "data": {
      "image/png": "[encoded data removed]",
      "text/plain": [
       "<Figure size 432x288 with 1 Axes>"
      ]
     },
     "metadata": {
      "needs_background": "light"
     },
     "output_type": "display_data"
    }
   ],
   "source": [
    "plt.plot(training_data)\n",
    "plt.xticks(range(0,len(training_data)+1,12),labels=training_years)\n",
    "plt.show()"
   ]
  },
  {
   "cell_type": "code",
   "execution_count": 26,
   "metadata": {},
   "outputs": [],
   "source": [
    "# plt.plot(training_anomalies)\n",
    "# plt.xticks(range(0,len(training_anomalies)+1,12),labels=training_years)\n",
    "# plt.show()"
   ]
  },
  {
   "cell_type": "markdown",
   "metadata": {},
   "source": [
    "### Plotting test data"
   ]
  },
  {
   "cell_type": "code",
   "execution_count": 27,
   "metadata": {},
   "outputs": [
    {
     "data": {
      "image/png": "[encoded data removed]",
      "text/plain": [
       "<Figure size 432x288 with 1 Axes>"
      ]
     },
     "metadata": {
      "needs_background": "light"
     },
     "output_type": "display_data"
    }
   ],
   "source": [
    "plt.plot(test_data)\n",
    "plt.xticks(range(0,len(test_data)+1,12),labels=testing_years)\n",
    "plt.show()"
   ]
  },
  {
   "cell_type": "markdown",
   "metadata": {},
   "source": [
    "### Plotting train & test data"
   ]
  },
  {
   "cell_type": "code",
   "execution_count": 28,
   "metadata": {},
   "outputs": [
    {
     "data": {
      "image/png": "[encoded data removed]",
      "text/plain": [
       "<Figure size 432x288 with 1 Axes>"
      ]
     },
     "metadata": {
      "needs_background": "light"
     },
     "output_type": "display_data"
    }
   ],
   "source": [
    "plt.plot(range(0,len(training_data)),training_data,label='train')\n",
    "plt.plot(range(len(training_data),len(training_data)+len(test_data)),test_data,label='test')\n",
    "plt.xticks(range(0,len(training_data)+len(test_data)+1,12),labels=list(training_years)+list(testing_years))\n",
    "plt.legend()\n",
    "plt.show()"
   ]
  },
  {
   "cell_type": "code",
   "execution_count": 29,
   "metadata": {},
   "outputs": [
    {
     "data": {
      "image/png": "[encoded data removed]",
      "text/plain": [
       "<Figure size 864x576 with 2 Axes>"
      ]
     },
     "metadata": {
      "needs_background": "light"
     },
     "output_type": "display_data"
    }
   ],
   "source": [
    "fig = plt.figure(figsize=(12,8))\n",
    "ax1 = fig.add_subplot(211)\n",
    "fig = sm.graphics.tsa.plot_acf(training_data, lags=40, ax=ax1)\n",
    "ax2 = fig.add_subplot(212)\n",
    "fig = sm.graphics.tsa.plot_pacf(training_data, lags=40, ax=ax2)\n",
    "plt.show()"
   ]
  },
  {
   "cell_type": "markdown",
   "metadata": {},
   "source": [
    "## Loading fake non linear data"
   ]
  },
  {
   "cell_type": "code",
   "execution_count": null,
   "metadata": {},
   "outputs": [],
   "source": [
    "LOAD_DATA = True\n",
    "\n",
    "training_data_file_name = f'fake_nonlinear_training_data_{p}.npy'\n",
    "testing_data_file_name = f'fake_nonlinear_test_data_{p}.npy'\n",
    "\n",
    "if LOAD_DATA:\n",
    "    training_data = np.load(training_data_file_name)\n",
    "    test_data = np.load(testing_data_file_name)\n",
    "else:\n",
    "    np.save(training_data_file_name,training_data)\n",
    "    np.save(testing_data_file_name,test_data)"
   ]
  },
  {
   "cell_type": "markdown",
   "metadata": {},
   "source": [
    "### Plotting training data, mean, acf and pacf"
   ]
  },
  {
   "cell_type": "code",
   "execution_count": null,
   "metadata": {},
   "outputs": [],
   "source": [
    "plt.plot(training_data)\n",
    "plt.xticks(range(0,len(training_data)+1,12),labels=training_years)\n",
    "plt.show()"
   ]
  },
  {
   "cell_type": "markdown",
   "metadata": {},
   "source": [
    "### Plotting test data"
   ]
  },
  {
   "cell_type": "code",
   "execution_count": null,
   "metadata": {},
   "outputs": [],
   "source": [
    "plt.plot(test_data)\n",
    "plt.xticks(range(0,len(test_data)+1,12),labels=testing_years)\n",
    "plt.show()"
   ]
  },
  {
   "cell_type": "markdown",
   "metadata": {},
   "source": [
    "### Plotting train & test data"
   ]
  },
  {
   "cell_type": "code",
   "execution_count": null,
   "metadata": {},
   "outputs": [],
   "source": [
    "plt.plot(range(0,len(training_data)),training_data,label='train')\n",
    "plt.plot(range(len(training_data),len(training_data)+len(test_data)),test_data,label='test')\n",
    "plt.xticks(range(0,len(training_data)+len(test_data)+1,12),labels=list(training_years)+list(testing_years))\n",
    "plt.legend()\n",
    "plt.show()"
   ]
  },
  {
   "cell_type": "markdown",
   "metadata": {},
   "source": [
    "### Scaling data"
   ]
  },
  {
   "cell_type": "code",
   "execution_count": null,
   "metadata": {},
   "outputs": [],
   "source": [
    "training_data = np.array(training_data)\n",
    "test_data = np.array(test_data)"
   ]
  },
  {
   "cell_type": "code",
   "execution_count": null,
   "metadata": {},
   "outputs": [],
   "source": [
    "scaler = MinMaxScaler(feature_range=(-1, 1))\n",
    "scaled_training_data = scaler.fit_transform(training_data.reshape(-1, 1))\n",
    "scaled_test_data = scaler.transform(test_data.reshape(-1, 1))"
   ]
  },
  {
   "cell_type": "code",
   "execution_count": null,
   "metadata": {},
   "outputs": [],
   "source": [
    "# scaled_training_data = training_data - np.tile(means,int(len(training_data)/12))\n",
    "\n",
    "# test_data = get_data(filtered_data,testing_years)\n",
    "# test_anomalies = get_data(anomaly_data_dict,testing_years)\n",
    "# scaled_test_data = test_data - np.tile(means,int(len(test_data)/12))"
   ]
  },
  {
   "cell_type": "markdown",
   "metadata": {},
   "source": [
    "### Plotting scaled training data, acf and pacf"
   ]
  },
  {
   "cell_type": "code",
   "execution_count": null,
   "metadata": {},
   "outputs": [],
   "source": [
    "plt.plot(training_data)\n",
    "#plt.plot(reqd_means)\n",
    "plt.xticks(range(0,len(training_data)+1,12),labels=training_years)\n",
    "plt.show()"
   ]
  },
  {
   "cell_type": "code",
   "execution_count": null,
   "metadata": {},
   "outputs": [],
   "source": [
    "plt.plot(scaled_training_data)\n",
    "#plt.plot(reqd_means)\n",
    "plt.xticks(range(0,len(training_data)+1,12),labels=training_years)\n",
    "plt.show()"
   ]
  },
  {
   "cell_type": "code",
   "execution_count": null,
   "metadata": {},
   "outputs": [],
   "source": [
    "fig = plt.figure(figsize=(12,8))\n",
    "ax1 = fig.add_subplot(211)\n",
    "fig = sm.graphics.tsa.plot_acf(scaled_training_data, lags=40, ax=ax1)\n",
    "ax2 = fig.add_subplot(212)\n",
    "fig = sm.graphics.tsa.plot_pacf(scaled_training_data, lags=40, ax=ax2)\n",
    "plt.show()"
   ]
  },
  {
   "cell_type": "code",
   "execution_count": 30,
   "metadata": {},
   "outputs": [
    {
     "data": {
      "text/plain": [
       "[(tensor([-1.8834, -1.5709, -1.2302, -1.2300, -1.4364]), tensor([-0.9609])),\n",
       " (tensor([-1.5709, -1.2302, -1.2300, -1.4364, -0.9609]), tensor([-0.6977])),\n",
       " (tensor([-1.2302, -1.2300, -1.4364, -0.9609, -0.6977]), tensor([-0.7085])),\n",
       " (tensor([-1.2300, -1.4364, -0.9609, -0.6977, -0.7085]), tensor([-0.7374])),\n",
       " (tensor([-1.4364, -0.9609, -0.6977, -0.7085, -0.7374]), tensor([-0.7472]))]"
      ]
     },
     "execution_count": 30,
     "metadata": {},
     "output_type": "execute_result"
    }
   ],
   "source": [
    "train_data_normalized = torch.FloatTensor(training_data).view(-1)\n",
    "train_window = 5\n",
    "\n",
    "def create_inout_sequences(input_data, tw):\n",
    "    inout_seq = []\n",
    "    L = len(input_data)\n",
    "    for i in range(L-tw):\n",
    "        train_seq = input_data[i:i+tw]\n",
    "        train_label = input_data[i+tw:i+tw+1]\n",
    "        inout_seq.append((train_seq ,train_label))\n",
    "    return inout_seq\n",
    "\n",
    "train_inout_seq = create_inout_sequences(train_data_normalized, train_window)\n",
    "\n",
    "train_inout_seq[:5]"
   ]
  },
  {
   "cell_type": "code",
   "execution_count": 31,
   "metadata": {},
   "outputs": [
    {
     "data": {
      "text/plain": [
       "[(tensor([-0.4234, -0.2509, -0.0602,  0.4700,  0.9636]), tensor([1.3991])),\n",
       " (tensor([-0.2509, -0.0602,  0.4700,  0.9636,  1.3991]), tensor([1.8723])),\n",
       " (tensor([-0.0602,  0.4700,  0.9636,  1.3991,  1.8723]), tensor([2.1615])),\n",
       " (tensor([0.4700, 0.9636, 1.3991, 1.8723, 2.1615]), tensor([2.3726])),\n",
       " (tensor([0.9636, 1.3991, 1.8723, 2.1615, 2.3726]), tensor([2.6428]))]"
      ]
     },
     "execution_count": 31,
     "metadata": {},
     "output_type": "execute_result"
    }
   ],
   "source": [
    "test_data_normalized = torch.FloatTensor(test_data).view(-1)\n",
    "\n",
    "test_inout_seq = create_inout_sequences(test_data_normalized, train_window)\n",
    "\n",
    "test_inout_seq[:5]"
   ]
  },
  {
   "cell_type": "code",
   "execution_count": 33,
   "metadata": {},
   "outputs": [],
   "source": [
    "# print(f'scaled_training_data: {len(scaled_training_data)}\\n\\\n",
    "# scaled_test_data: {len(scaled_test_data)}\\n\\\n",
    "# training_data: {len(training_data)}\\n\\\n",
    "# test_data: {len(test_data)}\\n\\\n",
    "# train_inout_seq: {len(train_inout_seq)}\\n\\\n",
    "# test_inout_seq: {len(test_inout_seq)}\\n\\\n",
    "# ')"
   ]
  },
  {
   "cell_type": "code",
   "execution_count": 34,
   "metadata": {},
   "outputs": [],
   "source": [
    "import torch.nn as nn\n",
    "import torch.optim as optim\n",
    "\n",
    "class LSTM(nn.Module):\n",
    "    def __init__(self, input_size=1, hidden_layer_size=10, num_hidden_layers=1, output_size=1):\n",
    "        super().__init__()\n",
    "        self.hidden_layer_size = hidden_layer_size\n",
    "\n",
    "        self.lstm = nn.LSTM(input_size, hidden_layer_size, num_hidden_layers)\n",
    "\n",
    "        self.linear = nn.Linear(hidden_layer_size, output_size)\n",
    "\n",
    "#         self.hidden_cell = (torch.zeros(1,1,self.hidden_layer_size),\n",
    "#                             torch.zeros(1,1,self.hidden_layer_size))\n",
    "\n",
    "    def forward(self, input_seq):\n",
    "        #lstm_out, self.hidden_cell = self.lstm(input_seq.view(len(input_seq) ,1, -1), self.hidden_cell)\n",
    "        format_input = input_seq.view(len(input_seq) ,1, -1)\n",
    "        lstm_out,_ = self.lstm(format_input)\n",
    "        predictions = self.linear(lstm_out.view(len(input_seq), -1))\n",
    "        return predictions[-1]"
   ]
  },
  {
   "cell_type": "markdown",
   "metadata": {},
   "source": [
    "### Fitting LSTM model"
   ]
  },
  {
   "cell_type": "code",
   "execution_count": null,
   "metadata": {},
   "outputs": [],
   "source": [
    "# input_size=1\n",
    "# num_hidden_layers=2\n",
    "# hidden_layer_size=100\n",
    "# output_size=1\n",
    "\n",
    "# model = LSTM(input_size,hidden_layer_size,num_hidden_layers,output_size)\n",
    "# loss_function = nn.MSELoss()\n",
    "# optimizer = torch.optim.Adam(model.parameters(), lr=0.001)\n",
    "# scheduler = ReduceLROnPlateau(optimizer, 'min', verbose=True, patience=4)\n",
    "# print(model)"
   ]
  },
  {
   "cell_type": "code",
   "execution_count": null,
   "metadata": {},
   "outputs": [],
   "source": [
    "# epochs = 150\n",
    "\n",
    "# for i in range(epochs):\n",
    "#     for seq, labels in train_inout_seq:\n",
    "#         optimizer.zero_grad()\n",
    "# #         model.hidden_cell = (torch.zeros(1, 1, model.hidden_layer_size),\n",
    "# #                         torch.zeros(1, 1, model.hidden_layer_size))\n",
    "\n",
    "#         y_pred = model(seq)\n",
    "\n",
    "#         single_loss = loss_function(y_pred, labels)\n",
    "#         single_loss.backward()\n",
    "#         optimizer.step()\n",
    "\n",
    "#     if i%25 == 1:\n",
    "#         print(f'epoch: {i:3} loss: {single_loss.item():10.8f}')\n",
    "\n",
    "# print(f'epoch: {i:3} loss: {single_loss.item():10.10f}')"
   ]
  },
  {
   "cell_type": "code",
   "execution_count": null,
   "metadata": {},
   "outputs": [],
   "source": [
    "# train_window = 12\n",
    "# fut_pred = 12\n",
    "\n",
    "# test_inputs = train_data_normalized[-train_window:].tolist()\n",
    "# print(test_inputs)\n",
    "\n",
    "# model.eval()\n",
    "\n",
    "# for i in range(fut_pred):\n",
    "#     seq = torch.FloatTensor(test_inputs[-train_window:])\n",
    "#     with torch.no_grad():\n",
    "# #         model.hidden = (torch.zeros(1, 1, model.hidden_layer_size),\n",
    "# #                         torch.zeros(1, 1, model.hidden_layer_size))\n",
    "#         test_inputs.append(model(seq).item())\n",
    "        \n",
    "# print(test_inputs[fut_pred:])\n",
    "\n",
    "# actual_predictions = scaler.inverse_transform(np.array(test_inputs[train_window:] ).reshape(-1, 1))\n",
    "# print(actual_predictions)"
   ]
  },
  {
   "cell_type": "code",
   "execution_count": null,
   "metadata": {},
   "outputs": [],
   "source": [
    "# x = np.arange(132, 144, 1)\n",
    "# print(x)"
   ]
  },
  {
   "cell_type": "code",
   "execution_count": null,
   "metadata": {},
   "outputs": [],
   "source": [
    "# plt.title('Month vs Passenger')\n",
    "# plt.ylabel('Total Passengers')\n",
    "# plt.grid(True)\n",
    "# plt.autoscale(axis='x', tight=True)\n",
    "# plt.plot(flight_data['passengers'])\n",
    "# plt.plot(x,actual_predictions)\n",
    "# plt.show()"
   ]
  },
  {
   "cell_type": "markdown",
   "metadata": {},
   "source": [
    "## FITTING RNN MODEL"
   ]
  },
  {
   "cell_type": "code",
   "execution_count": 41,
   "metadata": {},
   "outputs": [],
   "source": [
    "def evaluate(rescale=True, display_plots=False):\n",
    "    model.eval()\n",
    "    scaled_predictions = []\n",
    "    scaled_actuals = []\n",
    "    for i in range(len(test_inout_seq)):\n",
    "        seq = torch.FloatTensor(test_inout_seq[i][0])\n",
    "        scaled_actuals.append(test_inout_seq[i][1].item())\n",
    "        with torch.no_grad():\n",
    "#             model.hidden = (torch.zeros(1, 1, model.hidden_layer_size),\n",
    "#                             torch.zeros(1, 1, model.hidden_layer_size))\n",
    "            scaled_predictions.append(model(seq).item())\n",
    "    if rescale:\n",
    "        actuals = scaler.inverse_transform(np.array(scaled_actuals).reshape(-1, 1))\n",
    "        predictions = scaler.inverse_transform(np.array(scaled_predictions).reshape(-1, 1))\n",
    "    else:\n",
    "        actuals=scaled_actuals\n",
    "        predictions=scaled_predictions\n",
    "    a1 = actuals\n",
    "    p1 = predictions\n",
    "    #actuals = test_data\n",
    "    if display_plots:\n",
    "        plt.plot(actuals,label='Truth')\n",
    "        plt.plot(predictions,label='Preds')\n",
    "        plt.xticks(range(0,len(test_data)+1,12),labels=testing_years)\n",
    "        plt.legend()\n",
    "        plt.show()\n",
    "    test_mrse = mrse(actuals,predictions)\n",
    "    test_re = re(actuals,predictions)\n",
    "    test_error = error(actuals,predictions)\n",
    "    return test_mrse,test_re,test_error,a1,p1\n",
    "    #print(f'Test MRSE: {test_mrse}\\nTest RE: {test_re}\\nTest ERROR: {test_error}')"
   ]
  },
  {
   "cell_type": "markdown",
   "metadata": {},
   "source": [
    "## GRID SEARCH FOR RNN"
   ]
  },
  {
   "cell_type": "code",
   "execution_count": 37,
   "metadata": {},
   "outputs": [
    {
     "name": "stdout",
     "output_type": "stream",
     "text": [
      "LSTM(\n",
      "  (lstm): LSTM(1, 64)\n",
      "  (linear): Linear(in_features=64, out_features=1, bias=True)\n",
      ")\n",
      "Best Model saved at epoch: 0 with metric: 0.36838357789215226 num_hidden_layers: 1 hidden_layer_size: 64\n",
      "epoch:   1 loss: 62.07546470\n",
      "Best Model saved at epoch: 1 with metric: 0.278198240636237 num_hidden_layers: 1 hidden_layer_size: 64\n",
      "Best Model saved at epoch: 2 with metric: 0.2496728604776253 num_hidden_layers: 1 hidden_layer_size: 64\n",
      "Best Model saved at epoch: 3 with metric: 0.23622537615779077 num_hidden_layers: 1 hidden_layer_size: 64\n",
      "Best Model saved at epoch: 4 with metric: 0.23040026744288852 num_hidden_layers: 1 hidden_layer_size: 64\n",
      "Best Model saved at epoch: 5 with metric: 0.22700325257823664 num_hidden_layers: 1 hidden_layer_size: 64\n",
      "epoch:   6 loss: 34.74424839\n",
      "Best Model saved at epoch: 6 with metric: 0.22500286152001825 num_hidden_layers: 1 hidden_layer_size: 64\n",
      "Best Model saved at epoch: 7 with metric: 0.2238300258617555 num_hidden_layers: 1 hidden_layer_size: 64\n",
      "Best Model saved at epoch: 8 with metric: 0.22312621620538636 num_hidden_layers: 1 hidden_layer_size: 64\n",
      "Best Model saved at epoch: 9 with metric: 0.22267508294403293 num_hidden_layers: 1 hidden_layer_size: 64\n",
      "Best Model saved at epoch: 10 with metric: 0.22235145039393384 num_hidden_layers: 1 hidden_layer_size: 64\n",
      "epoch:  11 loss: 34.22506633\n",
      "Best Model saved at epoch: 11 with metric: 0.22209290377314372 num_hidden_layers: 1 hidden_layer_size: 64\n",
      "Best Model saved at epoch: 12 with metric: 0.22185822207711164 num_hidden_layers: 1 hidden_layer_size: 64\n",
      "Best Model saved at epoch: 13 with metric: 0.22163469905198332 num_hidden_layers: 1 hidden_layer_size: 64\n",
      "Best Model saved at epoch: 14 with metric: 0.22140397053280056 num_hidden_layers: 1 hidden_layer_size: 64\n",
      "Best Model saved at epoch: 15 with metric: 0.221181075081355 num_hidden_layers: 1 hidden_layer_size: 64\n",
      "epoch:  16 loss: 33.81462376\n",
      "Best Model saved at epoch: 16 with metric: 0.2209590925062517 num_hidden_layers: 1 hidden_layer_size: 64\n",
      "Best Model saved at epoch: 17 with metric: 0.22076464205671995 num_hidden_layers: 1 hidden_layer_size: 64\n",
      "Best Model saved at epoch: 18 with metric: 0.22060137338634123 num_hidden_layers: 1 hidden_layer_size: 64\n",
      "Best Model saved at epoch: 19 with metric: 0.2204701792249887 num_hidden_layers: 1 hidden_layer_size: 64\n",
      "Best Model saved at epoch: 20 with metric: 0.22035945360616094 num_hidden_layers: 1 hidden_layer_size: 64\n",
      "epoch:  21 loss: 33.36878418\n",
      "Best Model saved at epoch: 21 with metric: 0.22027125723375088 num_hidden_layers: 1 hidden_layer_size: 64\n",
      "Best Model saved at epoch: 22 with metric: 0.2202096070967176 num_hidden_layers: 1 hidden_layer_size: 64\n",
      "Best Model saved at epoch: 23 with metric: 0.22018459980719546 num_hidden_layers: 1 hidden_layer_size: 64\n",
      "epoch:  26 loss: 32.94419025\n",
      "Epoch    28: reducing learning rate of group 0 to 1.0000e-04.\n",
      "Best Model saved at epoch: 29 with metric: 0.21801674617164052 num_hidden_layers: 1 hidden_layer_size: 64\n",
      "Best Model saved at epoch: 30 with metric: 0.217592961243286 num_hidden_layers: 1 hidden_layer_size: 64\n",
      "epoch:  31 loss: 30.29170399\n",
      "Best Model saved at epoch: 31 with metric: 0.21740557679298375 num_hidden_layers: 1 hidden_layer_size: 64\n",
      "Best Model saved at epoch: 32 with metric: 0.21732314901906144 num_hidden_layers: 1 hidden_layer_size: 64\n",
      "Best Model saved at epoch: 33 with metric: 0.2172973698847529 num_hidden_layers: 1 hidden_layer_size: 64\n",
      "epoch:  36 loss: 30.18704860\n",
      "Epoch    38: reducing learning rate of group 0 to 1.0000e-05.\n",
      "epoch:  41 loss: 29.86117214\n",
      "Epoch    43: reducing learning rate of group 0 to 1.0000e-06.\n",
      "LR lower than threshold {lr_threshold}. stopping training\n",
      "epoch:  44 loss: 0.1180244684\n"
     ]
    }
   ],
   "source": [
    "p=5\n",
    "layers = [1,2,3]\n",
    "sizes = [10,25,50,100,150,200]\n",
    "layers = [1]\n",
    "sizes = [64]\n",
    "epochs = 100\n",
    "loss_function = nn.MSELoss()\n",
    "input_size=1\n",
    "output_size=1\n",
    "skip_cnt = 0\n",
    "lr_threshold = 1e-5\n",
    "best_test_metric = np.inf\n",
    "best_path = None\n",
    "for a,l in enumerate(layers):\n",
    "    for b,s in enumerate(sizes):\n",
    "        if (a*len(sizes))+(b)<skip_cnt:\n",
    "            print(f'Skipping num_hidden_layers: {l} hidden_layer_size: {s}')\n",
    "        else:\n",
    "            num_hidden_layers=l\n",
    "            hidden_layer_size=s\n",
    "            prev_running_loss = np.inf\n",
    "            model = LSTM(input_size,hidden_layer_size,num_hidden_layers,output_size)\n",
    "            print(model)\n",
    "            optimizer = torch.optim.Adam(model.parameters(), lr=0.001)\n",
    "            scheduler = ReduceLROnPlateau(optimizer, 'min', verbose=True, patience=4)\n",
    "            best_model_params = model.state_dict()\n",
    "            PATH = f'ensomodels/best_rnn_model_{p}_{l}_{s}.pth'\n",
    "\n",
    "            for i in range(epochs):\n",
    "                running_loss = 0.0\n",
    "                cnt=0\n",
    "                for seq, labels in train_inout_seq:\n",
    "                    optimizer.zero_grad()\n",
    "            #         model.hidden_cell = (torch.zeros(1, 1, model.hidden_layer_size),\n",
    "            #                         torch.zeros(1, 1, model.hidden_layer_size))\n",
    "\n",
    "                    y_pred = model(seq)\n",
    "                    single_loss = loss_function(y_pred, labels)\n",
    "                    single_loss.backward()\n",
    "                    optimizer.step()\n",
    "                    current_loss = single_loss.item()\n",
    "                    running_loss += current_loss\n",
    "                current_lr = get_lr(optimizer)\n",
    "                if current_lr < lr_threshold:\n",
    "                    print('LR lower than threshold {lr_threshold}. stopping training')\n",
    "                    break\n",
    "                    \n",
    "#                 if running_loss > prev_running_loss:\n",
    "#                     print('Training loss started to increase. stopping training...')\n",
    "#                     prev_running_loss = running_loss\n",
    "#                     cnt += 1\n",
    "#                     if cnt > 4:   \n",
    "#                         break\n",
    "#                 else:\n",
    "#                     cnt=0\n",
    "                prev_running_loss = running_loss\n",
    "                test_mrse,test_re,test_error,_,_ = evaluate(False,False)\n",
    "                \n",
    "                if i%5 == 1:\n",
    "                    print(f'epoch: {i:3} loss: {running_loss:10.8f}')\n",
    "                test_metric = test_error \n",
    "                scheduler.step(test_metric)\n",
    "                if(test_metric < best_test_metric):\n",
    "                    count = 0\n",
    "                    best_test_metric = test_metric\n",
    "                    best_path = PATH\n",
    "                    torch.save({\n",
    "                        'state_dict': model.state_dict(),\n",
    "                        }, PATH)\n",
    "                    print(f\"Best Model saved at epoch: {i} with metric: {best_test_metric} num_hidden_layers: {l} hidden_layer_size: {s}\")\n",
    "                else:\n",
    "                    count+=1\n",
    "            #     if(count >= 5):\n",
    "            #         print(\"Validation has not improved since 5 epochs. Early Stopping...\")\n",
    "            #         break\n",
    "            print(f'epoch: {i:3} loss: {single_loss.item():10.10f}')"
   ]
  },
  {
   "cell_type": "code",
   "execution_count": 38,
   "metadata": {},
   "outputs": [],
   "source": [
    "num_hidden_layers=int(best_path.split('_')[-2])\n",
    "hidden_layer_size=int(best_path.split('_')[-1].split('.')[0])"
   ]
  },
  {
   "cell_type": "code",
   "execution_count": 39,
   "metadata": {},
   "outputs": [
    {
     "data": {
      "text/plain": [
       "('ensomodels/best_rnn_model_5_1_64.pth', 1, 64)"
      ]
     },
     "execution_count": 39,
     "metadata": {},
     "output_type": "execute_result"
    }
   ],
   "source": [
    "best_path,num_hidden_layers,hidden_layer_size"
   ]
  },
  {
   "cell_type": "code",
   "execution_count": 42,
   "metadata": {},
   "outputs": [
    {
     "data": {
      "image/png": "[encoded data removed]",
      "text/plain": [
       "<Figure size 432x288 with 1 Axes>"
      ]
     },
     "metadata": {
      "needs_background": "light"
     },
     "output_type": "display_data"
    },
    {
     "name": "stdout",
     "output_type": "stream",
     "text": [
      "Test MRSE: 0.22781919278738896\n",
      "Test RE: 0.22636295536864917\n",
      "Test ERROR: 0.2172973698847529\n"
     ]
    }
   ],
   "source": [
    "model = LSTM(input_size,hidden_layer_size,num_hidden_layers,output_size)\n",
    "model_dict = torch.load(best_path)\n",
    "model.load_state_dict(model_dict['state_dict'])\n",
    "test_mrse,test_re,test_error,a1,p1 = evaluate(rescale=False,display_plots=True)\n",
    "print(f'Test MRSE: {test_mrse}\\nTest RE: {test_re}\\nTest ERROR: {test_error}')"
   ]
  },
  {
   "cell_type": "code",
   "execution_count": null,
   "metadata": {},
   "outputs": [],
   "source": []
  },
  {
   "cell_type": "code",
   "execution_count": null,
   "metadata": {},
   "outputs": [],
   "source": []
  },
  {
   "cell_type": "code",
   "execution_count": null,
   "metadata": {},
   "outputs": [],
   "source": []
  },
  {
   "cell_type": "code",
   "execution_count": null,
   "metadata": {},
   "outputs": [],
   "source": []
  },
  {
   "cell_type": "code",
   "execution_count": null,
   "metadata": {},
   "outputs": [],
   "source": []
  },
  {
   "cell_type": "code",
   "execution_count": null,
   "metadata": {},
   "outputs": [],
   "source": []
  },
  {
   "cell_type": "code",
   "execution_count": null,
   "metadata": {},
   "outputs": [],
   "source": []
  },
  {
   "cell_type": "code",
   "execution_count": null,
   "metadata": {},
   "outputs": [],
   "source": []
  }
 ],
 "metadata": {
  "kernelspec": {
   "display_name": "Python 3",
   "language": "python",
   "name": "python3"
  },
  "language_info": {
   "codemirror_mode": {
    "name": "ipython",
    "version": 3
   },
   "file_extension": ".py",
   "mimetype": "text/x-python",
   "name": "python",
   "nbconvert_exporter": "python",
   "pygments_lexer": "ipython3",
   "version": "3.6.9"
  }
 },
 "nbformat": 4,
 "nbformat_minor": 4
}
